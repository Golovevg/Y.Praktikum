{
 "cells": [
  {
   "cell_type": "code",
   "execution_count": 1,
   "metadata": {},
   "outputs": [],
   "source": [
    "import requests\n",
    "import pandas as pd\n",
    "import json"
   ]
  },
  {
   "cell_type": "markdown",
   "metadata": {},
   "source": [
    "### Recieve DATA"
   ]
  },
  {
   "cell_type": "code",
   "execution_count": 2,
   "metadata": {},
   "outputs": [],
   "source": [
    "x = requests.get('http://127.0.0.1:5000/transactions') "
   ]
  },
  {
   "cell_type": "code",
   "execution_count": 3,
   "metadata": {},
   "outputs": [],
   "source": [
    "data = x.json()"
   ]
  },
  {
   "cell_type": "code",
   "execution_count": 4,
   "metadata": {
    "scrolled": true
   },
   "outputs": [
    {
     "data": {
      "text/plain": [
       "dict_keys(['error', 'transactions'])"
      ]
     },
     "execution_count": 4,
     "metadata": {},
     "output_type": "execute_result"
    }
   ],
   "source": [
    "data.keys()"
   ]
  },
  {
   "cell_type": "markdown",
   "metadata": {},
   "source": [
    "### Pell off"
   ]
  },
  {
   "cell_type": "code",
   "execution_count": 5,
   "metadata": {},
   "outputs": [],
   "source": [
    "t = data['transactions']"
   ]
  },
  {
   "cell_type": "code",
   "execution_count": 6,
   "metadata": {},
   "outputs": [
    {
     "data": {
      "text/plain": [
       "dict_keys(['accounts', 'item', 'request_id', 'total_transactions', 'transactions'])"
      ]
     },
     "execution_count": 6,
     "metadata": {},
     "output_type": "execute_result"
    }
   ],
   "source": [
    "t.keys()"
   ]
  },
  {
   "cell_type": "code",
   "execution_count": 7,
   "metadata": {},
   "outputs": [],
   "source": [
    "transactions = pd.DataFrame(t['transactions'])"
   ]
  },
  {
   "cell_type": "code",
   "execution_count": 8,
   "metadata": {},
   "outputs": [],
   "source": [
    "transactions = transactions[['name', 'amount', 'category', 'date', 'account_id']]\n"
   ]
  },
  {
   "cell_type": "code",
   "execution_count": 9,
   "metadata": {},
   "outputs": [],
   "source": [
    "accounts = pd.DataFrame(t['accounts'])"
   ]
  },
  {
   "cell_type": "code",
   "execution_count": 10,
   "metadata": {},
   "outputs": [],
   "source": [
    "balances = pd.DataFrame(accounts['balances'].tolist())"
   ]
  },
  {
   "cell_type": "code",
   "execution_count": 11,
   "metadata": {},
   "outputs": [],
   "source": [
    "result = accounts.join(balances)"
   ]
  },
  {
   "cell_type": "code",
   "execution_count": 12,
   "metadata": {},
   "outputs": [],
   "source": [
    "result = transactions.merge(result, on = 'account_id', how = 'left').reset_index()"
   ]
  },
  {
   "cell_type": "code",
   "execution_count": 13,
   "metadata": {},
   "outputs": [],
   "source": [
    "result = result[['name_x', 'amount', 'category', 'date', 'account_id', 'available', 'current', 'limit']].sort_values(['account_id'], \n",
    "                                   ascending = False).reset_index().drop(['index'], axis = 1).fillna(0).rename({'name_x':'name'}, axis=1)"
   ]
  },
  {
   "cell_type": "markdown",
   "metadata": {},
   "source": [
    "### Dirty data"
   ]
  },
  {
   "cell_type": "code",
   "execution_count": 14,
   "metadata": {},
   "outputs": [],
   "source": [
    "result = result.fillna(0)"
   ]
  },
  {
   "cell_type": "code",
   "execution_count": 15,
   "metadata": {},
   "outputs": [],
   "source": [
    "dirty = result"
   ]
  },
  {
   "cell_type": "markdown",
   "metadata": {},
   "source": [
    "### Category devider"
   ]
  },
  {
   "cell_type": "code",
   "execution_count": 16,
   "metadata": {},
   "outputs": [],
   "source": [
    "cat = []\n",
    "for elem in result['category']: \n",
    "    res_str = ' / '.join(elem)\n",
    "    cat.append(res_str)"
   ]
  },
  {
   "cell_type": "code",
   "execution_count": 17,
   "metadata": {},
   "outputs": [],
   "source": [
    "result['category'] = cat"
   ]
  },
  {
   "cell_type": "code",
   "execution_count": 18,
   "metadata": {},
   "outputs": [
    {
     "data": {
      "text/html": [
       "<div>\n",
       "<style scoped>\n",
       "    .dataframe tbody tr th:only-of-type {\n",
       "        vertical-align: middle;\n",
       "    }\n",
       "\n",
       "    .dataframe tbody tr th {\n",
       "        vertical-align: top;\n",
       "    }\n",
       "\n",
       "    .dataframe thead th {\n",
       "        text-align: right;\n",
       "    }\n",
       "</style>\n",
       "<table border=\"1\" class=\"dataframe\">\n",
       "  <thead>\n",
       "    <tr style=\"text-align: right;\">\n",
       "      <th></th>\n",
       "      <th>name</th>\n",
       "      <th>amount</th>\n",
       "      <th>category</th>\n",
       "      <th>date</th>\n",
       "      <th>account_id</th>\n",
       "      <th>available</th>\n",
       "      <th>current</th>\n",
       "      <th>limit</th>\n",
       "    </tr>\n",
       "  </thead>\n",
       "  <tbody>\n",
       "    <tr>\n",
       "      <td>0</td>\n",
       "      <td>CD DEPOSIT .INITIAL.</td>\n",
       "      <td>1000.0</td>\n",
       "      <td>Transfer / Deposit</td>\n",
       "      <td>2020-05-14</td>\n",
       "      <td>xGgpoR9yn5Uo3K5m93pKTlXpDEPkBACnqqxDo</td>\n",
       "      <td>0.0</td>\n",
       "      <td>1000.0</td>\n",
       "      <td>0.0</td>\n",
       "    </tr>\n",
       "    <tr>\n",
       "      <td>1</td>\n",
       "      <td>Tectra Inc</td>\n",
       "      <td>500.0</td>\n",
       "      <td>Food and Drink / Restaurants</td>\n",
       "      <td>2020-05-25</td>\n",
       "      <td>dkDqKNjB68tGDQbvmDaQHKgpP6Z4AXcZmmv4k</td>\n",
       "      <td>0.0</td>\n",
       "      <td>410.0</td>\n",
       "      <td>2000.0</td>\n",
       "    </tr>\n",
       "    <tr>\n",
       "      <td>2</td>\n",
       "      <td>AUTOMATIC PAYMENT - THANK</td>\n",
       "      <td>2078.5</td>\n",
       "      <td>Payment</td>\n",
       "      <td>2020-05-24</td>\n",
       "      <td>dkDqKNjB68tGDQbvmDaQHKgpP6Z4AXcZmmv4k</td>\n",
       "      <td>0.0</td>\n",
       "      <td>410.0</td>\n",
       "      <td>2000.0</td>\n",
       "    </tr>\n",
       "    <tr>\n",
       "      <td>3</td>\n",
       "      <td>KFC</td>\n",
       "      <td>500.0</td>\n",
       "      <td>Food and Drink / Restaurants / Fast Food</td>\n",
       "      <td>2020-05-24</td>\n",
       "      <td>dkDqKNjB68tGDQbvmDaQHKgpP6Z4AXcZmmv4k</td>\n",
       "      <td>0.0</td>\n",
       "      <td>410.0</td>\n",
       "      <td>2000.0</td>\n",
       "    </tr>\n",
       "    <tr>\n",
       "      <td>4</td>\n",
       "      <td>Madison Bicycle Shop</td>\n",
       "      <td>500.0</td>\n",
       "      <td>Shops / Sporting Goods</td>\n",
       "      <td>2020-05-24</td>\n",
       "      <td>dkDqKNjB68tGDQbvmDaQHKgpP6Z4AXcZmmv4k</td>\n",
       "      <td>0.0</td>\n",
       "      <td>410.0</td>\n",
       "      <td>2000.0</td>\n",
       "    </tr>\n",
       "  </tbody>\n",
       "</table>\n",
       "</div>"
      ],
      "text/plain": [
       "                        name  amount  \\\n",
       "0       CD DEPOSIT .INITIAL.  1000.0   \n",
       "1                 Tectra Inc   500.0   \n",
       "2  AUTOMATIC PAYMENT - THANK  2078.5   \n",
       "3                        KFC   500.0   \n",
       "4       Madison Bicycle Shop   500.0   \n",
       "\n",
       "                                   category        date  \\\n",
       "0                        Transfer / Deposit  2020-05-14   \n",
       "1              Food and Drink / Restaurants  2020-05-25   \n",
       "2                                   Payment  2020-05-24   \n",
       "3  Food and Drink / Restaurants / Fast Food  2020-05-24   \n",
       "4                    Shops / Sporting Goods  2020-05-24   \n",
       "\n",
       "                              account_id  available  current   limit  \n",
       "0  xGgpoR9yn5Uo3K5m93pKTlXpDEPkBACnqqxDo        0.0   1000.0     0.0  \n",
       "1  dkDqKNjB68tGDQbvmDaQHKgpP6Z4AXcZmmv4k        0.0    410.0  2000.0  \n",
       "2  dkDqKNjB68tGDQbvmDaQHKgpP6Z4AXcZmmv4k        0.0    410.0  2000.0  \n",
       "3  dkDqKNjB68tGDQbvmDaQHKgpP6Z4AXcZmmv4k        0.0    410.0  2000.0  \n",
       "4  dkDqKNjB68tGDQbvmDaQHKgpP6Z4AXcZmmv4k        0.0    410.0  2000.0  "
      ]
     },
     "execution_count": 18,
     "metadata": {},
     "output_type": "execute_result"
    }
   ],
   "source": [
    "dirty.head()"
   ]
  },
  {
   "cell_type": "code",
   "execution_count": 19,
   "metadata": {},
   "outputs": [],
   "source": [
    "import httplib2 \n",
    "import apiclient.discovery\n",
    "from oauth2client.service_account import ServiceAccountCredentials"
   ]
  },
  {
   "cell_type": "markdown",
   "metadata": {},
   "source": [
    "### Connection to google "
   ]
  },
  {
   "cell_type": "code",
   "execution_count": 20,
   "metadata": {
    "scrolled": true
   },
   "outputs": [
    {
     "name": "stdout",
     "output_type": "stream",
     "text": [
      "https://docs.google.com/spreadsheets/d/1cbkFqsdsJbmB6CPMgCJ-7q8Qz_JnvoNdyR8x3uINjt0\n"
     ]
    }
   ],
   "source": [
    "CREDENTIALS_FILE = 'nice-karma-278512-2aa00c554b3a.json'  # Add json\n",
    "\n",
    "credentials = ServiceAccountCredentials.from_json_keyfile_name(CREDENTIALS_FILE, ['https://www.googleapis.com/auth/spreadsheets', 'https://www.googleapis.com/auth/drive'])\n",
    "\n",
    "httpAuth = credentials.authorize(httplib2.Http()) # Authorization\n",
    "service = apiclient.discovery.build('sheets', 'v4', http = httpAuth)  \n",
    "\n",
    "spreadsheet = service.spreadsheets().create(body = {\n",
    "    'properties': {'title': 'DataFrame', 'locale': 'ru_RU'},\n",
    "    'sheets': [{'properties': {'sheetType': 'GRID',\n",
    "                               'sheetId': 0,\n",
    "                               'title': 'Dirty_data',\n",
    "                               'gridProperties': {'rowCount': 100, 'columnCount': 15}}}]\n",
    "}).execute()\n",
    "spreadsheetId = spreadsheet['spreadsheetId'] # add sheet id\n",
    "print('https://docs.google.com/spreadsheets/d/' + spreadsheetId)"
   ]
  },
  {
   "cell_type": "code",
   "execution_count": 21,
   "metadata": {},
   "outputs": [],
   "source": [
    "driveService = apiclient.discovery.build('drive', 'v3', http = httpAuth) \n",
    "access = driveService.permissions().create(\n",
    "    fileId = spreadsheetId,\n",
    "    body = {'type': 'user', 'role': 'writer', 'emailAddress': 'binancebender9@gmail.com'},  # Add service email\n",
    ").execute()"
   ]
  },
  {
   "cell_type": "code",
   "execution_count": 22,
   "metadata": {},
   "outputs": [
    {
     "name": "stdout",
     "output_type": "stream",
     "text": [
      "0 Dirty_data\n",
      "175054880 CashFlow\n",
      "Current с Id =  0\n"
     ]
    }
   ],
   "source": [
    "#Add list\n",
    "results = service.spreadsheets().batchUpdate(\n",
    "    spreadsheetId = spreadsheetId,\n",
    "    body = \n",
    "{\n",
    "  \"requests\": [\n",
    "    {\n",
    "      \"addSheet\": {\n",
    "        \"properties\": { 'sheetType': 'GRID',\n",
    "          \"title\": \"CashFlow\",\n",
    "          \"gridProperties\": {\n",
    "            \"rowCount\": 60,\n",
    "            \"columnCount\": 12\n",
    "          }\n",
    "        }\n",
    "      }\n",
    "    }\n",
    "  ]\n",
    "}).execute()\n",
    "\n",
    "\n",
    "# List of ID\n",
    "spreadsheet = service.spreadsheets().get(spreadsheetId = spreadsheetId).execute()\n",
    "sheetList = spreadsheet.get('sheets')\n",
    "for sheet in sheetList:\n",
    "    print(sheet['properties']['sheetId'], sheet['properties']['title'])\n",
    "    \n",
    "sheetId = sheetList[0]['properties']['sheetId']\n",
    "\n",
    "print('Current с Id = ', sheetId)"
   ]
  },
  {
   "cell_type": "code",
   "execution_count": 23,
   "metadata": {},
   "outputs": [],
   "source": [
    "ID = sheet['properties']['sheetId']"
   ]
  },
  {
   "cell_type": "markdown",
   "metadata": {},
   "source": [
    "###  The table publishing"
   ]
  },
  {
   "cell_type": "code",
   "execution_count": 24,
   "metadata": {},
   "outputs": [],
   "source": [
    "results = service.spreadsheets().values().batchUpdate(spreadsheetId = spreadsheetId, body = {\n",
    "    \"valueInputOption\": \"USER_ENTERED\", # Users mod\n",
    "    \"data\": [\n",
    "        {\"range\": \"Dirty_data!B2:zzz100\",\n",
    "         \"majorDimension\": \"ROWS\",     # Row first\n",
    "         \"values\": [dirty.columns.tolist()\n",
    "                   ]}\n",
    "    ]\n",
    "}).execute()"
   ]
  },
  {
   "cell_type": "code",
   "execution_count": 25,
   "metadata": {
    "scrolled": false
   },
   "outputs": [],
   "source": [
    "final = dirty.to_numpy().tolist()"
   ]
  },
  {
   "cell_type": "code",
   "execution_count": 26,
   "metadata": {},
   "outputs": [],
   "source": [
    "results = service.spreadsheets().values().batchUpdate(spreadsheetId = spreadsheetId, body = {\n",
    "    \"valueInputOption\": \"USER_ENTERED\", # Users mode\n",
    "     \"data\": [\n",
    "        {\"range\": \"Dirty_data!B3:zzz100\",\n",
    "         \"majorDimension\": \"ROWS\",     # Row first\n",
    "         \"values\": final}\n",
    "    ]\n",
    "}).execute()"
   ]
  },
  {
   "cell_type": "code",
   "execution_count": 27,
   "metadata": {},
   "outputs": [],
   "source": [
    "result['amount'] = 0 - result['amount']"
   ]
  },
  {
   "cell_type": "code",
   "execution_count": 28,
   "metadata": {
    "scrolled": false
   },
   "outputs": [
    {
     "data": {
      "text/html": [
       "<div>\n",
       "<style scoped>\n",
       "    .dataframe tbody tr th:only-of-type {\n",
       "        vertical-align: middle;\n",
       "    }\n",
       "\n",
       "    .dataframe tbody tr th {\n",
       "        vertical-align: top;\n",
       "    }\n",
       "\n",
       "    .dataframe thead th {\n",
       "        text-align: right;\n",
       "    }\n",
       "</style>\n",
       "<table border=\"1\" class=\"dataframe\">\n",
       "  <thead>\n",
       "    <tr style=\"text-align: right;\">\n",
       "      <th></th>\n",
       "      <th>account_id</th>\n",
       "      <th>category</th>\n",
       "      <th>amount</th>\n",
       "      <th>date</th>\n",
       "    </tr>\n",
       "  </thead>\n",
       "  <tbody>\n",
       "    <tr>\n",
       "      <td>0</td>\n",
       "      <td>3rG6aLzoAdSwyMn8lyJMIWnyEoeGx7HqBBk91</td>\n",
       "      <td>Transfer / Credit</td>\n",
       "      <td>4.22</td>\n",
       "      <td>2020-05-10</td>\n",
       "    </tr>\n",
       "    <tr>\n",
       "      <td>1</td>\n",
       "      <td>3rG6aLzoAdSwyMn8lyJMIWnyEoeGx7HqBBk91</td>\n",
       "      <td>Payment / Credit Card</td>\n",
       "      <td>-25.00</td>\n",
       "      <td>2020-05-15</td>\n",
       "    </tr>\n",
       "    <tr>\n",
       "      <td>2</td>\n",
       "      <td>BMDa8v1Ab9cWle14klxeHzaWM4v63qfwQQd3G</td>\n",
       "      <td>Travel / Taxi</td>\n",
       "      <td>-6.33</td>\n",
       "      <td>2020-04-28</td>\n",
       "    </tr>\n",
       "    <tr>\n",
       "      <td>3</td>\n",
       "      <td>BMDa8v1Ab9cWle14klxeHzaWM4v63qfwQQd3G</td>\n",
       "      <td>Food and Drink / Restaurants</td>\n",
       "      <td>-89.40</td>\n",
       "      <td>2020-05-11</td>\n",
       "    </tr>\n",
       "    <tr>\n",
       "      <td>4</td>\n",
       "      <td>BMDa8v1Ab9cWle14klxeHzaWM4v63qfwQQd3G</td>\n",
       "      <td>Food and Drink / Restaurants / Coffee Shop</td>\n",
       "      <td>-4.33</td>\n",
       "      <td>2020-05-12</td>\n",
       "    </tr>\n",
       "    <tr>\n",
       "      <td>5</td>\n",
       "      <td>BMDa8v1Ab9cWle14klxeHzaWM4v63qfwQQd3G</td>\n",
       "      <td>Food and Drink / Restaurants / Fast Food</td>\n",
       "      <td>-12.00</td>\n",
       "      <td>2020-05-12</td>\n",
       "    </tr>\n",
       "    <tr>\n",
       "      <td>6</td>\n",
       "      <td>BMDa8v1Ab9cWle14klxeHzaWM4v63qfwQQd3G</td>\n",
       "      <td>Travel / Airlines and Aviation Services</td>\n",
       "      <td>500.00</td>\n",
       "      <td>2020-05-13</td>\n",
       "    </tr>\n",
       "    <tr>\n",
       "      <td>7</td>\n",
       "      <td>BMDa8v1Ab9cWle14klxeHzaWM4v63qfwQQd3G</td>\n",
       "      <td>Travel / Taxi</td>\n",
       "      <td>-5.40</td>\n",
       "      <td>2020-05-15</td>\n",
       "    </tr>\n",
       "    <tr>\n",
       "      <td>8</td>\n",
       "      <td>a8BwAP4Kb9hQyMo5By3MHLNaWv4xGVt7zz8gE</td>\n",
       "      <td>Transfer / Debit</td>\n",
       "      <td>-5850.00</td>\n",
       "      <td>2020-05-14</td>\n",
       "    </tr>\n",
       "    <tr>\n",
       "      <td>9</td>\n",
       "      <td>dkDqKNjB68tGDQbvmDaQHKgpP6Z4AXcZmmv4k</td>\n",
       "      <td>Travel / Airlines and Aviation Services</td>\n",
       "      <td>-500.00</td>\n",
       "      <td>2020-04-30</td>\n",
       "    </tr>\n",
       "    <tr>\n",
       "      <td>10</td>\n",
       "      <td>dkDqKNjB68tGDQbvmDaQHKgpP6Z4AXcZmmv4k</td>\n",
       "      <td>Recreation / Gyms and Fitness Centers</td>\n",
       "      <td>-78.50</td>\n",
       "      <td>2020-05-13</td>\n",
       "    </tr>\n",
       "    <tr>\n",
       "      <td>11</td>\n",
       "      <td>dkDqKNjB68tGDQbvmDaQHKgpP6Z4AXcZmmv4k</td>\n",
       "      <td>Food and Drink / Restaurants / Fast Food</td>\n",
       "      <td>-500.00</td>\n",
       "      <td>2020-05-24</td>\n",
       "    </tr>\n",
       "    <tr>\n",
       "      <td>12</td>\n",
       "      <td>dkDqKNjB68tGDQbvmDaQHKgpP6Z4AXcZmmv4k</td>\n",
       "      <td>Payment</td>\n",
       "      <td>-2078.50</td>\n",
       "      <td>2020-05-24</td>\n",
       "    </tr>\n",
       "    <tr>\n",
       "      <td>13</td>\n",
       "      <td>dkDqKNjB68tGDQbvmDaQHKgpP6Z4AXcZmmv4k</td>\n",
       "      <td>Shops / Sporting Goods</td>\n",
       "      <td>-500.00</td>\n",
       "      <td>2020-05-24</td>\n",
       "    </tr>\n",
       "    <tr>\n",
       "      <td>14</td>\n",
       "      <td>dkDqKNjB68tGDQbvmDaQHKgpP6Z4AXcZmmv4k</td>\n",
       "      <td>Food and Drink / Restaurants</td>\n",
       "      <td>-500.00</td>\n",
       "      <td>2020-05-25</td>\n",
       "    </tr>\n",
       "    <tr>\n",
       "      <td>15</td>\n",
       "      <td>xGgpoR9yn5Uo3K5m93pKTlXpDEPkBACnqqxDo</td>\n",
       "      <td>Transfer / Deposit</td>\n",
       "      <td>-1000.00</td>\n",
       "      <td>2020-05-14</td>\n",
       "    </tr>\n",
       "  </tbody>\n",
       "</table>\n",
       "</div>"
      ],
      "text/plain": [
       "                               account_id  \\\n",
       "0   3rG6aLzoAdSwyMn8lyJMIWnyEoeGx7HqBBk91   \n",
       "1   3rG6aLzoAdSwyMn8lyJMIWnyEoeGx7HqBBk91   \n",
       "2   BMDa8v1Ab9cWle14klxeHzaWM4v63qfwQQd3G   \n",
       "3   BMDa8v1Ab9cWle14klxeHzaWM4v63qfwQQd3G   \n",
       "4   BMDa8v1Ab9cWle14klxeHzaWM4v63qfwQQd3G   \n",
       "5   BMDa8v1Ab9cWle14klxeHzaWM4v63qfwQQd3G   \n",
       "6   BMDa8v1Ab9cWle14klxeHzaWM4v63qfwQQd3G   \n",
       "7   BMDa8v1Ab9cWle14klxeHzaWM4v63qfwQQd3G   \n",
       "8   a8BwAP4Kb9hQyMo5By3MHLNaWv4xGVt7zz8gE   \n",
       "9   dkDqKNjB68tGDQbvmDaQHKgpP6Z4AXcZmmv4k   \n",
       "10  dkDqKNjB68tGDQbvmDaQHKgpP6Z4AXcZmmv4k   \n",
       "11  dkDqKNjB68tGDQbvmDaQHKgpP6Z4AXcZmmv4k   \n",
       "12  dkDqKNjB68tGDQbvmDaQHKgpP6Z4AXcZmmv4k   \n",
       "13  dkDqKNjB68tGDQbvmDaQHKgpP6Z4AXcZmmv4k   \n",
       "14  dkDqKNjB68tGDQbvmDaQHKgpP6Z4AXcZmmv4k   \n",
       "15  xGgpoR9yn5Uo3K5m93pKTlXpDEPkBACnqqxDo   \n",
       "\n",
       "                                      category   amount        date  \n",
       "0                            Transfer / Credit     4.22  2020-05-10  \n",
       "1                        Payment / Credit Card   -25.00  2020-05-15  \n",
       "2                                Travel / Taxi    -6.33  2020-04-28  \n",
       "3                 Food and Drink / Restaurants   -89.40  2020-05-11  \n",
       "4   Food and Drink / Restaurants / Coffee Shop    -4.33  2020-05-12  \n",
       "5     Food and Drink / Restaurants / Fast Food   -12.00  2020-05-12  \n",
       "6      Travel / Airlines and Aviation Services   500.00  2020-05-13  \n",
       "7                                Travel / Taxi    -5.40  2020-05-15  \n",
       "8                             Transfer / Debit -5850.00  2020-05-14  \n",
       "9      Travel / Airlines and Aviation Services  -500.00  2020-04-30  \n",
       "10       Recreation / Gyms and Fitness Centers   -78.50  2020-05-13  \n",
       "11    Food and Drink / Restaurants / Fast Food  -500.00  2020-05-24  \n",
       "12                                     Payment -2078.50  2020-05-24  \n",
       "13                      Shops / Sporting Goods  -500.00  2020-05-24  \n",
       "14                Food and Drink / Restaurants  -500.00  2020-05-25  \n",
       "15                          Transfer / Deposit -1000.00  2020-05-14  "
      ]
     },
     "execution_count": 28,
     "metadata": {},
     "output_type": "execute_result"
    }
   ],
   "source": [
    "result.pivot_table(index = ['account_id','category', 'amount'], values = 'date',  aggfunc = 'sum').sort_values(['account_id','date']).reset_index()"
   ]
  },
  {
   "cell_type": "markdown",
   "metadata": {},
   "source": [
    "### Add Kind"
   ]
  },
  {
   "cell_type": "code",
   "execution_count": 29,
   "metadata": {},
   "outputs": [],
   "source": [
    "def flow(i):\n",
    "    if i < 0:\n",
    "        return 'expenses'\n",
    "    else:\n",
    "        return 'income'"
   ]
  },
  {
   "cell_type": "code",
   "execution_count": 30,
   "metadata": {},
   "outputs": [],
   "source": [
    "result['kind'] = result['amount'].apply(flow)"
   ]
  },
  {
   "cell_type": "code",
   "execution_count": 31,
   "metadata": {},
   "outputs": [
    {
     "data": {
      "text/html": [
       "<div>\n",
       "<style scoped>\n",
       "    .dataframe tbody tr th:only-of-type {\n",
       "        vertical-align: middle;\n",
       "    }\n",
       "\n",
       "    .dataframe tbody tr th {\n",
       "        vertical-align: top;\n",
       "    }\n",
       "\n",
       "    .dataframe thead th {\n",
       "        text-align: right;\n",
       "    }\n",
       "</style>\n",
       "<table border=\"1\" class=\"dataframe\">\n",
       "  <thead>\n",
       "    <tr style=\"text-align: right;\">\n",
       "      <th></th>\n",
       "      <th>name</th>\n",
       "      <th>amount</th>\n",
       "      <th>category</th>\n",
       "      <th>date</th>\n",
       "      <th>account_id</th>\n",
       "      <th>available</th>\n",
       "      <th>current</th>\n",
       "      <th>limit</th>\n",
       "      <th>kind</th>\n",
       "    </tr>\n",
       "  </thead>\n",
       "  <tbody>\n",
       "    <tr>\n",
       "      <td>0</td>\n",
       "      <td>CD DEPOSIT .INITIAL.</td>\n",
       "      <td>-1000.0</td>\n",
       "      <td>Transfer / Deposit</td>\n",
       "      <td>2020-05-14</td>\n",
       "      <td>xGgpoR9yn5Uo3K5m93pKTlXpDEPkBACnqqxDo</td>\n",
       "      <td>0.0</td>\n",
       "      <td>1000.0</td>\n",
       "      <td>0.0</td>\n",
       "      <td>expenses</td>\n",
       "    </tr>\n",
       "    <tr>\n",
       "      <td>1</td>\n",
       "      <td>Tectra Inc</td>\n",
       "      <td>-500.0</td>\n",
       "      <td>Food and Drink / Restaurants</td>\n",
       "      <td>2020-05-25</td>\n",
       "      <td>dkDqKNjB68tGDQbvmDaQHKgpP6Z4AXcZmmv4k</td>\n",
       "      <td>0.0</td>\n",
       "      <td>410.0</td>\n",
       "      <td>2000.0</td>\n",
       "      <td>expenses</td>\n",
       "    </tr>\n",
       "    <tr>\n",
       "      <td>2</td>\n",
       "      <td>AUTOMATIC PAYMENT - THANK</td>\n",
       "      <td>-2078.5</td>\n",
       "      <td>Payment</td>\n",
       "      <td>2020-05-24</td>\n",
       "      <td>dkDqKNjB68tGDQbvmDaQHKgpP6Z4AXcZmmv4k</td>\n",
       "      <td>0.0</td>\n",
       "      <td>410.0</td>\n",
       "      <td>2000.0</td>\n",
       "      <td>expenses</td>\n",
       "    </tr>\n",
       "    <tr>\n",
       "      <td>3</td>\n",
       "      <td>KFC</td>\n",
       "      <td>-500.0</td>\n",
       "      <td>Food and Drink / Restaurants / Fast Food</td>\n",
       "      <td>2020-05-24</td>\n",
       "      <td>dkDqKNjB68tGDQbvmDaQHKgpP6Z4AXcZmmv4k</td>\n",
       "      <td>0.0</td>\n",
       "      <td>410.0</td>\n",
       "      <td>2000.0</td>\n",
       "      <td>expenses</td>\n",
       "    </tr>\n",
       "    <tr>\n",
       "      <td>4</td>\n",
       "      <td>Madison Bicycle Shop</td>\n",
       "      <td>-500.0</td>\n",
       "      <td>Shops / Sporting Goods</td>\n",
       "      <td>2020-05-24</td>\n",
       "      <td>dkDqKNjB68tGDQbvmDaQHKgpP6Z4AXcZmmv4k</td>\n",
       "      <td>0.0</td>\n",
       "      <td>410.0</td>\n",
       "      <td>2000.0</td>\n",
       "      <td>expenses</td>\n",
       "    </tr>\n",
       "  </tbody>\n",
       "</table>\n",
       "</div>"
      ],
      "text/plain": [
       "                        name  amount  \\\n",
       "0       CD DEPOSIT .INITIAL. -1000.0   \n",
       "1                 Tectra Inc  -500.0   \n",
       "2  AUTOMATIC PAYMENT - THANK -2078.5   \n",
       "3                        KFC  -500.0   \n",
       "4       Madison Bicycle Shop  -500.0   \n",
       "\n",
       "                                   category        date  \\\n",
       "0                        Transfer / Deposit  2020-05-14   \n",
       "1              Food and Drink / Restaurants  2020-05-25   \n",
       "2                                   Payment  2020-05-24   \n",
       "3  Food and Drink / Restaurants / Fast Food  2020-05-24   \n",
       "4                    Shops / Sporting Goods  2020-05-24   \n",
       "\n",
       "                              account_id  available  current   limit      kind  \n",
       "0  xGgpoR9yn5Uo3K5m93pKTlXpDEPkBACnqqxDo        0.0   1000.0     0.0  expenses  \n",
       "1  dkDqKNjB68tGDQbvmDaQHKgpP6Z4AXcZmmv4k        0.0    410.0  2000.0  expenses  \n",
       "2  dkDqKNjB68tGDQbvmDaQHKgpP6Z4AXcZmmv4k        0.0    410.0  2000.0  expenses  \n",
       "3  dkDqKNjB68tGDQbvmDaQHKgpP6Z4AXcZmmv4k        0.0    410.0  2000.0  expenses  \n",
       "4  dkDqKNjB68tGDQbvmDaQHKgpP6Z4AXcZmmv4k        0.0    410.0  2000.0  expenses  "
      ]
     },
     "execution_count": 31,
     "metadata": {},
     "output_type": "execute_result"
    }
   ],
   "source": [
    "result.head()"
   ]
  },
  {
   "cell_type": "markdown",
   "metadata": {},
   "source": [
    "### The scores spliting "
   ]
  },
  {
   "cell_type": "code",
   "execution_count": 32,
   "metadata": {},
   "outputs": [],
   "source": [
    "def part(i):\n",
    "    a = result[result['account_id'] == i].pivot_table(index = ['account_id','category', 'name','amount', 'kind'], \n",
    "                                                      values = 'date', \n",
    "                                                      aggfunc = 'sum').sort_values(['account_id','date']).reset_index()\n",
    "    return a\n",
    "    "
   ]
  },
  {
   "cell_type": "code",
   "execution_count": 33,
   "metadata": {},
   "outputs": [],
   "source": [
    "ONE = part('3rG6aLzoAdSwyMn8lyJMIWnyEoeGx7HqBBk91')"
   ]
  },
  {
   "cell_type": "code",
   "execution_count": 34,
   "metadata": {
    "scrolled": true
   },
   "outputs": [],
   "source": [
    "TWO = part('BMDa8v1Ab9cWle14klxeHzaWM4v63qfwQQd3G')"
   ]
  },
  {
   "cell_type": "code",
   "execution_count": 35,
   "metadata": {},
   "outputs": [],
   "source": [
    "THREE = part('a8BwAP4Kb9hQyMo5By3MHLNaWv4xGVt7zz8gE')"
   ]
  },
  {
   "cell_type": "code",
   "execution_count": 36,
   "metadata": {},
   "outputs": [],
   "source": [
    "FOUR = part('dkDqKNjB68tGDQbvmDaQHKgpP6Z4AXcZmmv4k')"
   ]
  },
  {
   "cell_type": "code",
   "execution_count": 37,
   "metadata": {},
   "outputs": [],
   "source": [
    "FIVE = part('xGgpoR9yn5Uo3K5m93pKTlXpDEPkBACnqqxDo')"
   ]
  },
  {
   "cell_type": "markdown",
   "metadata": {},
   "source": [
    "### Sum for calc zero income"
   ]
  },
  {
   "cell_type": "code",
   "execution_count": 38,
   "metadata": {},
   "outputs": [],
   "source": [
    "def plus(NOM):\n",
    "    b = abs(NOM['amount']).sum()\n",
    "    a = NOM.groupby('kind')['amount'].sum()[0]\n",
    "    return round(b+a,2)  "
   ]
  },
  {
   "cell_type": "code",
   "execution_count": null,
   "metadata": {},
   "outputs": [],
   "source": []
  },
  {
   "cell_type": "code",
   "execution_count": 39,
   "metadata": {},
   "outputs": [],
   "source": [
    "results = service.spreadsheets().values().batchUpdate(spreadsheetId = spreadsheetId, body = {\n",
    "    \"valueInputOption\": \"USER_ENTERED\", # Users mode input\n",
    "    \"data\": [\n",
    "        {\"range\": \"CashFlow!B2:zzz100\",\n",
    "         \"majorDimension\": \"ROWS\",     \n",
    "         \"values\": [ONE.columns.tolist()]\n",
    "                   },\n",
    "        \n",
    "        {\"range\": \"CashFlow!B3:zzz100\",\n",
    "         \"majorDimension\": \"ROWS\",     \n",
    "         \"values\": ONE.to_numpy().tolist()\n",
    "                   },\n",
    "        {\"range\": \"CashFlow!B5:zzz100\",\n",
    "         \"majorDimension\": \"ROWS\",     \n",
    "         \"values\": [[\" \", \" \",\"Total\", ONE['amount'].sum(), \" \"]]\n",
    "                   },\n",
    "           {\"range\": \"CashFlow!B6:zzz100\",\n",
    "         \"majorDimension\": \"ROWS\",     \n",
    "         \"values\": [[\" \", \" \",\"Expenses\", ONE.groupby('kind')['amount'].sum()[0], \" \"]]\n",
    "                   },\n",
    "          {\"range\": \"CashFlow!B7:zzz100\",\n",
    "         \"majorDimension\": \"ROWS\",     \n",
    "         \"values\": [[\" \", \" \",\"Income\", plus(ONE), \" \"]]\n",
    "                   },\n",
    "     \n",
    "        \n",
    "        {\"range\": \"CashFlow!B8:zzz100\",\n",
    "         \"majorDimension\": \"ROWS\",     \n",
    "         \"values\": TWO.to_numpy().tolist()\n",
    "                   },\n",
    "        {\"range\": \"CashFlow!B14:zzz100\",\n",
    "         \"majorDimension\": \"ROWS\",     \n",
    "         \"values\": [[\" \",\" \", \"Total\", TWO['amount'].sum(), \" \"]]\n",
    "                   },\n",
    "        {\"range\": \"CashFlow!B15:zzz100\",\n",
    "         \"majorDimension\": \"ROWS\",     \n",
    "         \"values\": [[\" \", \" \",\"Expenses\", TWO.groupby('kind')['amount'].sum()[0], \" \"]]\n",
    "                   },\n",
    "          {\"range\": \"CashFlow!B16:zzz100\",\n",
    "         \"majorDimension\": \"ROWS\",     \n",
    "         \"values\": [[\" \", \" \",\"Income\", plus(TWO), \" \"]]\n",
    "                   },\n",
    "        \n",
    "        {\"range\": \"CashFlow!B17:zzz100\",\n",
    "         \"majorDimension\": \"ROWS\",     \n",
    "         \"values\": THREE.to_numpy().tolist()\n",
    "                   },\n",
    "        {\"range\": \"CashFlow!B18:zzz100\",\n",
    "         \"majorDimension\": \"ROWS\",     \n",
    "         \"values\": [[\" \",\" \", \"Total\", THREE['amount'].sum(), \" \"]]\n",
    "                   },\n",
    "          {\"range\": \"CashFlow!B19:zzz100\",\n",
    "         \"majorDimension\": \"ROWS\",     \n",
    "         \"values\": [[\" \", \" \",\"Expenses\", THREE.groupby('kind')['amount'].sum()[0], \" \"]]\n",
    "                   },\n",
    "          {\"range\": \"CashFlow!B20:zzz100\",\n",
    "         \"majorDimension\": \"ROWS\",     \n",
    "         \"values\": [[\" \", \" \",\"Income\",plus(THREE), \" \"]]\n",
    "                   },\n",
    "        \n",
    "         {\"range\": \"CashFlow!B17:zzz100\",\n",
    "         \"majorDimension\": \"ROWS\",     \n",
    "         \"values\": FOUR.to_numpy().tolist()\n",
    "                   },\n",
    "        {\"range\": \"CashFlow!B23:zzz100\",\n",
    "         \"majorDimension\": \"ROWS\",     \n",
    "         \"values\": [[\" \",\" \", \"Total\", FOUR['amount'].sum(), \" \"]]\n",
    "                   },\n",
    "          {\"range\": \"CashFlow!B24:zzz100\",\n",
    "         \"majorDimension\": \"ROWS\",     \n",
    "         \"values\": [[\" \", \" \",\"Expenses\", FOUR.groupby('kind')['amount'].sum()[0], \" \"]]\n",
    "                   },\n",
    "          {\"range\": \"CashFlow!B25:zzz100\",\n",
    "         \"majorDimension\": \"ROWS\",     \n",
    "         \"values\": [[\" \", \" \",\"Income\", plus(FOUR), \" \"]]\n",
    "                   },\n",
    "        \n",
    "        \n",
    "         {\"range\": \"CashFlow!B26:zzz100\",\n",
    "         \"majorDimension\": \"ROWS\",     \n",
    "         \"values\": FIVE.to_numpy().tolist()\n",
    "                   },\n",
    "        {\"range\": \"CashFlow!B27:zzz100\",\n",
    "         \"majorDimension\": \"ROWS\",     \n",
    "         \"values\": [[\" \",\" \", \"Total\", FIVE['amount'].sum(), \" \"]]\n",
    "                   },\n",
    "          {\"range\": \"CashFlow!B28:zzz100\",\n",
    "         \"majorDimension\": \"ROWS\",     \n",
    "         \"values\": [[\" \", \" \",\"Expenses\", FIVE.groupby('kind')['amount'].sum()[0], \" \"]]\n",
    "                   },\n",
    "          {\"range\": \"CashFlow!B29:zzz100\",\n",
    "         \"majorDimension\": \"ROWS\",     \n",
    "         \"values\": [[\" \", \" \",\"Income\", plus(FIVE), \" \"]]\n",
    "                   },\n",
    "        \n",
    "        \n",
    "         {\"range\": \"CashFlow!B30:zzz100\",\n",
    "         \"majorDimension\": \"ROWS\",     \n",
    "         \"values\": [[\" \",\" \", \"Grand Total\", result['amount'].sum(), \" \"]]\n",
    "                   }\n",
    "    ]\n",
    "}).execute()"
   ]
  },
  {
   "cell_type": "code",
   "execution_count": 40,
   "metadata": {},
   "outputs": [],
   "source": [
    "def merge(startrow, endrow, startcol, endcol):\n",
    "    results = service.spreadsheets().batchUpdate(\n",
    "    spreadsheetId = spreadsheetId,\n",
    "    body = {\n",
    "        \"requests\": [\n",
    "            {'mergeCells': {'range': {'sheetId': ID,\n",
    "                          'startRowIndex': startrow,\n",
    "                          'endRowIndex': endrow,\n",
    "                          'startColumnIndex': startcol,\n",
    "                          'endColumnIndex': endcol},\n",
    "                        \n",
    "                'mergeType': 'MERGE_ALL'}},\n",
    "           \n",
    "        ]\n",
    "    }).execute()\n",
    "    return results"
   ]
  },
  {
   "cell_type": "code",
   "execution_count": 41,
   "metadata": {
    "scrolled": false
   },
   "outputs": [],
   "source": [
    "merge(0, 1, 1,7)\n",
    "#  Add title\n",
    "results = service.spreadsheets().values().batchUpdate(spreadsheetId = spreadsheetId, body = {\n",
    "    \"valueInputOption\": \"USER_ENTERED\",\n",
    "    \"data\": [\n",
    "        {\"range\": \"CashFlow!B1\",\n",
    "         \"majorDimension\": \"ROWS\", # Row first\n",
    "         \"values\": [[\"CashFlow\" ] \n",
    "                   ]}\n",
    "    ]\n",
    "}).execute()"
   ]
  },
  {
   "cell_type": "markdown",
   "metadata": {},
   "source": [
    "### Format table"
   ]
  },
  {
   "cell_type": "code",
   "execution_count": 42,
   "metadata": {},
   "outputs": [
    {
     "data": {
      "text/plain": [
       "{'spreadsheetId': '1cbkFqsdsJbmB6CPMgCJ-7q8Qz_JnvoNdyR8x3uINjt0',\n",
       " 'replies': [{}]}"
      ]
     },
     "execution_count": 42,
     "metadata": {},
     "output_type": "execute_result"
    }
   ],
   "source": [
    "merge(1, 30, 0,1)"
   ]
  },
  {
   "cell_type": "code",
   "execution_count": 43,
   "metadata": {},
   "outputs": [
    {
     "data": {
      "text/plain": [
       "{'spreadsheetId': '1cbkFqsdsJbmB6CPMgCJ-7q8Qz_JnvoNdyR8x3uINjt0',\n",
       " 'replies': [{}]}"
      ]
     },
     "execution_count": 43,
     "metadata": {},
     "output_type": "execute_result"
    }
   ],
   "source": [
    "merge(2, 4, 1,2)"
   ]
  },
  {
   "cell_type": "code",
   "execution_count": 44,
   "metadata": {},
   "outputs": [
    {
     "data": {
      "text/plain": [
       "{'spreadsheetId': '1cbkFqsdsJbmB6CPMgCJ-7q8Qz_JnvoNdyR8x3uINjt0',\n",
       " 'replies': [{}]}"
      ]
     },
     "execution_count": 44,
     "metadata": {},
     "output_type": "execute_result"
    }
   ],
   "source": [
    "merge(7, 13,1,2)"
   ]
  },
  {
   "cell_type": "code",
   "execution_count": 45,
   "metadata": {},
   "outputs": [
    {
     "data": {
      "text/plain": [
       "{'spreadsheetId': '1cbkFqsdsJbmB6CPMgCJ-7q8Qz_JnvoNdyR8x3uINjt0',\n",
       " 'replies': [{}]}"
      ]
     },
     "execution_count": 45,
     "metadata": {},
     "output_type": "execute_result"
    }
   ],
   "source": [
    "merge(16, 22,1,2)"
   ]
  },
  {
   "cell_type": "code",
   "execution_count": 46,
   "metadata": {},
   "outputs": [],
   "source": [
    "#Format columns wide\n",
    "results = service.spreadsheets().batchUpdate(spreadsheetId = spreadsheetId, body = {\n",
    "  \"requests\": [\n",
    "\n",
    "    # Columns wide\n",
    "    {\n",
    "      \"updateDimensionProperties\": {\n",
    "        \"range\": {\n",
    "          \"sheetId\": ID,\n",
    "          \"dimension\": \"COLUMNS\",  \n",
    "          \"startIndex\": 0, \n",
    "          \"endIndex\": 1 \n",
    "        },\n",
    "        \"properties\": {\n",
    "          \"pixelSize\": 20 \n",
    "        },\n",
    "        \"fields\": \"pixelSize\" \n",
    "      }\n",
    "    },\n",
    "\n",
    "\n",
    "    {\n",
    "      \"updateDimensionProperties\": {\n",
    "        \"range\": {\n",
    "          \"sheetId\": ID,\n",
    "          \"dimension\": \"COLUMNS\",\n",
    "          \"startIndex\": 1,\n",
    "          \"endIndex\": 4\n",
    "        },\n",
    "        \"properties\": {\n",
    "          \"pixelSize\": 300\n",
    "        },\n",
    "        \"fields\": \"pixelSize\"\n",
    "      }\n",
    "    },\n",
    "\n",
    "    \n",
    "    {\n",
    "      \"updateDimensionProperties\": {\n",
    "        \"range\": {\n",
    "          \"sheetId\": ID,\n",
    "          \"dimension\": \"COLUMNS\",\n",
    "          \"startIndex\": 4,\n",
    "          \"endIndex\": 5\n",
    "        },\n",
    "        \"properties\": {\n",
    "          \"pixelSize\": 100\n",
    "        },\n",
    "        \"fields\": \"pixelSize\"\n",
    "      }\n",
    "    }\n",
    "  ]\n",
    "}).execute()"
   ]
  },
  {
   "cell_type": "code",
   "execution_count": 47,
   "metadata": {},
   "outputs": [],
   "source": [
    "results = service.spreadsheets().batchUpdate(spreadsheetId = spreadsheetId, body = {\n",
    "  \"requests\": [\n",
    "\n",
    "    # Row height\n",
    "    {\n",
    "      \"updateDimensionProperties\": {\n",
    "        \"range\": {\n",
    "          \"sheetId\": ID,\n",
    "          \"dimension\": \"ROWS\",  \n",
    "          \"startIndex\": 0, \n",
    "          \"endIndex\": 2 \n",
    "        },\n",
    "        \"properties\": {\n",
    "          \"pixelSize\": 30 \n",
    "        },\n",
    "        \"fields\": \"pixelSize\" \n",
    "      }\n",
    "    },\n",
    "       {\n",
    "      \"updateDimensionProperties\": {\n",
    "        \"range\": {\n",
    "          \"sheetId\": ID,\n",
    "          \"dimension\": \"ROWS\",  \n",
    "          \"startIndex\": 4, \n",
    "          \"endIndex\": 5 \n",
    "        },\n",
    "        \"properties\": {\n",
    "          \"pixelSize\": 30 \n",
    "        },\n",
    "        \"fields\": \"pixelSize\" \n",
    "      }\n",
    "    },\n",
    "       {\n",
    "      \"updateDimensionProperties\": {\n",
    "        \"range\": {\n",
    "          \"sheetId\": ID,\n",
    "          \"dimension\": \"ROWS\",  \n",
    "          \"startIndex\": 11, \n",
    "          \"endIndex\": 12 \n",
    "        },\n",
    "        \"properties\": {\n",
    "          \"pixelSize\": 30 \n",
    "        },\n",
    "        \"fields\": \"pixelSize\" \n",
    "      }\n",
    "    },\n",
    "      {\n",
    "      \"updateDimensionProperties\": {\n",
    "        \"range\": {\n",
    "          \"sheetId\": ID,\n",
    "          \"dimension\": \"ROWS\",  \n",
    "          \"startIndex\": 13, \n",
    "          \"endIndex\": 14 \n",
    "        },\n",
    "        \"properties\": {\n",
    "          \"pixelSize\": 30 \n",
    "        },\n",
    "        \"fields\": \"pixelSize\" \n",
    "      }\n",
    "    },\n",
    "      {\n",
    "      \"updateDimensionProperties\": {\n",
    "        \"range\": {\n",
    "          \"sheetId\": ID,\n",
    "          \"dimension\": \"ROWS\",  \n",
    "          \"startIndex\": 20, \n",
    "          \"endIndex\": 21 \n",
    "        },\n",
    "        \"properties\": {\n",
    "          \"pixelSize\": 30 \n",
    "        },\n",
    "        \"fields\": \"pixelSize\" \n",
    "      }\n",
    "    },\n",
    "      {\n",
    "      \"updateDimensionProperties\": {\n",
    "        \"range\": {\n",
    "          \"sheetId\": ID,\n",
    "          \"dimension\": \"ROWS\",  \n",
    "          \"startIndex\": 22, \n",
    "          \"endIndex\": 23 \n",
    "        },\n",
    "        \"properties\": {\n",
    "          \"pixelSize\": 30 \n",
    "        },\n",
    "        \"fields\": \"pixelSize\" \n",
    "      }\n",
    "    },\n",
    "      {\n",
    "      \"updateDimensionProperties\": {\n",
    "        \"range\": {\n",
    "          \"sheetId\": ID,\n",
    "          \"dimension\": \"ROWS\",  \n",
    "          \"startIndex\": 23, \n",
    "          \"endIndex\": 24 \n",
    "        },\n",
    "        \"properties\": {\n",
    "          \"pixelSize\": 40 \n",
    "        },\n",
    "        \"fields\": \"pixelSize\" \n",
    "      }\n",
    "    },\n",
    "   \n",
    "  ]\n",
    "}).execute()"
   ]
  },
  {
   "cell_type": "code",
   "execution_count": 48,
   "metadata": {},
   "outputs": [],
   "source": [
    "def cell(startrow, endrow, startcol, endcol):\n",
    "    results = service.spreadsheets().batchUpdate(\n",
    "    spreadsheetId = spreadsheetId,\n",
    "    body = \n",
    "{\n",
    "  \"requests\": \n",
    "  [\n",
    "    {\n",
    "      \"repeatCell\": \n",
    "      {\n",
    "        \"cell\": \n",
    "        {\n",
    "          \"userEnteredFormat\": \n",
    "          {\n",
    "            \"horizontalAlignment\": 'CENTER',\n",
    "            \"backgroundColor\": {\n",
    "                \"red\": 0.8,\n",
    "                \"green\": 0.8,\n",
    "                \"blue\": 0.8,\n",
    "                \"alpha\": 1\n",
    "            },\n",
    "            \"textFormat\":\n",
    "             {\n",
    "               \"bold\": True,\n",
    "               \"fontSize\": 10\n",
    "             }\n",
    "          }\n",
    "        },\n",
    "        \"range\": \n",
    "        {\n",
    "          \"sheetId\": ID,\n",
    "          \"startRowIndex\": startrow,\n",
    "          \"endRowIndex\": endrow,\n",
    "          \"startColumnIndex\": startcol,\n",
    "          \"endColumnIndex\": endcol\n",
    "        },\n",
    "        \"fields\": \"userEnteredFormat\"\n",
    "      }\n",
    "    }\n",
    "  ]\n",
    "}).execute()\n",
    "    return results\n",
    "    "
   ]
  },
  {
   "cell_type": "code",
   "execution_count": 49,
   "metadata": {},
   "outputs": [
    {
     "data": {
      "text/plain": [
       "{'spreadsheetId': '1cbkFqsdsJbmB6CPMgCJ-7q8Qz_JnvoNdyR8x3uINjt0',\n",
       " 'replies': [{}]}"
      ]
     },
     "execution_count": 49,
     "metadata": {},
     "output_type": "execute_result"
    }
   ],
   "source": [
    "cell(1, 2, 1, 7)"
   ]
  },
  {
   "cell_type": "code",
   "execution_count": 50,
   "metadata": {},
   "outputs": [
    {
     "data": {
      "text/plain": [
       "{'spreadsheetId': '1cbkFqsdsJbmB6CPMgCJ-7q8Qz_JnvoNdyR8x3uINjt0',\n",
       " 'replies': [{}]}"
      ]
     },
     "execution_count": 50,
     "metadata": {},
     "output_type": "execute_result"
    }
   ],
   "source": [
    "cell(2, 22, 0, 2)"
   ]
  },
  {
   "cell_type": "code",
   "execution_count": 51,
   "metadata": {},
   "outputs": [
    {
     "data": {
      "text/plain": [
       "{'spreadsheetId': '1cbkFqsdsJbmB6CPMgCJ-7q8Qz_JnvoNdyR8x3uINjt0',\n",
       " 'replies': [{}]}"
      ]
     },
     "execution_count": 51,
     "metadata": {},
     "output_type": "execute_result"
    }
   ],
   "source": [
    "cell(4, 7, 1, 7)"
   ]
  },
  {
   "cell_type": "code",
   "execution_count": 52,
   "metadata": {},
   "outputs": [
    {
     "data": {
      "text/plain": [
       "{'spreadsheetId': '1cbkFqsdsJbmB6CPMgCJ-7q8Qz_JnvoNdyR8x3uINjt0',\n",
       " 'replies': [{}]}"
      ]
     },
     "execution_count": 52,
     "metadata": {},
     "output_type": "execute_result"
    }
   ],
   "source": [
    "cell(13, 16, 1, 7)"
   ]
  },
  {
   "cell_type": "code",
   "execution_count": 53,
   "metadata": {},
   "outputs": [
    {
     "data": {
      "text/plain": [
       "{'spreadsheetId': '1cbkFqsdsJbmB6CPMgCJ-7q8Qz_JnvoNdyR8x3uINjt0',\n",
       " 'replies': [{}]}"
      ]
     },
     "execution_count": 53,
     "metadata": {},
     "output_type": "execute_result"
    }
   ],
   "source": [
    "cell(4, 7, 1, 7)"
   ]
  },
  {
   "cell_type": "code",
   "execution_count": 54,
   "metadata": {},
   "outputs": [
    {
     "data": {
      "text/plain": [
       "{'spreadsheetId': '1cbkFqsdsJbmB6CPMgCJ-7q8Qz_JnvoNdyR8x3uINjt0',\n",
       " 'replies': [{}]}"
      ]
     },
     "execution_count": 54,
     "metadata": {},
     "output_type": "execute_result"
    }
   ],
   "source": [
    "cell(22, 25, 1, 7)"
   ]
  },
  {
   "cell_type": "code",
   "execution_count": 55,
   "metadata": {},
   "outputs": [
    {
     "data": {
      "text/plain": [
       "{'spreadsheetId': '1cbkFqsdsJbmB6CPMgCJ-7q8Qz_JnvoNdyR8x3uINjt0',\n",
       " 'replies': [{}]}"
      ]
     },
     "execution_count": 55,
     "metadata": {},
     "output_type": "execute_result"
    }
   ],
   "source": [
    "cell(22, 23, 1, 7)"
   ]
  },
  {
   "cell_type": "code",
   "execution_count": 56,
   "metadata": {},
   "outputs": [
    {
     "data": {
      "text/plain": [
       "{'spreadsheetId': '1cbkFqsdsJbmB6CPMgCJ-7q8Qz_JnvoNdyR8x3uINjt0',\n",
       " 'replies': [{}]}"
      ]
     },
     "execution_count": 56,
     "metadata": {},
     "output_type": "execute_result"
    }
   ],
   "source": [
    "cell(26, 30, 1, 7)"
   ]
  },
  {
   "cell_type": "code",
   "execution_count": 57,
   "metadata": {},
   "outputs": [
    {
     "ename": "SyntaxError",
     "evalue": "invalid syntax (<ipython-input-57-6c2fe2afb67f>, line 1)",
     "output_type": "error",
     "traceback": [
      "\u001b[0;36m  File \u001b[0;32m\"<ipython-input-57-6c2fe2afb67f>\"\u001b[0;36m, line \u001b[0;32m1\u001b[0m\n\u001b[0;31m    p=\u001b[0m\n\u001b[0m      ^\u001b[0m\n\u001b[0;31mSyntaxError\u001b[0m\u001b[0;31m:\u001b[0m invalid syntax\n"
     ]
    }
   ],
   "source": [
    "p="
   ]
  },
  {
   "cell_type": "code",
   "execution_count": null,
   "metadata": {},
   "outputs": [],
   "source": []
  },
  {
   "cell_type": "code",
   "execution_count": null,
   "metadata": {},
   "outputs": [],
   "source": [
    "# CELL format TITLE\n",
    "results = service.spreadsheets().batchUpdate(\n",
    "    spreadsheetId = spreadsheetId,\n",
    "    body = \n",
    "{\n",
    "  \"requests\": \n",
    "  [\n",
    "    {\n",
    "      \"repeatCell\": \n",
    "      {\n",
    "        \"cell\": \n",
    "        {\n",
    "          \"userEnteredFormat\": \n",
    "          {\n",
    "            \"horizontalAlignment\": 'CENTER',\n",
    "            \"backgroundColor\": {\n",
    "                \"red\": 0.8,\n",
    "                \"green\": 0.8,\n",
    "                \"blue\": 0.8,\n",
    "                \"alpha\": 1\n",
    "            },\n",
    "            \"textFormat\":\n",
    "             {\n",
    "               \"bold\": True,\n",
    "               \"fontSize\": 14\n",
    "             }\n",
    "          }\n",
    "        },\n",
    "        \"range\": \n",
    "        {\n",
    "          \"sheetId\": ID,\n",
    "          \"startRowIndex\": 1,\n",
    "          \"endRowIndex\": 2,\n",
    "          \"startColumnIndex\": 1,\n",
    "          \"endColumnIndex\": 7\n",
    "        },\n",
    "        \"fields\": \"userEnteredFormat\"\n",
    "      }\n",
    "    }\n",
    "  ]\n",
    "}).execute()"
   ]
  },
  {
   "cell_type": "code",
   "execution_count": null,
   "metadata": {},
   "outputs": [],
   "source": [
    "#CELL format ID TOP\n",
    "results = service.spreadsheets().batchUpdate(\n",
    "    spreadsheetId = spreadsheetId,\n",
    "    body = \n",
    "{\n",
    "  \"requests\": \n",
    "  [\n",
    "    {\n",
    "      \"repeatCell\": \n",
    "      {\n",
    "        \"cell\": \n",
    "        {\n",
    "          \"userEnteredFormat\": \n",
    "          {\n",
    "            \"horizontalAlignment\": 'CENTER', \"verticalAlignment\": 'TOP',\n",
    "              \n",
    "            \"backgroundColor\": {\n",
    "                \"red\": 1,\n",
    "                \"green\": 1,\n",
    "                \"blue\": 1,\n",
    "                \"alpha\": 1\n",
    "            },\n",
    "            \"textFormat\":\n",
    "             {\n",
    "               \"bold\": False,\n",
    "               \"fontSize\": 10\n",
    "             },\n",
    "                  \n",
    "          }\n",
    "        },\n",
    "        \"range\": \n",
    "        {\n",
    "          \"sheetId\": ID,\n",
    "          \"startRowIndex\": 2,\n",
    "          \"endRowIndex\": 22,\n",
    "          \"startColumnIndex\": 0,\n",
    "          \"endColumnIndex\": 2\n",
    "        },\n",
    "        \"fields\": \"userEnteredFormat\"\n",
    "      }\n",
    "    }\n",
    "  ]\n",
    "}).execute()"
   ]
  },
  {
   "cell_type": "code",
   "execution_count": null,
   "metadata": {},
   "outputs": [],
   "source": [
    "# CELL format ONE \n",
    "results = service.spreadsheets().batchUpdate(\n",
    "    spreadsheetId = spreadsheetId,\n",
    "    body = \n",
    "{\n",
    "  \"requests\": \n",
    "  [\n",
    "    {\n",
    "      \"repeatCell\": \n",
    "      {\n",
    "        \"cell\": \n",
    "        {\n",
    "          \"userEnteredFormat\": \n",
    "          {\n",
    "            \"horizontalAlignment\": 'CENTER',\n",
    "            \"backgroundColor\": {\n",
    "                \"red\": 0.8,\n",
    "                \"green\": 0.8,\n",
    "                \"blue\": 0.8,\n",
    "                \"alpha\": 1\n",
    "            },\n",
    "            \"textFormat\":\n",
    "             {\n",
    "               \"bold\": True,\n",
    "               \"fontSize\": 10\n",
    "             }\n",
    "          }\n",
    "        },\n",
    "        \"range\": \n",
    "        {\n",
    "          \"sheetId\": ID,\n",
    "          \"startRowIndex\": 4,\n",
    "          \"endRowIndex\": 7,\n",
    "          \"startColumnIndex\": 1,\n",
    "          \"endColumnIndex\": 7\n",
    "        },\n",
    "           \n",
    "        \"fields\": \"userEnteredFormat\"\n",
    "      }\n",
    "    }\n",
    "  ]\n",
    "}).execute()"
   ]
  },
  {
   "cell_type": "code",
   "execution_count": null,
   "metadata": {},
   "outputs": [],
   "source": [
    "# CELL format TWO\n",
    "results = service.spreadsheets().batchUpdate(\n",
    "    spreadsheetId = spreadsheetId,\n",
    "    body = \n",
    "{\n",
    "  \"requests\": \n",
    "  [\n",
    "    {\n",
    "      \"repeatCell\": \n",
    "      {\n",
    "        \"cell\": \n",
    "        {\n",
    "          \"userEnteredFormat\": \n",
    "          {\n",
    "            \"horizontalAlignment\": 'CENTER',\n",
    "            \"backgroundColor\": {\n",
    "                \"red\": 0.8,\n",
    "                \"green\": 0.8,\n",
    "                \"blue\": 0.8,\n",
    "                \"alpha\": 1\n",
    "            },\n",
    "            \"textFormat\":\n",
    "             {\n",
    "               \"bold\": True,\n",
    "               \"fontSize\": 10\n",
    "             }\n",
    "          }\n",
    "        },\n",
    "        \"range\": \n",
    "         {\n",
    "          \"sheetId\": ID,\n",
    "          \"startRowIndex\": 13,\n",
    "          \"endRowIndex\": 16,\n",
    "          \"startColumnIndex\": 1,\n",
    "          \"endColumnIndex\": 7\n",
    "        },\n",
    "           \n",
    "        \"fields\": \"userEnteredFormat\"\n",
    "      }\n",
    "    }\n",
    "  ]\n",
    "}).execute()"
   ]
  },
  {
   "cell_type": "code",
   "execution_count": null,
   "metadata": {},
   "outputs": [],
   "source": [
    "# CELL format FOUR\n",
    "results = service.spreadsheets().batchUpdate(\n",
    "    spreadsheetId = spreadsheetId,\n",
    "    body = \n",
    "{\n",
    "  \"requests\": \n",
    "  [\n",
    "    {\n",
    "      \"repeatCell\": \n",
    "      {\n",
    "        \"cell\": \n",
    "        {\n",
    "          \"userEnteredFormat\": \n",
    "          {\n",
    "            \"horizontalAlignment\": 'CENTER',\n",
    "            \"backgroundColor\": {\n",
    "                \"red\": 0.8,\n",
    "                \"green\": 0.8,\n",
    "                \"blue\": 0.8,\n",
    "                \"alpha\": 1\n",
    "            },\n",
    "            \"textFormat\":\n",
    "             {\n",
    "               \"bold\": True,\n",
    "               \"fontSize\": 10\n",
    "             }\n",
    "          }\n",
    "        },\n",
    "        \"range\": \n",
    "         {\n",
    "          \"sheetId\": ID,\n",
    "          \"startRowIndex\": 22,\n",
    "          \"endRowIndex\": 25,\n",
    "          \"startColumnIndex\": 1,\n",
    "          \"endColumnIndex\": 7\n",
    "        },\n",
    "           \n",
    "        \"fields\": \"userEnteredFormat\"\n",
    "      }\n",
    "    }\n",
    "  ]\n",
    "}).execute()"
   ]
  },
  {
   "cell_type": "code",
   "execution_count": null,
   "metadata": {},
   "outputs": [],
   "source": [
    "# CELL format\n",
    "results = service.spreadsheets().batchUpdate(\n",
    "    spreadsheetId = spreadsheetId,\n",
    "    body = \n",
    "{\n",
    "  \"requests\": \n",
    "  [\n",
    "    {\n",
    "      \"repeatCell\": \n",
    "      {\n",
    "        \"cell\": \n",
    "        {\n",
    "          \"userEnteredFormat\": \n",
    "          {\n",
    "            \"horizontalAlignment\": 'CENTER',\n",
    "            \"backgroundColor\": {\n",
    "                \"red\": 0.8,\n",
    "                \"green\": 0.8,\n",
    "                \"blue\": 0.8,\n",
    "                \"alpha\": 1\n",
    "            },\n",
    "            \"textFormat\":\n",
    "             {\n",
    "               \"bold\": True,\n",
    "               \"fontSize\": 10\n",
    "             }\n",
    "          }\n",
    "        },\n",
    "        \"range\": \n",
    "         {\n",
    "          \"sheetId\": ID,\n",
    "          \"startRowIndex\": 22,\n",
    "          \"endRowIndex\": 23,\n",
    "          \"startColumnIndex\": 1,\n",
    "          \"endColumnIndex\": 7\n",
    "        },\n",
    "           \n",
    "        \"fields\": \"userEnteredFormat\"\n",
    "      }\n",
    "    }\n",
    "  ]\n",
    "}).execute()"
   ]
  },
  {
   "cell_type": "code",
   "execution_count": null,
   "metadata": {},
   "outputs": [],
   "source": [
    "# CELL format\n",
    "results = service.spreadsheets().batchUpdate(\n",
    "    spreadsheetId = spreadsheetId,\n",
    "    body = \n",
    "{\n",
    "  \"requests\": \n",
    "  [\n",
    "    {\n",
    "      \"repeatCell\": \n",
    "      {\n",
    "        \"cell\": \n",
    "        {\n",
    "          \"userEnteredFormat\": \n",
    "          {\n",
    "            \"horizontalAlignment\": 'CENTER',\n",
    "            \"backgroundColor\": {\n",
    "                \"red\": 0.8,\n",
    "                \"green\": 0.8,\n",
    "                \"blue\": 0.8,\n",
    "                \"alpha\": 1\n",
    "            },\n",
    "            \"textFormat\":\n",
    "             {\n",
    "               \"bold\": True,\n",
    "               \"fontSize\": 10\n",
    "             }\n",
    "          }\n",
    "        },\n",
    "        \"range\": \n",
    "         {\n",
    "          \"sheetId\": ID,\n",
    "          \"startRowIndex\": 26,\n",
    "          \"endRowIndex\": 30,\n",
    "          \"startColumnIndex\": 1,\n",
    "          \"endColumnIndex\": 7\n",
    "        },\n",
    "           \n",
    "        \"fields\": \"userEnteredFormat\"\n",
    "      }\n",
    "    }\n",
    "  ]\n",
    "}).execute()"
   ]
  },
  {
   "cell_type": "code",
   "execution_count": null,
   "metadata": {},
   "outputs": [],
   "source": []
  },
  {
   "cell_type": "code",
   "execution_count": null,
   "metadata": {},
   "outputs": [],
   "source": []
  },
  {
   "cell_type": "code",
   "execution_count": null,
   "metadata": {},
   "outputs": [],
   "source": []
  }
 ],
 "metadata": {
  "kernelspec": {
   "display_name": "Python 3",
   "language": "python",
   "name": "python3"
  },
  "language_info": {
   "codemirror_mode": {
    "name": "ipython",
    "version": 3
   },
   "file_extension": ".py",
   "mimetype": "text/x-python",
   "name": "python",
   "nbconvert_exporter": "python",
   "pygments_lexer": "ipython3",
   "version": "3.7.4"
  }
 },
 "nbformat": 4,
 "nbformat_minor": 2
}
