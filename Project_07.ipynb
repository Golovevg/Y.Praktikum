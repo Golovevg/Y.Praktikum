{
 "cells": [
  {
   "cell_type": "markdown",
   "metadata": {},
   "source": [
    "<font color=darkblue> \n",
    "\n",
    "## Описание задачи\n",
    "___\n",
    "    \n",
    "### Нужно решить, где бурить новую скважину.\n",
    "#### Шаги для выбора локации:\n",
    " - В избранном регионе собирают характеристики для скважин: качество нефти и объём её запасов;\n",
    " - Строят модель для предсказания объёма запасов в новых скважинах;\n",
    " - Выбирают скважины с самыми высокими оценками значений;\n",
    " - Определяют регион с максимальной суммарной прибылью отобранных скважин."
   ]
  },
  {
   "cell_type": "markdown",
   "metadata": {},
   "source": [
    "## Описание данных\n",
    "\n",
    " - id — уникальный идентификатор скважины;\n",
    " - f0, f1, f2 — три признака точек (неважно, что они означают, но сами признаки значимы);\n",
    " - product — объём запасов в скважине (тыс. баррелей)."
   ]
  },
  {
   "cell_type": "markdown",
   "metadata": {},
   "source": [
    "## Вызываю библиотеки"
   ]
  },
  {
   "cell_type": "code",
   "execution_count": 1,
   "metadata": {},
   "outputs": [],
   "source": [
    "import pandas as pd\n",
    "import numpy as np\n",
    "from sklearn.model_selection import train_test_split\n",
    "from sklearn.linear_model import LinearRegression\n",
    "from sklearn.metrics import mean_squared_error\n",
    "from numpy.random import RandomState\n",
    "from scipy import stats as st\n",
    "import matplotlib.pyplot as plt"
   ]
  },
  {
   "cell_type": "markdown",
   "metadata": {},
   "source": [
    "<font color=darkblue> \n",
    "# Подготовка данных"
   ]
  },
  {
   "cell_type": "markdown",
   "metadata": {},
   "source": [
    "## 1. Открываю датасеты"
   ]
  },
  {
   "cell_type": "code",
   "execution_count": 2,
   "metadata": {},
   "outputs": [],
   "source": [
    "region_1 = pd.read_csv('geo_data_0.csv')\n",
    "region_2 = pd.read_csv('geo_data_1.csv')\n",
    "region_3 = pd.read_csv('geo_data_2.csv')"
   ]
  },
  {
   "cell_type": "markdown",
   "metadata": {},
   "source": [
    "## 2. Обучу модель, получу RMSE и среднее"
   ]
  },
  {
   "cell_type": "code",
   "execution_count": 3,
   "metadata": {},
   "outputs": [],
   "source": [
    "def model(df):\n",
    "    features = df.drop(['product', 'id'], axis = 1)\n",
    "    target = df['product']\n",
    "    features_train, features_valid, target_train, target_valid = train_test_split(\n",
    "        features, target, test_size=0.25, random_state=12345)\n",
    "    model = LinearRegression(n_jobs= -1).fit(features_train, target_train)\n",
    "    predictions = model.predict(features_valid)\n",
    "    df['predicted'] = model.predict(features)\n",
    "    mean = predictions.mean()\n",
    "    print('Среднее предсказанного', predictions.mean())\n",
    "    print('Среднее выборки', target_train.mean()) \n",
    "    print('RMSE', mean_squared_error(target_valid, predictions)**0.5)\n",
    "    return target, predictions, mean"
   ]
  },
  {
   "cell_type": "markdown",
   "metadata": {},
   "source": [
    "### Регион 1"
   ]
  },
  {
   "cell_type": "code",
   "execution_count": 4,
   "metadata": {
    "scrolled": true
   },
   "outputs": [
    {
     "name": "stdout",
     "output_type": "stream",
     "text": [
      "Среднее предсказанного 92.59256778438038\n",
      "Среднее выборки 92.64046775305694\n",
      "RMSE 37.5794217150813\n"
     ]
    }
   ],
   "source": [
    "target_1, predictions_1, mean_1 = model(region_1)"
   ]
  },
  {
   "cell_type": "code",
   "execution_count": 5,
   "metadata": {},
   "outputs": [
    {
     "data": {
      "text/html": [
       "<div>\n",
       "<style scoped>\n",
       "    .dataframe tbody tr th:only-of-type {\n",
       "        vertical-align: middle;\n",
       "    }\n",
       "\n",
       "    .dataframe tbody tr th {\n",
       "        vertical-align: top;\n",
       "    }\n",
       "\n",
       "    .dataframe thead th {\n",
       "        text-align: right;\n",
       "    }\n",
       "</style>\n",
       "<table border=\"1\" class=\"dataframe\">\n",
       "  <thead>\n",
       "    <tr style=\"text-align: right;\">\n",
       "      <th></th>\n",
       "      <th>id</th>\n",
       "      <th>f0</th>\n",
       "      <th>f1</th>\n",
       "      <th>f2</th>\n",
       "      <th>product</th>\n",
       "      <th>predicted</th>\n",
       "    </tr>\n",
       "  </thead>\n",
       "  <tbody>\n",
       "    <tr>\n",
       "      <td>0</td>\n",
       "      <td>txEyH</td>\n",
       "      <td>0.705745</td>\n",
       "      <td>-0.497823</td>\n",
       "      <td>1.221170</td>\n",
       "      <td>105.280062</td>\n",
       "      <td>95.461973</td>\n",
       "    </tr>\n",
       "    <tr>\n",
       "      <td>1</td>\n",
       "      <td>2acmU</td>\n",
       "      <td>1.334711</td>\n",
       "      <td>-0.340164</td>\n",
       "      <td>4.365080</td>\n",
       "      <td>73.037750</td>\n",
       "      <td>116.227394</td>\n",
       "    </tr>\n",
       "    <tr>\n",
       "      <td>2</td>\n",
       "      <td>409Wp</td>\n",
       "      <td>1.022732</td>\n",
       "      <td>0.151990</td>\n",
       "      <td>1.419926</td>\n",
       "      <td>85.265647</td>\n",
       "      <td>88.750254</td>\n",
       "    </tr>\n",
       "    <tr>\n",
       "      <td>3</td>\n",
       "      <td>iJLyR</td>\n",
       "      <td>-0.032172</td>\n",
       "      <td>0.139033</td>\n",
       "      <td>2.978566</td>\n",
       "      <td>168.620776</td>\n",
       "      <td>95.419237</td>\n",
       "    </tr>\n",
       "    <tr>\n",
       "      <td>4</td>\n",
       "      <td>Xdl7t</td>\n",
       "      <td>1.988431</td>\n",
       "      <td>0.155413</td>\n",
       "      <td>4.751769</td>\n",
       "      <td>154.036647</td>\n",
       "      <td>114.138969</td>\n",
       "    </tr>\n",
       "  </tbody>\n",
       "</table>\n",
       "</div>"
      ],
      "text/plain": [
       "      id        f0        f1        f2     product   predicted\n",
       "0  txEyH  0.705745 -0.497823  1.221170  105.280062   95.461973\n",
       "1  2acmU  1.334711 -0.340164  4.365080   73.037750  116.227394\n",
       "2  409Wp  1.022732  0.151990  1.419926   85.265647   88.750254\n",
       "3  iJLyR -0.032172  0.139033  2.978566  168.620776   95.419237\n",
       "4  Xdl7t  1.988431  0.155413  4.751769  154.036647  114.138969"
      ]
     },
     "execution_count": 5,
     "metadata": {},
     "output_type": "execute_result"
    }
   ],
   "source": [
    "region_1.head()"
   ]
  },
  {
   "cell_type": "markdown",
   "metadata": {},
   "source": [
    "### Регион 2"
   ]
  },
  {
   "cell_type": "code",
   "execution_count": 6,
   "metadata": {},
   "outputs": [
    {
     "name": "stdout",
     "output_type": "stream",
     "text": [
      "Среднее предсказанного 68.728546895446\n",
      "Среднее выборки 68.85895465854666\n",
      "RMSE 0.893099286775616\n"
     ]
    }
   ],
   "source": [
    "target_2, predictions_2, mean_2 = model(region_2)"
   ]
  },
  {
   "cell_type": "code",
   "execution_count": 7,
   "metadata": {},
   "outputs": [
    {
     "data": {
      "text/html": [
       "<div>\n",
       "<style scoped>\n",
       "    .dataframe tbody tr th:only-of-type {\n",
       "        vertical-align: middle;\n",
       "    }\n",
       "\n",
       "    .dataframe tbody tr th {\n",
       "        vertical-align: top;\n",
       "    }\n",
       "\n",
       "    .dataframe thead th {\n",
       "        text-align: right;\n",
       "    }\n",
       "</style>\n",
       "<table border=\"1\" class=\"dataframe\">\n",
       "  <thead>\n",
       "    <tr style=\"text-align: right;\">\n",
       "      <th></th>\n",
       "      <th>id</th>\n",
       "      <th>f0</th>\n",
       "      <th>f1</th>\n",
       "      <th>f2</th>\n",
       "      <th>product</th>\n",
       "      <th>predicted</th>\n",
       "    </tr>\n",
       "  </thead>\n",
       "  <tbody>\n",
       "    <tr>\n",
       "      <td>0</td>\n",
       "      <td>kBEdx</td>\n",
       "      <td>-15.001348</td>\n",
       "      <td>-8.276000</td>\n",
       "      <td>-0.005876</td>\n",
       "      <td>3.179103</td>\n",
       "      <td>3.853530</td>\n",
       "    </tr>\n",
       "    <tr>\n",
       "      <td>1</td>\n",
       "      <td>62mP7</td>\n",
       "      <td>14.272088</td>\n",
       "      <td>-3.475083</td>\n",
       "      <td>0.999183</td>\n",
       "      <td>26.953261</td>\n",
       "      <td>26.592376</td>\n",
       "    </tr>\n",
       "    <tr>\n",
       "      <td>2</td>\n",
       "      <td>vyE1P</td>\n",
       "      <td>6.263187</td>\n",
       "      <td>-5.948386</td>\n",
       "      <td>5.001160</td>\n",
       "      <td>134.766305</td>\n",
       "      <td>135.665691</td>\n",
       "    </tr>\n",
       "    <tr>\n",
       "      <td>3</td>\n",
       "      <td>KcrkZ</td>\n",
       "      <td>-13.081196</td>\n",
       "      <td>-11.506057</td>\n",
       "      <td>4.999415</td>\n",
       "      <td>137.945408</td>\n",
       "      <td>138.544872</td>\n",
       "    </tr>\n",
       "    <tr>\n",
       "      <td>4</td>\n",
       "      <td>AHL4O</td>\n",
       "      <td>12.702195</td>\n",
       "      <td>-8.147433</td>\n",
       "      <td>5.004363</td>\n",
       "      <td>134.766305</td>\n",
       "      <td>134.867164</td>\n",
       "    </tr>\n",
       "  </tbody>\n",
       "</table>\n",
       "</div>"
      ],
      "text/plain": [
       "      id         f0         f1        f2     product   predicted\n",
       "0  kBEdx -15.001348  -8.276000 -0.005876    3.179103    3.853530\n",
       "1  62mP7  14.272088  -3.475083  0.999183   26.953261   26.592376\n",
       "2  vyE1P   6.263187  -5.948386  5.001160  134.766305  135.665691\n",
       "3  KcrkZ -13.081196 -11.506057  4.999415  137.945408  138.544872\n",
       "4  AHL4O  12.702195  -8.147433  5.004363  134.766305  134.867164"
      ]
     },
     "execution_count": 7,
     "metadata": {},
     "output_type": "execute_result"
    }
   ],
   "source": [
    "region_2.head()"
   ]
  },
  {
   "cell_type": "markdown",
   "metadata": {},
   "source": [
    "### Регион 3"
   ]
  },
  {
   "cell_type": "code",
   "execution_count": 8,
   "metadata": {},
   "outputs": [
    {
     "name": "stdout",
     "output_type": "stream",
     "text": [
      "Среднее предсказанного 94.96504596800489\n",
      "Среднее выборки 95.03858906371522\n",
      "RMSE 40.02970873393434\n"
     ]
    }
   ],
   "source": [
    "target_3, predictions_3, mean_3 = model(region_3)"
   ]
  },
  {
   "cell_type": "code",
   "execution_count": 9,
   "metadata": {
    "scrolled": true
   },
   "outputs": [
    {
     "data": {
      "text/html": [
       "<div>\n",
       "<style scoped>\n",
       "    .dataframe tbody tr th:only-of-type {\n",
       "        vertical-align: middle;\n",
       "    }\n",
       "\n",
       "    .dataframe tbody tr th {\n",
       "        vertical-align: top;\n",
       "    }\n",
       "\n",
       "    .dataframe thead th {\n",
       "        text-align: right;\n",
       "    }\n",
       "</style>\n",
       "<table border=\"1\" class=\"dataframe\">\n",
       "  <thead>\n",
       "    <tr style=\"text-align: right;\">\n",
       "      <th></th>\n",
       "      <th>id</th>\n",
       "      <th>f0</th>\n",
       "      <th>f1</th>\n",
       "      <th>f2</th>\n",
       "      <th>product</th>\n",
       "      <th>predicted</th>\n",
       "    </tr>\n",
       "  </thead>\n",
       "  <tbody>\n",
       "    <tr>\n",
       "      <td>0</td>\n",
       "      <td>fwXo0</td>\n",
       "      <td>-1.146987</td>\n",
       "      <td>0.963328</td>\n",
       "      <td>-0.828965</td>\n",
       "      <td>27.758673</td>\n",
       "      <td>75.968506</td>\n",
       "    </tr>\n",
       "    <tr>\n",
       "      <td>1</td>\n",
       "      <td>WJtFt</td>\n",
       "      <td>0.262778</td>\n",
       "      <td>0.269839</td>\n",
       "      <td>-2.530187</td>\n",
       "      <td>56.069697</td>\n",
       "      <td>66.329664</td>\n",
       "    </tr>\n",
       "    <tr>\n",
       "      <td>2</td>\n",
       "      <td>ovLUW</td>\n",
       "      <td>0.194587</td>\n",
       "      <td>0.289035</td>\n",
       "      <td>-5.586433</td>\n",
       "      <td>62.871910</td>\n",
       "      <td>48.880039</td>\n",
       "    </tr>\n",
       "    <tr>\n",
       "      <td>3</td>\n",
       "      <td>q6cA6</td>\n",
       "      <td>2.236060</td>\n",
       "      <td>-0.553760</td>\n",
       "      <td>0.930038</td>\n",
       "      <td>114.572842</td>\n",
       "      <td>86.178035</td>\n",
       "    </tr>\n",
       "    <tr>\n",
       "      <td>4</td>\n",
       "      <td>WPMUX</td>\n",
       "      <td>-0.515993</td>\n",
       "      <td>1.716266</td>\n",
       "      <td>5.899011</td>\n",
       "      <td>149.600746</td>\n",
       "      <td>114.363434</td>\n",
       "    </tr>\n",
       "  </tbody>\n",
       "</table>\n",
       "</div>"
      ],
      "text/plain": [
       "      id        f0        f1        f2     product   predicted\n",
       "0  fwXo0 -1.146987  0.963328 -0.828965   27.758673   75.968506\n",
       "1  WJtFt  0.262778  0.269839 -2.530187   56.069697   66.329664\n",
       "2  ovLUW  0.194587  0.289035 -5.586433   62.871910   48.880039\n",
       "3  q6cA6  2.236060 -0.553760  0.930038  114.572842   86.178035\n",
       "4  WPMUX -0.515993  1.716266  5.899011  149.600746  114.363434"
      ]
     },
     "execution_count": 9,
     "metadata": {},
     "output_type": "execute_result"
    }
   ],
   "source": [
    "region_3.head()"
   ]
  },
  {
   "cell_type": "markdown",
   "metadata": {},
   "source": [
    "<font color=darkgreen> \n",
    "\n",
    "# Вывод\n",
    " \n",
    " ###  Самый маленький разброс у региона №2, но у него и самые низкие средние предсказанные прибыли, возможно у него будут самые низкие риски или выше стабильность."
   ]
  },
  {
   "cell_type": "markdown",
   "metadata": {},
   "source": [
    "## 3. Подготовка к рассчету прибыли"
   ]
  },
  {
   "cell_type": "markdown",
   "metadata": {},
   "source": [
    "### Норма безубыточности для скважины (барелли)"
   ]
  },
  {
   "cell_type": "code",
   "execution_count": 10,
   "metadata": {},
   "outputs": [],
   "source": [
    "budget = 10**10\n",
    "chink_numbers = 10**4\n",
    "profit = 45*10**4\n",
    "all_chink_vol = (budget/chink_numbers)/profit"
   ]
  },
  {
   "cell_type": "markdown",
   "metadata": {},
   "source": [
    "<font color='purple'>\n",
    "    \n",
    "## Проверю ноли."
   ]
  },
  {
   "cell_type": "code",
   "execution_count": 11,
   "metadata": {},
   "outputs": [
    {
     "data": {
      "text/plain": [
       "(10000000000, 10000, 450000, 2.2222222222222223)"
      ]
     },
     "execution_count": 11,
     "metadata": {},
     "output_type": "execute_result"
    }
   ],
   "source": [
    "budget, chink_numbers, profit, all_chink_vol"
   ]
  },
  {
   "cell_type": "markdown",
   "metadata": {},
   "source": [
    "<font color='purple'>\n",
    "\n",
    "## Похоже что ошибки в порядках нет. Все ноли на месте. "
   ]
  },
  {
   "cell_type": "code",
   "execution_count": 12,
   "metadata": {},
   "outputs": [],
   "source": [
    "damage_level = all_chink_vol*chink_numbers"
   ]
  },
  {
   "cell_type": "code",
   "execution_count": 13,
   "metadata": {},
   "outputs": [
    {
     "data": {
      "text/plain": [
       "22222.222222222223"
      ]
     },
     "execution_count": 13,
     "metadata": {},
     "output_type": "execute_result"
    }
   ],
   "source": [
    "damage_level "
   ]
  },
  {
   "cell_type": "markdown",
   "metadata": {},
   "source": [
    "### Норма безубыточности для 200 скважин в пересчете на одну,  барель"
   ]
  },
  {
   "cell_type": "code",
   "execution_count": 14,
   "metadata": {},
   "outputs": [],
   "source": [
    "volume_200 = budget/200/profit"
   ]
  },
  {
   "cell_type": "code",
   "execution_count": 15,
   "metadata": {},
   "outputs": [
    {
     "data": {
      "text/plain": [
       "111.11111111111111"
      ]
     },
     "execution_count": 15,
     "metadata": {},
     "output_type": "execute_result"
    }
   ],
   "source": [
    "volume_200"
   ]
  },
  {
   "cell_type": "code",
   "execution_count": 16,
   "metadata": {},
   "outputs": [
    {
     "data": {
      "text/plain": [
       "0.0"
      ]
     },
     "execution_count": 16,
     "metadata": {},
     "output_type": "execute_result"
    }
   ],
   "source": [
    "budget - (200*profit*volume_200)"
   ]
  },
  {
   "cell_type": "markdown",
   "metadata": {},
   "source": [
    "<font color='purple'>\n",
    "\n",
    "## Аналогично для 10000 скважин:"
   ]
  },
  {
   "cell_type": "code",
   "execution_count": 17,
   "metadata": {},
   "outputs": [
    {
     "data": {
      "text/plain": [
       "0.0"
      ]
     },
     "execution_count": 17,
     "metadata": {},
     "output_type": "execute_result"
    }
   ],
   "source": [
    "budget - (chink_numbers*profit*all_chink_vol)"
   ]
  },
  {
   "cell_type": "markdown",
   "metadata": {},
   "source": [
    "<font color='purple'>\n",
    "\n",
    "## Ошибки в рассчетах по норме безубыточности в баррелях нет. Соответственно норма безубыточности для 200-х скважин будет Volume_200 Х 200:"
   ]
  },
  {
   "cell_type": "code",
   "execution_count": 18,
   "metadata": {},
   "outputs": [
    {
     "data": {
      "text/plain": [
       "0.0"
      ]
     },
     "execution_count": 18,
     "metadata": {},
     "output_type": "execute_result"
    }
   ],
   "source": [
    "damage_level - volume_200*200"
   ]
  },
  {
   "cell_type": "code",
   "execution_count": 19,
   "metadata": {},
   "outputs": [
    {
     "data": {
      "text/plain": [
       "22222.222222222223"
      ]
     },
     "execution_count": 19,
     "metadata": {},
     "output_type": "execute_result"
    }
   ],
   "source": [
    "volume_200*200"
   ]
  },
  {
   "cell_type": "code",
   "execution_count": 20,
   "metadata": {},
   "outputs": [
    {
     "data": {
      "text/plain": [
       "10000000000.0"
      ]
     },
     "execution_count": 20,
     "metadata": {},
     "output_type": "execute_result"
    }
   ],
   "source": [
    "damage_level*profit"
   ]
  },
  {
   "cell_type": "markdown",
   "metadata": {},
   "source": [
    "<font color='purple'>\n",
    "\n",
    "## Все полностью совпало"
   ]
  },
  {
   "cell_type": "markdown",
   "metadata": {},
   "source": [
    "### Валовая средняя прибыль для скважины по локации"
   ]
  },
  {
   "cell_type": "code",
   "execution_count": 21,
   "metadata": {},
   "outputs": [],
   "source": [
    "def income(x):\n",
    "    income = round((x*profit) - (budget/profit))\n",
    "    return income"
   ]
  },
  {
   "cell_type": "code",
   "execution_count": 22,
   "metadata": {},
   "outputs": [
    {
     "name": "stdout",
     "output_type": "stream",
     "text": [
      "Валовая локации 1: 41644433.0 Валовая локации 2: 30905624.0 Валовая локации 1: 42712048.0\n"
     ]
    }
   ],
   "source": [
    "print('Валовая локации 1:',income(predictions_1.mean()), 'Валовая локации 2:', \n",
    "      income(predictions_2.mean()), 'Валовая локации 1:',income(predictions_3.mean()))"
   ]
  },
  {
   "cell_type": "markdown",
   "metadata": {},
   "source": [
    "<font color=darkgreen> \n",
    "\n",
    "# Вывод\n",
    " \n",
    " ###  Ожидаемо самая низкая средняя валовая прибыль у региона 2, но мы не знаем выбросов по регионам 1 и 3, возможно там самые богатые месторождения. Проверим медианы, чтобы подтвердить теорию."
   ]
  },
  {
   "cell_type": "code",
   "execution_count": 23,
   "metadata": {},
   "outputs": [],
   "source": [
    "def box (ser):\n",
    "    plt.boxplot(ser)\n",
    "    plt.show()"
   ]
  },
  {
   "cell_type": "code",
   "execution_count": 24,
   "metadata": {},
   "outputs": [
    {
     "data": {
      "image/png": "[encoded data removed]",
      "text/plain": [
       "<Figure size 432x288 with 1 Axes>"
      ]
     },
     "metadata": {
      "needs_background": "light"
     },
     "output_type": "display_data"
    }
   ],
   "source": [
    "box(region_1['product'])\n"
   ]
  },
  {
   "cell_type": "code",
   "execution_count": 25,
   "metadata": {},
   "outputs": [
    {
     "data": {
      "image/png": "[encoded data removed]",
      "text/plain": [
       "<Figure size 432x288 with 1 Axes>"
      ]
     },
     "metadata": {
      "needs_background": "light"
     },
     "output_type": "display_data"
    }
   ],
   "source": [
    "box(region_2['product'])"
   ]
  },
  {
   "cell_type": "code",
   "execution_count": 26,
   "metadata": {
    "scrolled": true
   },
   "outputs": [
    {
     "data": {
      "image/png": "[encoded data removed]",
      "text/plain": [
       "<Figure size 432x288 with 1 Axes>"
      ]
     },
     "metadata": {
      "needs_background": "light"
     },
     "output_type": "display_data"
    }
   ],
   "source": [
    "box(region_3['product'])"
   ]
  },
  {
   "cell_type": "markdown",
   "metadata": {},
   "source": [
    "<font color=darkgreen> \n",
    " \n",
    " ###  Экстремально больших или малых значений, способных повлиять на среднее, в большом количестве в выборке нет. При этом в регионе 2 есть разброс в высоких значениях, а значит вероятность попасть на скважину с большим нетто будет выше"
   ]
  },
  {
   "cell_type": "markdown",
   "metadata": {},
   "source": [
    "<font color='blue'> \n",
    "### <u>КОММЕНТАРИЙ РЕВЬЮЕРА</u>\n",
    "</font>\n",
    "<font color='green'>\n",
    "такие аналитические выводы лучше ещё подкреплять графически: например ящик с усами. Там визуально можно оценить всё, что сказали (ну или опровергнуть)))\n",
    "<br>\n",
    "</font>"
   ]
  },
  {
   "cell_type": "markdown",
   "metadata": {},
   "source": [
    "## 4. Прибыль по выбранным скважинам"
   ]
  },
  {
   "cell_type": "code",
   "execution_count": 27,
   "metadata": {},
   "outputs": [],
   "source": [
    "def revenue(df):\n",
    "    sort_predicted = df.sort_values('predicted', ascending = False).head(200)\n",
    "    sort_real = df[df.index.isin(sort_predicted.index)]\n",
    "    revenue = sort_real['product'].sum()*profit\n",
    "    return revenue"
   ]
  },
  {
   "cell_type": "markdown",
   "metadata": {},
   "source": [
    "### Регион 1"
   ]
  },
  {
   "cell_type": "code",
   "execution_count": 28,
   "metadata": {
    "scrolled": true
   },
   "outputs": [
    {
     "name": "stdout",
     "output_type": "stream",
     "text": [
      "Доход по предсказаниям 13494104192.112015\n"
     ]
    }
   ],
   "source": [
    "print ('Доход по предсказаниям', revenue(region_1))\n"
   ]
  },
  {
   "cell_type": "markdown",
   "metadata": {},
   "source": [
    "### Регион 2"
   ]
  },
  {
   "cell_type": "code",
   "execution_count": 29,
   "metadata": {
    "scrolled": true
   },
   "outputs": [
    {
     "name": "stdout",
     "output_type": "stream",
     "text": [
      "Доход по предсказаниям 12415086696.68151\n"
     ]
    }
   ],
   "source": [
    "print ('Доход по предсказаниям', revenue(region_2))"
   ]
  },
  {
   "cell_type": "markdown",
   "metadata": {},
   "source": [
    "### Регион 3"
   ]
  },
  {
   "cell_type": "code",
   "execution_count": 30,
   "metadata": {
    "scrolled": false
   },
   "outputs": [
    {
     "name": "stdout",
     "output_type": "stream",
     "text": [
      "Доход по предсказаниям 12571410631.960928\n"
     ]
    }
   ],
   "source": [
    "print ('Доход по предсказаниям', revenue(region_3))"
   ]
  },
  {
   "cell_type": "markdown",
   "metadata": {},
   "source": [
    "<font color=darkgreen> \n",
    "\n",
    "# Вывод\n",
    " \n",
    " ###  В случае с топовыми месторождениями картина изменилась. Регион 2 теперь не на много уступает остальным, но как мы помним у него меньший разброс. Проверим разброс по топовым значениям."
   ]
  },
  {
   "cell_type": "markdown",
   "metadata": {},
   "source": [
    "<font color='purple'>\n",
    "\n",
    "## Ошибку в расчетах можно проверить. Так, в моем датафрейм одновременно находятся и таргеты и предсказания, то можно проссумировать их вручную, выбрав из таблицы первые 200 значений по убыванию. НО для того, чтобы получить прибыль, нужно отнять budget"
   ]
  },
  {
   "cell_type": "code",
   "execution_count": 31,
   "metadata": {},
   "outputs": [],
   "source": [
    "def chek (df, value):\n",
    "    chek = df.sort_values(value, ascending = False)[:200]\n",
    "    print(chek.head())\n",
    "    print()\n",
    "    print('Доход по реальным',chek['product'].sum()*profit)\n",
    "    print()\n",
    "    #print('Баррель',chek['product'].sum())\n",
    "    #print()\n",
    "    print('Доход по предсказанным',chek['predicted'].sum()*profit)"
   ]
  },
  {
   "cell_type": "code",
   "execution_count": 32,
   "metadata": {
    "scrolled": true
   },
   "outputs": [
    {
     "name": "stdout",
     "output_type": "stream",
     "text": [
      "          id        f0        f1         f2     product   predicted\n",
      "51140  QFDWZ  1.092258 -0.541900  16.003790  182.079984  194.936305\n",
      "83095  xuWxm  1.888221  0.067384  15.428372  144.009283  185.412580\n",
      "51464  Fgte6  1.612452 -0.074593  15.230322  173.971897  185.117595\n",
      "93073  S96Jh  1.814871 -0.207268  14.087536  162.810993  180.180713\n",
      "52356  R5IYz  0.879559  0.258449  15.202838  123.920559  177.608048\n",
      "\n",
      "Доход по реальным 13494104192.112015\n",
      "\n",
      "Доход по предсказанным 14689596176.96032\n"
     ]
    }
   ],
   "source": [
    "chek(region_1, 'predicted')"
   ]
  },
  {
   "cell_type": "code",
   "execution_count": 33,
   "metadata": {},
   "outputs": [
    {
     "name": "stdout",
     "output_type": "stream",
     "text": [
      "          id         f0         f1        f2     product   predicted\n",
      "26531  yLbdW -26.646255  -1.531112  5.001941  137.945408  140.359367\n",
      "80439  kpPCd -23.884180  -3.773158  5.001008  137.945408  139.983257\n",
      "55165  wcKNk -22.107811  -5.342910  5.006254  137.945408  139.901759\n",
      "42738  XLXvP -19.384167 -15.314765  5.010972  137.945408  139.853808\n",
      "38665  vz1OW -19.348001 -14.265995  5.010731  137.945408  139.818970\n",
      "\n",
      "Доход по реальным 12415086696.68151\n",
      "\n",
      "Доход по предсказанным 12524606161.715038\n"
     ]
    }
   ],
   "source": [
    "chek(region_2, 'predicted')"
   ]
  },
  {
   "cell_type": "code",
   "execution_count": 34,
   "metadata": {
    "scrolled": true
   },
   "outputs": [
    {
     "name": "stdout",
     "output_type": "stream",
     "text": [
      "          id        f0        f1         f2     product   predicted\n",
      "3540   4KBhu -2.548791  3.210600  16.739402  154.062998  176.120799\n",
      "98714  C6aBZ -0.209583  1.174825  16.357645   98.664401  174.099141\n",
      "25463  mMCBz -1.623992 -3.263073  16.313011  166.293929  173.986438\n",
      "6647   AaIO6  1.046668 -1.970502  16.252444  152.294162  173.669179\n",
      "69502  OYrnh -1.145417 -0.650543  16.223146  121.349438  173.378840\n",
      "\n",
      "Доход по реальным 12571410631.960928\n",
      "\n",
      "Доход по предсказанным 14063785590.942598\n"
     ]
    }
   ],
   "source": [
    "chek(region_3, 'predicted')"
   ]
  },
  {
   "cell_type": "markdown",
   "metadata": {},
   "source": [
    "<font color='purple'>\n",
    "\n",
    "## Как видно, все совпало    \n",
    "## Если же намеренно сделать ошибку и провести сортировку по реальным значениям(чего в жизни мы сделать не сможем), то у нас получится красивый разброс:"
   ]
  },
  {
   "cell_type": "code",
   "execution_count": 35,
   "metadata": {
    "scrolled": false
   },
   "outputs": [
    {
     "name": "stdout",
     "output_type": "stream",
     "text": [
      "          id        f0        f1        f2     product   predicted\n",
      "8826   rjMou  1.797736  0.098212  6.148260  185.364347  123.467550\n",
      "99818  7cHIv  0.518445 -0.412790  4.951916  185.362690  118.187687\n",
      "94175  uCDzR  0.351428 -0.400244  7.227618  185.355615  132.414838\n",
      "1925   IfqrC  0.624430 -0.469312  5.753677  185.354980  124.651458\n",
      "45291  5FEPb  1.758787 -0.395038  6.719085  185.352015  134.044965\n",
      "\n",
      "Доход по реальным 16635036568.082407\n",
      "\n",
      "Доход по предсказанным 10619865383.688232\n"
     ]
    }
   ],
   "source": [
    "chek(region_1, 'product')"
   ]
  },
  {
   "cell_type": "code",
   "execution_count": 36,
   "metadata": {},
   "outputs": [
    {
     "name": "stdout",
     "output_type": "stream",
     "text": [
      "          id        f0         f1        f2     product   predicted\n",
      "53864  MzRzn  2.901352  -3.475398  5.001393  137.945408  136.104749\n",
      "97083  nW6eC -4.030430 -14.020643  5.009571  137.945408  137.562162\n",
      "88340  xwJzQ -3.373117  -9.227661  4.994369  137.945408  136.951596\n",
      "64879  Xd8DC -5.360281  -2.388204  5.001439  137.945408  137.279509\n",
      "7288   Stdrb -8.058661  -2.244840  5.000753  137.945408  137.648963\n",
      "\n",
      "Доход по реальным 12415086696.68151\n",
      "\n",
      "Доход по предсказанным 12373192298.34683\n"
     ]
    }
   ],
   "source": [
    "chek(region_2, 'product')"
   ]
  },
  {
   "cell_type": "code",
   "execution_count": 37,
   "metadata": {},
   "outputs": [
    {
     "name": "stdout",
     "output_type": "stream",
     "text": [
      "          id        f0        f1        f2     product   predicted\n",
      "79705  UAhji -2.747914  1.555227  3.342182  190.029838   99.705360\n",
      "93444  IB0JE  3.026506  1.344623  8.891243  190.013589  131.569870\n",
      "35099  2HeCn  2.848844 -1.701996  9.437101  190.011722  134.808012\n",
      "21943  dldNH -2.500091  2.024392  6.291513  190.010982  116.529760\n",
      "37870  CpuBi -0.686667 -3.219452  5.963290  190.010029  114.931783\n",
      "\n",
      "Доход по реальным 17059632928.358982\n",
      "\n",
      "Доход по предсказанным 9660872276.0044\n"
     ]
    }
   ],
   "source": [
    "chek(region_3, 'product')"
   ]
  },
  {
   "cell_type": "markdown",
   "metadata": {},
   "source": [
    "<font color='purple'>\n",
    "\n",
    "## Как видно из таблиц, ошибки быть не может. Разброс действительно наблюдается, но только если мы изначально проведем сортировку по таргетам, но условие задачи говорит нам:\n",
    "  ##  Напишите функцию для расчёта прибыли по выбранным скважинам и ПРЕДСКАЗАНИЯМ модели:\n",
    " - 4.1. Выберите скважины с максимальными значениями предсказаний. Количество скважин зависит от бюджета компании и стоимости разработки одной скважины.\n",
    " - 4.2. Просуммируйте целевое значение объёма сырья, соответствующее этим предсказаниям.\n",
    " - 4.3. Рассчитайте прибыль для полученного объёма сырья.\n",
    "    \n",
    " ## То есть топ - 200 необходимо определить по предсказаниям, а прибыль посчитать по реально добытым объемам, а разброс РЕАЛЬНОГО добытого оказался минимальным."
   ]
  },
  {
   "cell_type": "code",
   "execution_count": 38,
   "metadata": {},
   "outputs": [],
   "source": [
    "def RMSE200(df):\n",
    "    sort_predicted = df.sort_values('predicted', ascending = False).head(200)\n",
    "    sort_real = df[df.index.isin(sort_predicted.index)]\n",
    "    rmse = mean_squared_error(sort_real['product'], sort_real['predicted'])**0.5\n",
    "    return rmse"
   ]
  },
  {
   "cell_type": "code",
   "execution_count": 39,
   "metadata": {},
   "outputs": [
    {
     "name": "stdout",
     "output_type": "stream",
     "text": [
      "RMSE200 регион 1 27.630775253180992\n"
     ]
    }
   ],
   "source": [
    "print('RMSE200 регион 1', RMSE200(region_1))"
   ]
  },
  {
   "cell_type": "code",
   "execution_count": 40,
   "metadata": {},
   "outputs": [
    {
     "name": "stdout",
     "output_type": "stream",
     "text": [
      "RMSE регион 2 1.2433256443670808\n"
     ]
    }
   ],
   "source": [
    "print('RMSE регион 2', RMSE200(region_2))"
   ]
  },
  {
   "cell_type": "code",
   "execution_count": 41,
   "metadata": {},
   "outputs": [
    {
     "name": "stdout",
     "output_type": "stream",
     "text": [
      "RMSE регион 3 32.54079124559519\n"
     ]
    }
   ],
   "source": [
    "print('RMSE регион 3', RMSE200(region_3))"
   ]
  },
  {
   "cell_type": "markdown",
   "metadata": {},
   "source": [
    "<font color=darkgreen> \n",
    " \n",
    " ###  В случае с топовыми месторождениями разброс региона 2 увеличился, но тем не менее остается на порядки выше, чем у конкурентов."
   ]
  },
  {
   "cell_type": "markdown",
   "metadata": {},
   "source": [
    "## 5. Риски и прибыль для каждого региона"
   ]
  },
  {
   "cell_type": "code",
   "execution_count": 42,
   "metadata": {},
   "outputs": [],
   "source": [
    "def risks_profit(df):\n",
    "    alpha = .95\n",
    "    random_state = np.random.RandomState(2)\n",
    "    bootstrap_samples = 1000\n",
    "    target = df['product']\n",
    "    predictions = df['predicted']\n",
    "    profits = []\n",
    "    riscs = []\n",
    "    for i in range (bootstrap_samples):\n",
    "        predictions_subsample = predictions.sample(500, replace = True, random_state = random_state)\n",
    "        data = df[df.index.isin(predictions_subsample.index)]\n",
    "        local_rev = revenue(data)\n",
    "        profits.append(local_rev - budget)\n",
    "        riscs.append((local_rev - budget) < 0)\n",
    "    profits = pd.Series(profits)\n",
    "    riscs = pd.Series(riscs)\n",
    "    mean_profit = profits.mean()\n",
    "    risc_percent = round(riscs.mean()*100, 1)\n",
    "    confidence_interval_mean = st.t.interval(alpha, len(profits)-1, loc=profits.mean(), scale=profits.sem())\n",
    "    confidence_interval = (profits.quantile(0.025), profits.quantile(0.975))\n",
    "    print('Средняя прибыль', mean_profit)\n",
    "    print()\n",
    "    print('Доверительный интервал', confidence_interval)\n",
    "    print()\n",
    "    print('Доверительный интервал по средним', confidence_interval_mean)\n",
    "    print()\n",
    "    print('Риск убытков', risc_percent,'%')"
   ]
  },
  {
   "cell_type": "markdown",
   "metadata": {},
   "source": [
    "<font color='purple'>\n",
    "\n",
    "## Local_rev - это прям доход, я использовал готовую функцию из первой части, поэтому просто вычитаю затраты"
   ]
  },
  {
   "cell_type": "markdown",
   "metadata": {},
   "source": [
    "<font color='purple'>\n",
    "\n",
    "## Проверю функцию на правильность работы."
   ]
  },
  {
   "cell_type": "code",
   "execution_count": 43,
   "metadata": {},
   "outputs": [],
   "source": [
    "df = region_1\n",
    "bootstrap_samples = 1000\n",
    "random_state = np.random.RandomState(2)\n",
    "predictions = df['predicted']\n",
    "profits = []\n",
    "riscs = 0\n",
    "summ = []\n",
    "data_1 = []\n",
    "\n",
    "for i in range (bootstrap_samples):\n",
    "    # Определю переменную для бутстрап, посмотрю на нее в выводе на экран. В идеале это список из 500 значений предсказанных запасов\n",
    "    predictions_subsample = predictions.sample(500, replace = True, random_state = random_state)\n",
    "    # Во фрейм попадает 500 значений по индексу предсказанных, затем отсортирую их по убыванию и отсеку нижние значения для наглядности\n",
    "    data = df[df.index.isin(predictions_subsample.index)].sort_values('predicted', ascending = False).head(200)\n",
    "    #Проверю что минимаольные значения попадают во фрэйм\n",
    "    data_1.append(data['product'].min())\n",
    "    # На этапе расчета дохода, операция сортировки и отсечения повторится, но не затронет данные, так как лишнее уже отсечено\n",
    "    rev = revenue(data)\n",
    "    # Проверю локальные суммы\n",
    "    local_sum = data['product'].sum()\n",
    "    # Посчитаю прибыль и закину в профитс\n",
    "    profits.append(rev - budget)\n",
    "    # Закину локальные суммы в суммы\n",
    "    summ.append(data['product'].sum())\n",
    "    # Напишу логическое условие для счетчика обьема добычи и сравню с damage_level (2222,22)\n",
    "    if data['product'].sum() < damage_level:\n",
    "        riscs += 1\n",
    "    \n",
    "summ = pd.Series(summ)"
   ]
  },
  {
   "cell_type": "code",
   "execution_count": 44,
   "metadata": {},
   "outputs": [],
   "source": [
    "# Тут лежат минимальнве значения, они попадают во фрейм, все в порядке с этим, я проверил. Можно убрать хэш и посмотреть,\n",
    "# но как понимаешь их там 1000\n",
    "\n",
    "#data_1"
   ]
  },
  {
   "cell_type": "code",
   "execution_count": 45,
   "metadata": {},
   "outputs": [
    {
     "name": "stdout",
     "output_type": "stream",
     "text": [
      "901.4749851139147\n"
     ]
    }
   ],
   "source": [
    "# Возьму минимальное значение среднего выборки со всего поля и представлю что все 200 скважин добывают минимальное количество, \n",
    "# сравню с 2222,22 \n",
    "print(data['product'].min()*200)"
   ]
  },
  {
   "cell_type": "markdown",
   "metadata": {},
   "source": [
    "<font color='purple'>\n",
    "\n",
    "### Вывод - минимальные значения в сборках присутствуют"
   ]
  },
  {
   "cell_type": "code",
   "execution_count": 46,
   "metadata": {},
   "outputs": [
    {
     "data": {
      "text/plain": [
       "21054.563590668564"
      ]
     },
     "execution_count": 46,
     "metadata": {},
     "output_type": "execute_result"
    }
   ],
   "source": [
    "# Для объективности возьму наименьшее суммарное значение добычи из 1000 сэмплов\n",
    "summ.min()"
   ]
  },
  {
   "cell_type": "markdown",
   "metadata": {},
   "source": [
    "<font color='purple'>\n",
    "\n",
    "### Вывод - теперь все в порядке)"
   ]
  },
  {
   "cell_type": "code",
   "execution_count": 47,
   "metadata": {},
   "outputs": [
    {
     "data": {
      "text/plain": [
       "-525446384.1991463"
      ]
     },
     "execution_count": 47,
     "metadata": {},
     "output_type": "execute_result"
    }
   ],
   "source": [
    "# Соответсвенно наименьшая прибыль с поля будет \n",
    "summ.min()*profit-budget"
   ]
  },
  {
   "cell_type": "markdown",
   "metadata": {},
   "source": [
    "<font color='purple'>\n",
    "\n",
    "### Вывод - тоже наладилось"
   ]
  },
  {
   "cell_type": "markdown",
   "metadata": {},
   "source": [
    "<font color='purple'>\n",
    "\n",
    "## Я проверил выборочно и по минимальным значениям, у меня получается, что все сборки полей при условии фильтрации 500 случайных по предсказаниям и сборкой 200 лучших по предсказаниям, в пересчете на реальные данные будут прибыльными. Если где-то есть ошибка, я вооще не понимаю где... Ну то есть я реально пытался ее найти. Первая мысль была в том, что не правильно сравниваются риски (то есть значение безубыточности неверно, но я его проверил выше по проекту и если 2222,22 барелля умножить на 450 000 рублей, то получится миллиард)"
   ]
  },
  {
   "cell_type": "code",
   "execution_count": 48,
   "metadata": {
    "scrolled": true
   },
   "outputs": [
    {
     "data": {
      "text/plain": [
       "10000000000.0"
      ]
     },
     "execution_count": 48,
     "metadata": {},
     "output_type": "execute_result"
    }
   ],
   "source": [
    "damage_level*profit"
   ]
  },
  {
   "cell_type": "code",
   "execution_count": 49,
   "metadata": {},
   "outputs": [
    {
     "name": "stdout",
     "output_type": "stream",
     "text": [
      "Средняя прибыль 417545589.0601342\n",
      "\n",
      "Доверительный интервал (-86518998.52452075, 913234386.1916623)\n",
      "\n",
      "Доверительный интервал по средним (401685019.09649813, 433406159.0237702)\n",
      "\n",
      "Риск убытков 5.6 %\n"
     ]
    }
   ],
   "source": [
    "risks_profit(region_1)"
   ]
  },
  {
   "cell_type": "code",
   "execution_count": 50,
   "metadata": {
    "scrolled": true
   },
   "outputs": [
    {
     "name": "stdout",
     "output_type": "stream",
     "text": [
      "Средняя прибыль 447591153.26428527\n",
      "\n",
      "Доверительный интервал (31758584.930071544, 849392496.637085)\n",
      "\n",
      "Доверительный интервал по средним (434958867.4319844, 460223439.0965861)\n",
      "\n",
      "Риск убытков 1.8 %\n"
     ]
    }
   ],
   "source": [
    "risks_profit(region_2)"
   ]
  },
  {
   "cell_type": "code",
   "execution_count": 51,
   "metadata": {
    "scrolled": true
   },
   "outputs": [
    {
     "name": "stdout",
     "output_type": "stream",
     "text": [
      "Средняя прибыль 358505397.3793633\n",
      "\n",
      "Доверительный интервал (-178646298.99964452, 884821290.543188)\n",
      "\n",
      "Доверительный интервал по средним (341813417.8903212, 375197376.8684054)\n",
      "\n",
      "Риск убытков 9.1 %\n"
     ]
    }
   ],
   "source": [
    "risks_profit(region_3)"
   ]
  },
  {
   "cell_type": "markdown",
   "metadata": {},
   "source": [
    "<font color='purple'>\n",
    "\n",
    "## Дополнил доверительным интервалом\n",
    "## Также появились отрицательные доверительные интервалы "
   ]
  },
  {
   "cell_type": "markdown",
   "metadata": {},
   "source": [
    "<font color=darkgreen> \n",
    "\n",
    "# Вывод\n",
    " \n",
    " ###  Все регионы перспективны для разработки и дадут близкую прибыль, а риски равны 0. Если затарты на разработку сопоставимы и условия эдентичны, то наиболее привлекательные месторождения расположились в порядке: \n",
    "### - Регион 2\n",
    "### - Регион 1\n",
    "### - Регион 3\n",
    "### Помимо прочьего регион 2 будет давать равномерную загрузку по скважинам."
   ]
  },
  {
   "cell_type": "code",
   "execution_count": null,
   "metadata": {},
   "outputs": [],
   "source": []
  },
  {
   "cell_type": "code",
   "execution_count": 52,
   "metadata": {},
   "outputs": [],
   "source": [
    "def risks_profit_1(df):\n",
    "    alpha = .95\n",
    "    random_state = np.random.RandomState(2)\n",
    "    bootstrap_samples = 1000\n",
    "    target = df['product']\n",
    "    predictions = df['predicted']\n",
    "    profits = []\n",
    "    riscs = []\n",
    "    riscs_interval = []\n",
    "    for i in range (bootstrap_samples):\n",
    "        predictions_subsample = predictions.sample(500, replace = True, random_state = random_state)\n",
    "        data = df[df.index.isin(predictions_subsample.index)]\n",
    "        local_rev = revenue(data)\n",
    "        profits.append(local_rev - budget) \n",
    "        riscs.append((local_rev - budget) < 0)\n",
    "        riscs_interval.append((local_rev - budget) < pd.Series(profits).quantile(0.025))\n",
    "    profits = pd.Series(profits)\n",
    "    riscs = pd.Series(riscs)\n",
    "    riscs_interval = pd.Series(riscs_interval)\n",
    "    mean_profit = profits.mean()\n",
    "    risc_percent = round(riscs.mean()*100, 1)\n",
    "    riscs_interval = riscs_interval.mean()\n",
    "    confidence_interval_mean = st.t.interval(alpha, len(profits)-1, loc=profits.mean(), scale=profits.sem())\n",
    "    confidence_interval = (profits.quantile(0.025), profits.quantile(0.975))\n",
    "        \n",
    "    print('Средняя прибыль', mean_profit)\n",
    "    print()\n",
    "    print('Доверительный интервал', confidence_interval)\n",
    "    print()\n",
    "    print('Доверительный интервал по средним', confidence_interval_mean)\n",
    "    print()\n",
    "    print('Риск убытков по доверительному интервалу',  round(riscs_interval*100, 1),'%')\n",
    "    print()\n",
    "    print('Риск убытков', risc_percent,'%')"
   ]
  },
  {
   "cell_type": "code",
   "execution_count": 53,
   "metadata": {},
   "outputs": [
    {
     "name": "stdout",
     "output_type": "stream",
     "text": [
      "Средняя прибыль 417545589.0601342\n",
      "\n",
      "Доверительный интервал (-86518998.52452075, 913234386.1916623)\n",
      "\n",
      "Доверительный интервал по средним (401685019.09649813, 433406159.0237702)\n",
      "\n",
      "Риск убытков по доверительному интервалу 2.7 %\n",
      "\n",
      "Риск убытков 5.6 %\n"
     ]
    }
   ],
   "source": [
    "risks_profit_1(region_1)"
   ]
  },
  {
   "cell_type": "code",
   "execution_count": 54,
   "metadata": {
    "scrolled": true
   },
   "outputs": [
    {
     "name": "stdout",
     "output_type": "stream",
     "text": [
      "Средняя прибыль 447591153.26428527\n",
      "\n",
      "Доверительный интервал (31758584.930071544, 849392496.637085)\n",
      "\n",
      "Доверительный интервал по средним (434958867.4319844, 460223439.0965861)\n",
      "\n",
      "Риск убытков по доверительному интервалу 2.1 %\n",
      "\n",
      "Риск убытков 1.8 %\n"
     ]
    }
   ],
   "source": [
    "risks_profit_1(region_2)"
   ]
  },
  {
   "cell_type": "code",
   "execution_count": 55,
   "metadata": {},
   "outputs": [
    {
     "name": "stdout",
     "output_type": "stream",
     "text": [
      "Средняя прибыль 358505397.3793633\n",
      "\n",
      "Доверительный интервал (-178646298.99964452, 884821290.543188)\n",
      "\n",
      "Доверительный интервал по средним (341813417.8903212, 375197376.8684054)\n",
      "\n",
      "Риск убытков по доверительному интервалу 2.9 %\n",
      "\n",
      "Риск убытков 9.1 %\n"
     ]
    }
   ],
   "source": [
    "risks_profit_1(region_3)"
   ]
  },
  {
   "cell_type": "markdown",
   "metadata": {},
   "source": [
    "<font color=darkgreen> \n",
    "\n",
    "# Вывод\n",
    " \n",
    " ###  Все регионы перспективны для разработки и дадут близкую прибыль, а риски равны 0. Если затарты на разработку сопоставимы и условия эдентичны, то наиболее привлекательные месторождения расположились в порядке: \n",
    "### - Регион 2\n",
    "### - Регион 1\n",
    "### - Регион 3\n",
    "### Помимо прочьего регион 2 будет давать равномерную загрузку по скважинам и в нем меньше всего сборок полей выпадает из левой границы доверительного интервала"
   ]
  },
  {
   "cell_type": "code",
   "execution_count": null,
   "metadata": {},
   "outputs": [],
   "source": []
  }
 ],
 "metadata": {
  "kernelspec": {
   "display_name": "Python 3",
   "language": "python",
   "name": "python3"
  },
  "language_info": {
   "codemirror_mode": {
    "name": "ipython",
    "version": 3
   },
   "file_extension": ".py",
   "mimetype": "text/x-python",
   "name": "python",
   "nbconvert_exporter": "python",
   "pygments_lexer": "ipython3",
   "version": "3.7.6"
  }
 },
 "nbformat": 4,
 "nbformat_minor": 2
}
