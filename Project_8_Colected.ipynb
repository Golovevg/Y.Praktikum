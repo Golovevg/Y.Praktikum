{
 "cells": [
  {
   "cell_type": "markdown",
   "metadata": {},
   "source": [
    "<font color=darkblue> \n",
    "\n",
    "## Описание задачи.\n",
    "___\n",
    "    \n",
    "### Необходимо подготовить прототип модели машинного обучения для «Цифры». Компания разрабатывает решения для эффективной работы промышленных предприятий.\n",
    "### Модель должна предсказать коэффициент восстановления золота из золотосодержащей руды, основываясь на данных с параметрами добычи и очистки.\n",
    "### Модель разрабатывается для оптимизации производства, чтобы не запускать предприятие с убыточными характеристиками."
   ]
  },
  {
   "cell_type": "markdown",
   "metadata": {},
   "source": [
    "## Описание данных."
   ]
  },
  {
   "cell_type": "markdown",
   "metadata": {},
   "source": [
    "\n",
    "### Технологический процесс:\n",
    "- Rougher feed — исходное сырье\n",
    "- Rougher additions (или reagent additions) — флотационные реагенты: Xanthate, Sulphate, Depressant\n",
    "- Xanthate **— ксантогенат (промотер, или активатор флотации);\n",
    "- Sulphate — сульфат (на данном производстве сульфид натрия);\n",
    "- Depressant — депрессант (силикат натрия).\n",
    "- Rougher process (англ. «грубый процесс») — флотация\n",
    "- Rougher tails — отвальные хвосты\n",
    "- Float banks — флотационная установка\n",
    "- Cleaner process — очистка\n",
    "- Rougher Au — черновой концентрат золота\n",
    "- Final Au — финальный концентрат золота\n",
    "### Параметры этапов:\n",
    "- air amount — объём воздуха\n",
    "- fluid levels — уровень жидкости\n",
    "- feed size — размер гранул сырья\n",
    "- feed rate — скорость подачи\n",
    "### Наименование признаков:\n",
    "Наименование признаков построено по принципу:\n",
    "[этап].[тип_параметра].[название_параметра]\n",
    "Пример: rougher.input.feed_ag\n",
    "#### Значения для блока [этап]:\n",
    "- rougher — флотация\n",
    "- primary_cleaner — первичная очистка\n",
    "- secondary_cleaner — вторичная очистка\n",
    "- final — финальные характеристики\n",
    "### Значения для блока [тип_параметра]:\n",
    "- input — параметры сырья\n",
    "- output — параметры продукта\n",
    "- state — параметры, характеризующие текущее состояние этапа\n",
    "- calculation — расчётные характеристики"
   ]
  },
  {
   "cell_type": "markdown",
   "metadata": {},
   "source": [
    "## Вызов бибиотек."
   ]
  },
  {
   "cell_type": "code",
   "execution_count": 1,
   "metadata": {},
   "outputs": [],
   "source": [
    "import pandas as pd\n",
    "from sklearn.metrics import mean_absolute_error\n",
    "import matplotlib.pyplot as plt\n",
    "import seaborn as sns\n",
    "import numpy as np\n",
    "from sklearn.preprocessing import StandardScaler\n",
    "from sklearn.model_selection import cross_val_score\n",
    "from sklearn.linear_model import LinearRegression, Lasso\n",
    "from sklearn.ensemble import RandomForestClassifier, GradientBoostingClassifier\n",
    "from sklearn.metrics import make_scorer\n",
    "from sklearn.model_selection import GridSearchCV\n",
    "from sklearn.ensemble import RandomForestRegressor\n",
    "from sklearn.tree import DecisionTreeRegressor\n",
    "from sklearn.dummy import DummyRegressor"
   ]
  },
  {
   "cell_type": "markdown",
   "metadata": {},
   "source": [
    "# 1. Подготовка данных."
   ]
  },
  {
   "cell_type": "markdown",
   "metadata": {},
   "source": [
    "## 1.1 Открою данные и изучу их."
   ]
  },
  {
   "cell_type": "code",
   "execution_count": 2,
   "metadata": {},
   "outputs": [],
   "source": [
    "test = pd.read_csv('gold_recovery_test.csv')\n",
    "train = pd.read_csv('gold_recovery_train.csv')\n",
    "full = pd.read_csv('gold_recovery_full.csv')"
   ]
  },
  {
   "cell_type": "code",
   "execution_count": 3,
   "metadata": {
    "scrolled": false
   },
   "outputs": [
    {
     "data": {
      "text/plain": [
       "((5856, 53), (16860, 87), (22716, 87))"
      ]
     },
     "execution_count": 3,
     "metadata": {},
     "output_type": "execute_result"
    }
   ],
   "source": [
    "test.shape, train.shape, full.shape"
   ]
  },
  {
   "cell_type": "markdown",
   "metadata": {},
   "source": [
    "### Проверю на пропуски."
   ]
  },
  {
   "cell_type": "code",
   "execution_count": 4,
   "metadata": {},
   "outputs": [],
   "source": [
    "def nan (df):\n",
    "    df_na = pd.DataFrame(df.isna().sum())\n",
    "    df_na['percent'] = df_na[0] * 100 / len(df)\n",
    "    return df_na[(df_na['percent'] > 0)].sort_values('percent', ascending = False)[:5]\n",
    "    "
   ]
  },
  {
   "cell_type": "code",
   "execution_count": 5,
   "metadata": {
    "scrolled": false
   },
   "outputs": [
    {
     "data": {
      "text/html": [
       "<div>\n",
       "<style scoped>\n",
       "    .dataframe tbody tr th:only-of-type {\n",
       "        vertical-align: middle;\n",
       "    }\n",
       "\n",
       "    .dataframe tbody tr th {\n",
       "        vertical-align: top;\n",
       "    }\n",
       "\n",
       "    .dataframe thead th {\n",
       "        text-align: right;\n",
       "    }\n",
       "</style>\n",
       "<table border=\"1\" class=\"dataframe\">\n",
       "  <thead>\n",
       "    <tr style=\"text-align: right;\">\n",
       "      <th></th>\n",
       "      <th>0</th>\n",
       "      <th>percent</th>\n",
       "    </tr>\n",
       "  </thead>\n",
       "  <tbody>\n",
       "    <tr>\n",
       "      <td>rougher.input.floatbank11_xanthate</td>\n",
       "      <td>353</td>\n",
       "      <td>6.028005</td>\n",
       "    </tr>\n",
       "    <tr>\n",
       "      <td>primary_cleaner.input.sulfate</td>\n",
       "      <td>302</td>\n",
       "      <td>5.157104</td>\n",
       "    </tr>\n",
       "    <tr>\n",
       "      <td>primary_cleaner.input.depressant</td>\n",
       "      <td>284</td>\n",
       "      <td>4.849727</td>\n",
       "    </tr>\n",
       "    <tr>\n",
       "      <td>rougher.input.floatbank10_sulfate</td>\n",
       "      <td>257</td>\n",
       "      <td>4.388661</td>\n",
       "    </tr>\n",
       "    <tr>\n",
       "      <td>primary_cleaner.input.xanthate</td>\n",
       "      <td>166</td>\n",
       "      <td>2.834699</td>\n",
       "    </tr>\n",
       "  </tbody>\n",
       "</table>\n",
       "</div>"
      ],
      "text/plain": [
       "                                      0   percent\n",
       "rougher.input.floatbank11_xanthate  353  6.028005\n",
       "primary_cleaner.input.sulfate       302  5.157104\n",
       "primary_cleaner.input.depressant    284  4.849727\n",
       "rougher.input.floatbank10_sulfate   257  4.388661\n",
       "primary_cleaner.input.xanthate      166  2.834699"
      ]
     },
     "execution_count": 5,
     "metadata": {},
     "output_type": "execute_result"
    }
   ],
   "source": [
    "nan(test)"
   ]
  },
  {
   "cell_type": "code",
   "execution_count": 6,
   "metadata": {
    "scrolled": false
   },
   "outputs": [
    {
     "data": {
      "text/html": [
       "<div>\n",
       "<style scoped>\n",
       "    .dataframe tbody tr th:only-of-type {\n",
       "        vertical-align: middle;\n",
       "    }\n",
       "\n",
       "    .dataframe tbody tr th {\n",
       "        vertical-align: top;\n",
       "    }\n",
       "\n",
       "    .dataframe thead th {\n",
       "        text-align: right;\n",
       "    }\n",
       "</style>\n",
       "<table border=\"1\" class=\"dataframe\">\n",
       "  <thead>\n",
       "    <tr style=\"text-align: right;\">\n",
       "      <th></th>\n",
       "      <th>0</th>\n",
       "      <th>percent</th>\n",
       "    </tr>\n",
       "  </thead>\n",
       "  <tbody>\n",
       "    <tr>\n",
       "      <td>rougher.output.recovery</td>\n",
       "      <td>2573</td>\n",
       "      <td>15.260973</td>\n",
       "    </tr>\n",
       "    <tr>\n",
       "      <td>rougher.output.tail_ag</td>\n",
       "      <td>2250</td>\n",
       "      <td>13.345196</td>\n",
       "    </tr>\n",
       "    <tr>\n",
       "      <td>rougher.output.tail_au</td>\n",
       "      <td>2249</td>\n",
       "      <td>13.339265</td>\n",
       "    </tr>\n",
       "    <tr>\n",
       "      <td>rougher.output.tail_sol</td>\n",
       "      <td>2249</td>\n",
       "      <td>13.339265</td>\n",
       "    </tr>\n",
       "    <tr>\n",
       "      <td>secondary_cleaner.output.tail_sol</td>\n",
       "      <td>1986</td>\n",
       "      <td>11.779359</td>\n",
       "    </tr>\n",
       "  </tbody>\n",
       "</table>\n",
       "</div>"
      ],
      "text/plain": [
       "                                      0    percent\n",
       "rougher.output.recovery            2573  15.260973\n",
       "rougher.output.tail_ag             2250  13.345196\n",
       "rougher.output.tail_au             2249  13.339265\n",
       "rougher.output.tail_sol            2249  13.339265\n",
       "secondary_cleaner.output.tail_sol  1986  11.779359"
      ]
     },
     "execution_count": 6,
     "metadata": {},
     "output_type": "execute_result"
    }
   ],
   "source": [
    "nan(train)"
   ]
  },
  {
   "cell_type": "code",
   "execution_count": 7,
   "metadata": {
    "scrolled": false
   },
   "outputs": [
    {
     "data": {
      "text/html": [
       "<div>\n",
       "<style scoped>\n",
       "    .dataframe tbody tr th:only-of-type {\n",
       "        vertical-align: middle;\n",
       "    }\n",
       "\n",
       "    .dataframe tbody tr th {\n",
       "        vertical-align: top;\n",
       "    }\n",
       "\n",
       "    .dataframe thead th {\n",
       "        text-align: right;\n",
       "    }\n",
       "</style>\n",
       "<table border=\"1\" class=\"dataframe\">\n",
       "  <thead>\n",
       "    <tr style=\"text-align: right;\">\n",
       "      <th></th>\n",
       "      <th>0</th>\n",
       "      <th>percent</th>\n",
       "    </tr>\n",
       "  </thead>\n",
       "  <tbody>\n",
       "    <tr>\n",
       "      <td>rougher.output.recovery</td>\n",
       "      <td>3119</td>\n",
       "      <td>13.730410</td>\n",
       "    </tr>\n",
       "    <tr>\n",
       "      <td>rougher.output.tail_ag</td>\n",
       "      <td>2737</td>\n",
       "      <td>12.048776</td>\n",
       "    </tr>\n",
       "    <tr>\n",
       "      <td>rougher.output.tail_au</td>\n",
       "      <td>2736</td>\n",
       "      <td>12.044374</td>\n",
       "    </tr>\n",
       "    <tr>\n",
       "      <td>rougher.output.tail_sol</td>\n",
       "      <td>2736</td>\n",
       "      <td>12.044374</td>\n",
       "    </tr>\n",
       "    <tr>\n",
       "      <td>rougher.input.floatbank11_xanthate</td>\n",
       "      <td>2257</td>\n",
       "      <td>9.935728</td>\n",
       "    </tr>\n",
       "  </tbody>\n",
       "</table>\n",
       "</div>"
      ],
      "text/plain": [
       "                                       0    percent\n",
       "rougher.output.recovery             3119  13.730410\n",
       "rougher.output.tail_ag              2737  12.048776\n",
       "rougher.output.tail_au              2736  12.044374\n",
       "rougher.output.tail_sol             2736  12.044374\n",
       "rougher.input.floatbank11_xanthate  2257   9.935728"
      ]
     },
     "execution_count": 7,
     "metadata": {},
     "output_type": "execute_result"
    }
   ],
   "source": [
    "nan(full)"
   ]
  },
  {
   "cell_type": "markdown",
   "metadata": {},
   "source": [
    "### 1.2. Проверю, что эффективность обогащения рассчитана правильно. Вычислю её на обучающей выборке для признака rougher.output.recovery. Найду MAE между расчётами и значением признака. "
   ]
  },
  {
   "cell_type": "code",
   "execution_count": 8,
   "metadata": {},
   "outputs": [],
   "source": [
    "def recovery(df):\n",
    "    df = df.dropna().reset_index()\n",
    "    C = df['rougher.output.concentrate_au']\n",
    "    F = df['rougher.input.feed_au']\n",
    "    T = df['rougher.output.tail_au']\n",
    "    recovery_calculated = df['recovery'] = ((C*(F-T)) / (F*(C-T)))*100\n",
    "    rougher_output_recovery = df['rougher.output.recovery']\n",
    "    MAE = mean_absolute_error(recovery_calculated, rougher_output_recovery)\n",
    "    \n",
    "    return(MAE, recovery_calculated, rougher_output_recovery)"
   ]
  },
  {
   "cell_type": "code",
   "execution_count": 9,
   "metadata": {},
   "outputs": [],
   "source": [
    "MAE_recovery, recovery_calculated, rougher_output_recovery = recovery(train)"
   ]
  },
  {
   "cell_type": "code",
   "execution_count": 10,
   "metadata": {},
   "outputs": [
    {
     "data": {
      "text/plain": [
       "9.555596961987514e-15"
      ]
     },
     "execution_count": 10,
     "metadata": {},
     "output_type": "execute_result"
    }
   ],
   "source": [
    "MAE_recovery"
   ]
  },
  {
   "cell_type": "code",
   "execution_count": 11,
   "metadata": {},
   "outputs": [
    {
     "data": {
      "image/png": "[encoded data removed]",
      "text/plain": [
       "<Figure size 1152x360 with 1 Axes>"
      ]
     },
     "metadata": {
      "needs_background": "light"
     },
     "output_type": "display_data"
    },
    {
     "name": "stdout",
     "output_type": "stream",
     "text": [
      "Реальные значения: 82.74188846101531\n",
      "Рассчетные значения: 82.74188846101532\n"
     ]
    }
   ],
   "source": [
    "plt.figure(figsize=(16,5))\n",
    "sns.boxplot(data=(recovery_calculated, rougher_output_recovery))\n",
    "sns.set(style='white')\n",
    "plt.title('MAE', fontsize=16)\n",
    "plt.ylim(0, 110)\n",
    "plt.xticks(np.arange(2), ('Рассчетные значения','Реальные значения'))\n",
    "plt.show()\n",
    "\n",
    "\n",
    "print('Реальные значения:', rougher_output_recovery .mean())\n",
    "print('Рассчетные значения:', recovery_calculated.mean())"
   ]
  },
  {
   "cell_type": "markdown",
   "metadata": {},
   "source": [
    "### Вывод\n",
    "\n",
    "- Значение MAE меньше 9.55 при среднем в районе 85\n",
    "- Графически полное совпадение\n",
    "- Средние условно равны\n",
    "\n",
    "#### Ошибка в расчете эффективности обогащения менее 10. \n",
    "#### C учетом графических данных, примем исходные данные условно-верными."
   ]
  },
  {
   "cell_type": "markdown",
   "metadata": {},
   "source": [
    "### 1.3. Проанализирую признаки, недоступные в тестовой выборке. Определю что это за параметры и к какому типу относятся."
   ]
  },
  {
   "cell_type": "code",
   "execution_count": 12,
   "metadata": {},
   "outputs": [
    {
     "name": "stdout",
     "output_type": "stream",
     "text": [
      "final.output.concentrate_ag\n",
      "final.output.concentrate_pb\n",
      "final.output.concentrate_sol\n",
      "final.output.concentrate_au\n",
      "final.output.recovery\n",
      "final.output.tail_ag\n",
      "final.output.tail_pb\n",
      "final.output.tail_sol\n",
      "final.output.tail_au\n",
      "primary_cleaner.output.concentrate_ag\n",
      "primary_cleaner.output.concentrate_pb\n",
      "primary_cleaner.output.concentrate_sol\n",
      "primary_cleaner.output.concentrate_au\n",
      "primary_cleaner.output.tail_ag\n",
      "primary_cleaner.output.tail_pb\n",
      "primary_cleaner.output.tail_sol\n",
      "primary_cleaner.output.tail_au\n",
      "rougher.calculation.sulfate_to_au_concentrate\n",
      "rougher.calculation.floatbank10_sulfate_to_au_feed\n",
      "rougher.calculation.floatbank11_sulfate_to_au_feed\n",
      "rougher.calculation.au_pb_ratio\n",
      "rougher.output.concentrate_ag\n",
      "rougher.output.concentrate_pb\n",
      "rougher.output.concentrate_sol\n",
      "rougher.output.concentrate_au\n",
      "rougher.output.recovery\n",
      "rougher.output.tail_ag\n",
      "rougher.output.tail_pb\n",
      "rougher.output.tail_sol\n",
      "rougher.output.tail_au\n",
      "secondary_cleaner.output.tail_ag\n",
      "secondary_cleaner.output.tail_pb\n",
      "secondary_cleaner.output.tail_sol\n",
      "secondary_cleaner.output.tail_au\n"
     ]
    }
   ],
   "source": [
    "count = 0\n",
    "for i in train.columns:\n",
    "    if i not in test.columns:\n",
    "        count +=1 \n",
    "        print(i)"
   ]
  },
  {
   "cell_type": "code",
   "execution_count": 13,
   "metadata": {},
   "outputs": [
    {
     "name": "stdout",
     "output_type": "stream",
     "text": [
      "Количество отсутствующих параметров - 34\n"
     ]
    }
   ],
   "source": [
    "print('Количество отсутствующих параметров -', count)"
   ]
  },
  {
   "cell_type": "code",
   "execution_count": 14,
   "metadata": {},
   "outputs": [
    {
     "data": {
      "text/plain": [
       "['date',\n",
       " 'primary_cleaner.input.sulfate',\n",
       " 'primary_cleaner.input.depressant',\n",
       " 'primary_cleaner.input.feed_size',\n",
       " 'primary_cleaner.input.xanthate',\n",
       " 'primary_cleaner.state.floatbank8_a_air',\n",
       " 'primary_cleaner.state.floatbank8_a_level',\n",
       " 'primary_cleaner.state.floatbank8_b_air',\n",
       " 'primary_cleaner.state.floatbank8_b_level',\n",
       " 'primary_cleaner.state.floatbank8_c_air',\n",
       " 'primary_cleaner.state.floatbank8_c_level',\n",
       " 'primary_cleaner.state.floatbank8_d_air',\n",
       " 'primary_cleaner.state.floatbank8_d_level',\n",
       " 'rougher.input.feed_ag',\n",
       " 'rougher.input.feed_pb',\n",
       " 'rougher.input.feed_rate',\n",
       " 'rougher.input.feed_size',\n",
       " 'rougher.input.feed_sol',\n",
       " 'rougher.input.feed_au',\n",
       " 'rougher.input.floatbank10_sulfate',\n",
       " 'rougher.input.floatbank10_xanthate',\n",
       " 'rougher.input.floatbank11_sulfate',\n",
       " 'rougher.input.floatbank11_xanthate',\n",
       " 'rougher.state.floatbank10_a_air',\n",
       " 'rougher.state.floatbank10_a_level',\n",
       " 'rougher.state.floatbank10_b_air',\n",
       " 'rougher.state.floatbank10_b_level',\n",
       " 'rougher.state.floatbank10_c_air',\n",
       " 'rougher.state.floatbank10_c_level',\n",
       " 'rougher.state.floatbank10_d_air',\n",
       " 'rougher.state.floatbank10_d_level',\n",
       " 'rougher.state.floatbank10_e_air',\n",
       " 'rougher.state.floatbank10_e_level',\n",
       " 'rougher.state.floatbank10_f_air',\n",
       " 'rougher.state.floatbank10_f_level',\n",
       " 'secondary_cleaner.state.floatbank2_a_air',\n",
       " 'secondary_cleaner.state.floatbank2_a_level',\n",
       " 'secondary_cleaner.state.floatbank2_b_air',\n",
       " 'secondary_cleaner.state.floatbank2_b_level',\n",
       " 'secondary_cleaner.state.floatbank3_a_air',\n",
       " 'secondary_cleaner.state.floatbank3_a_level',\n",
       " 'secondary_cleaner.state.floatbank3_b_air',\n",
       " 'secondary_cleaner.state.floatbank3_b_level',\n",
       " 'secondary_cleaner.state.floatbank4_a_air',\n",
       " 'secondary_cleaner.state.floatbank4_a_level',\n",
       " 'secondary_cleaner.state.floatbank4_b_air',\n",
       " 'secondary_cleaner.state.floatbank4_b_level',\n",
       " 'secondary_cleaner.state.floatbank5_a_air',\n",
       " 'secondary_cleaner.state.floatbank5_a_level',\n",
       " 'secondary_cleaner.state.floatbank5_b_air',\n",
       " 'secondary_cleaner.state.floatbank5_b_level',\n",
       " 'secondary_cleaner.state.floatbank6_a_air',\n",
       " 'secondary_cleaner.state.floatbank6_a_level']"
      ]
     },
     "execution_count": 14,
     "metadata": {},
     "output_type": "execute_result"
    }
   ],
   "source": [
    "test.columns.tolist()"
   ]
  },
  {
   "cell_type": "markdown",
   "metadata": {},
   "source": [
    "### Вывод\n",
    "\n",
    "- Недоступными для тестовой выборки оказалось 34 параметра.\n",
    "- Как видно из наименований столбцов в тестовую выборку вошли только параметры сырья на флотацию и параметры технологического процесса на всех этапах.\n",
    "- В обучающей выборке дополнительно представлены:\n",
    "   - параметры концентрата после очистки;\n",
    "   - рассчетные параметры для флуатационной установки;\n",
    "   - параметры содержания металлов в хвостах.\n"
   ]
  },
  {
   "cell_type": "markdown",
   "metadata": {},
   "source": [
    "### 1.4. Проведу предобработку данных."
   ]
  },
  {
   "cell_type": "code",
   "execution_count": 15,
   "metadata": {},
   "outputs": [],
   "source": [
    "test_precleaned = test\n",
    "test_precleaned['date'] = pd.to_datetime(test_precleaned['date'])\n",
    "test_precleaned.index = test_precleaned['date']"
   ]
  },
  {
   "cell_type": "code",
   "execution_count": 16,
   "metadata": {
    "scrolled": false
   },
   "outputs": [
    {
     "data": {
      "text/html": [
       "<div>\n",
       "<style scoped>\n",
       "    .dataframe tbody tr th:only-of-type {\n",
       "        vertical-align: middle;\n",
       "    }\n",
       "\n",
       "    .dataframe tbody tr th {\n",
       "        vertical-align: top;\n",
       "    }\n",
       "\n",
       "    .dataframe thead th {\n",
       "        text-align: right;\n",
       "    }\n",
       "</style>\n",
       "<table border=\"1\" class=\"dataframe\">\n",
       "  <thead>\n",
       "    <tr style=\"text-align: right;\">\n",
       "      <th></th>\n",
       "      <th>date</th>\n",
       "      <th>primary_cleaner.input.sulfate</th>\n",
       "      <th>primary_cleaner.input.depressant</th>\n",
       "      <th>primary_cleaner.input.feed_size</th>\n",
       "      <th>primary_cleaner.input.xanthate</th>\n",
       "      <th>primary_cleaner.state.floatbank8_a_air</th>\n",
       "      <th>primary_cleaner.state.floatbank8_a_level</th>\n",
       "      <th>primary_cleaner.state.floatbank8_b_air</th>\n",
       "      <th>primary_cleaner.state.floatbank8_b_level</th>\n",
       "      <th>primary_cleaner.state.floatbank8_c_air</th>\n",
       "      <th>...</th>\n",
       "      <th>secondary_cleaner.state.floatbank4_a_air</th>\n",
       "      <th>secondary_cleaner.state.floatbank4_a_level</th>\n",
       "      <th>secondary_cleaner.state.floatbank4_b_air</th>\n",
       "      <th>secondary_cleaner.state.floatbank4_b_level</th>\n",
       "      <th>secondary_cleaner.state.floatbank5_a_air</th>\n",
       "      <th>secondary_cleaner.state.floatbank5_a_level</th>\n",
       "      <th>secondary_cleaner.state.floatbank5_b_air</th>\n",
       "      <th>secondary_cleaner.state.floatbank5_b_level</th>\n",
       "      <th>secondary_cleaner.state.floatbank6_a_air</th>\n",
       "      <th>secondary_cleaner.state.floatbank6_a_level</th>\n",
       "    </tr>\n",
       "    <tr>\n",
       "      <th>date</th>\n",
       "      <th></th>\n",
       "      <th></th>\n",
       "      <th></th>\n",
       "      <th></th>\n",
       "      <th></th>\n",
       "      <th></th>\n",
       "      <th></th>\n",
       "      <th></th>\n",
       "      <th></th>\n",
       "      <th></th>\n",
       "      <th></th>\n",
       "      <th></th>\n",
       "      <th></th>\n",
       "      <th></th>\n",
       "      <th></th>\n",
       "      <th></th>\n",
       "      <th></th>\n",
       "      <th></th>\n",
       "      <th></th>\n",
       "      <th></th>\n",
       "      <th></th>\n",
       "    </tr>\n",
       "  </thead>\n",
       "  <tbody>\n",
       "    <tr>\n",
       "      <td>2016-09-01 09:59:59</td>\n",
       "      <td>2016-09-01 09:59:59</td>\n",
       "      <td>126.961069</td>\n",
       "      <td>8.017856</td>\n",
       "      <td>7.03</td>\n",
       "      <td>0.805298</td>\n",
       "      <td>1400.816120</td>\n",
       "      <td>-499.014158</td>\n",
       "      <td>1399.975401</td>\n",
       "      <td>-499.570552</td>\n",
       "      <td>1401.871924</td>\n",
       "      <td>...</td>\n",
       "      <td>12.040725</td>\n",
       "      <td>-499.987743</td>\n",
       "      <td>7.989503</td>\n",
       "      <td>-499.750625</td>\n",
       "      <td>7.989710</td>\n",
       "      <td>-509.946737</td>\n",
       "      <td>5.068811</td>\n",
       "      <td>-499.293900</td>\n",
       "      <td>24.992741</td>\n",
       "      <td>-499.272255</td>\n",
       "    </tr>\n",
       "    <tr>\n",
       "      <td>2016-09-02 06:59:59</td>\n",
       "      <td>2016-09-02 06:59:59</td>\n",
       "      <td>NaN</td>\n",
       "      <td>NaN</td>\n",
       "      <td>7.16</td>\n",
       "      <td>NaN</td>\n",
       "      <td>412.629243</td>\n",
       "      <td>-795.316337</td>\n",
       "      <td>413.703253</td>\n",
       "      <td>-787.396567</td>\n",
       "      <td>441.604260</td>\n",
       "      <td>...</td>\n",
       "      <td>6.576244</td>\n",
       "      <td>-616.550019</td>\n",
       "      <td>4.625908</td>\n",
       "      <td>-678.347958</td>\n",
       "      <td>4.451592</td>\n",
       "      <td>-795.337422</td>\n",
       "      <td>3.544708</td>\n",
       "      <td>-800.024373</td>\n",
       "      <td>5.914889</td>\n",
       "      <td>-799.501783</td>\n",
       "    </tr>\n",
       "    <tr>\n",
       "      <td>2016-09-02 07:59:59</td>\n",
       "      <td>2016-09-02 07:59:59</td>\n",
       "      <td>5.039223</td>\n",
       "      <td>NaN</td>\n",
       "      <td>7.16</td>\n",
       "      <td>NaN</td>\n",
       "      <td>1436.850397</td>\n",
       "      <td>-542.923353</td>\n",
       "      <td>1549.140548</td>\n",
       "      <td>-528.601849</td>\n",
       "      <td>1548.664773</td>\n",
       "      <td>...</td>\n",
       "      <td>11.935144</td>\n",
       "      <td>-496.491878</td>\n",
       "      <td>7.967571</td>\n",
       "      <td>-527.714564</td>\n",
       "      <td>8.191769</td>\n",
       "      <td>-517.004063</td>\n",
       "      <td>4.906812</td>\n",
       "      <td>-531.125899</td>\n",
       "      <td>10.002271</td>\n",
       "      <td>-527.901468</td>\n",
       "    </tr>\n",
       "    <tr>\n",
       "      <td>2016-09-02 08:59:59</td>\n",
       "      <td>2016-09-02 08:59:59</td>\n",
       "      <td>0.857926</td>\n",
       "      <td>NaN</td>\n",
       "      <td>7.16</td>\n",
       "      <td>NaN</td>\n",
       "      <td>1435.627557</td>\n",
       "      <td>-499.752988</td>\n",
       "      <td>1550.871908</td>\n",
       "      <td>-500.348180</td>\n",
       "      <td>1513.760138</td>\n",
       "      <td>...</td>\n",
       "      <td>11.921123</td>\n",
       "      <td>-500.796461</td>\n",
       "      <td>7.988670</td>\n",
       "      <td>-501.212454</td>\n",
       "      <td>8.067387</td>\n",
       "      <td>-501.622580</td>\n",
       "      <td>5.067141</td>\n",
       "      <td>-499.295523</td>\n",
       "      <td>9.989370</td>\n",
       "      <td>-500.350093</td>\n",
       "    </tr>\n",
       "    <tr>\n",
       "      <td>2016-09-02 09:59:59</td>\n",
       "      <td>2016-09-02 09:59:59</td>\n",
       "      <td>24.616337</td>\n",
       "      <td>0.600245</td>\n",
       "      <td>7.16</td>\n",
       "      <td>0.196905</td>\n",
       "      <td>1437.685689</td>\n",
       "      <td>-498.718550</td>\n",
       "      <td>1549.223455</td>\n",
       "      <td>-498.417613</td>\n",
       "      <td>1510.244855</td>\n",
       "      <td>...</td>\n",
       "      <td>12.002664</td>\n",
       "      <td>-499.113047</td>\n",
       "      <td>8.061677</td>\n",
       "      <td>-495.442389</td>\n",
       "      <td>8.079009</td>\n",
       "      <td>-495.166033</td>\n",
       "      <td>5.171338</td>\n",
       "      <td>-479.361256</td>\n",
       "      <td>10.056638</td>\n",
       "      <td>-498.991980</td>\n",
       "    </tr>\n",
       "  </tbody>\n",
       "</table>\n",
       "<p>5 rows × 53 columns</p>\n",
       "</div>"
      ],
      "text/plain": [
       "                                   date  primary_cleaner.input.sulfate  \\\n",
       "date                                                                     \n",
       "2016-09-01 09:59:59 2016-09-01 09:59:59                     126.961069   \n",
       "2016-09-02 06:59:59 2016-09-02 06:59:59                            NaN   \n",
       "2016-09-02 07:59:59 2016-09-02 07:59:59                       5.039223   \n",
       "2016-09-02 08:59:59 2016-09-02 08:59:59                       0.857926   \n",
       "2016-09-02 09:59:59 2016-09-02 09:59:59                      24.616337   \n",
       "\n",
       "                     primary_cleaner.input.depressant  \\\n",
       "date                                                    \n",
       "2016-09-01 09:59:59                          8.017856   \n",
       "2016-09-02 06:59:59                               NaN   \n",
       "2016-09-02 07:59:59                               NaN   \n",
       "2016-09-02 08:59:59                               NaN   \n",
       "2016-09-02 09:59:59                          0.600245   \n",
       "\n",
       "                     primary_cleaner.input.feed_size  \\\n",
       "date                                                   \n",
       "2016-09-01 09:59:59                             7.03   \n",
       "2016-09-02 06:59:59                             7.16   \n",
       "2016-09-02 07:59:59                             7.16   \n",
       "2016-09-02 08:59:59                             7.16   \n",
       "2016-09-02 09:59:59                             7.16   \n",
       "\n",
       "                     primary_cleaner.input.xanthate  \\\n",
       "date                                                  \n",
       "2016-09-01 09:59:59                        0.805298   \n",
       "2016-09-02 06:59:59                             NaN   \n",
       "2016-09-02 07:59:59                             NaN   \n",
       "2016-09-02 08:59:59                             NaN   \n",
       "2016-09-02 09:59:59                        0.196905   \n",
       "\n",
       "                     primary_cleaner.state.floatbank8_a_air  \\\n",
       "date                                                          \n",
       "2016-09-01 09:59:59                             1400.816120   \n",
       "2016-09-02 06:59:59                              412.629243   \n",
       "2016-09-02 07:59:59                             1436.850397   \n",
       "2016-09-02 08:59:59                             1435.627557   \n",
       "2016-09-02 09:59:59                             1437.685689   \n",
       "\n",
       "                     primary_cleaner.state.floatbank8_a_level  \\\n",
       "date                                                            \n",
       "2016-09-01 09:59:59                               -499.014158   \n",
       "2016-09-02 06:59:59                               -795.316337   \n",
       "2016-09-02 07:59:59                               -542.923353   \n",
       "2016-09-02 08:59:59                               -499.752988   \n",
       "2016-09-02 09:59:59                               -498.718550   \n",
       "\n",
       "                     primary_cleaner.state.floatbank8_b_air  \\\n",
       "date                                                          \n",
       "2016-09-01 09:59:59                             1399.975401   \n",
       "2016-09-02 06:59:59                              413.703253   \n",
       "2016-09-02 07:59:59                             1549.140548   \n",
       "2016-09-02 08:59:59                             1550.871908   \n",
       "2016-09-02 09:59:59                             1549.223455   \n",
       "\n",
       "                     primary_cleaner.state.floatbank8_b_level  \\\n",
       "date                                                            \n",
       "2016-09-01 09:59:59                               -499.570552   \n",
       "2016-09-02 06:59:59                               -787.396567   \n",
       "2016-09-02 07:59:59                               -528.601849   \n",
       "2016-09-02 08:59:59                               -500.348180   \n",
       "2016-09-02 09:59:59                               -498.417613   \n",
       "\n",
       "                     primary_cleaner.state.floatbank8_c_air  ...  \\\n",
       "date                                                         ...   \n",
       "2016-09-01 09:59:59                             1401.871924  ...   \n",
       "2016-09-02 06:59:59                              441.604260  ...   \n",
       "2016-09-02 07:59:59                             1548.664773  ...   \n",
       "2016-09-02 08:59:59                             1513.760138  ...   \n",
       "2016-09-02 09:59:59                             1510.244855  ...   \n",
       "\n",
       "                     secondary_cleaner.state.floatbank4_a_air  \\\n",
       "date                                                            \n",
       "2016-09-01 09:59:59                                 12.040725   \n",
       "2016-09-02 06:59:59                                  6.576244   \n",
       "2016-09-02 07:59:59                                 11.935144   \n",
       "2016-09-02 08:59:59                                 11.921123   \n",
       "2016-09-02 09:59:59                                 12.002664   \n",
       "\n",
       "                     secondary_cleaner.state.floatbank4_a_level  \\\n",
       "date                                                              \n",
       "2016-09-01 09:59:59                                 -499.987743   \n",
       "2016-09-02 06:59:59                                 -616.550019   \n",
       "2016-09-02 07:59:59                                 -496.491878   \n",
       "2016-09-02 08:59:59                                 -500.796461   \n",
       "2016-09-02 09:59:59                                 -499.113047   \n",
       "\n",
       "                     secondary_cleaner.state.floatbank4_b_air  \\\n",
       "date                                                            \n",
       "2016-09-01 09:59:59                                  7.989503   \n",
       "2016-09-02 06:59:59                                  4.625908   \n",
       "2016-09-02 07:59:59                                  7.967571   \n",
       "2016-09-02 08:59:59                                  7.988670   \n",
       "2016-09-02 09:59:59                                  8.061677   \n",
       "\n",
       "                     secondary_cleaner.state.floatbank4_b_level  \\\n",
       "date                                                              \n",
       "2016-09-01 09:59:59                                 -499.750625   \n",
       "2016-09-02 06:59:59                                 -678.347958   \n",
       "2016-09-02 07:59:59                                 -527.714564   \n",
       "2016-09-02 08:59:59                                 -501.212454   \n",
       "2016-09-02 09:59:59                                 -495.442389   \n",
       "\n",
       "                     secondary_cleaner.state.floatbank5_a_air  \\\n",
       "date                                                            \n",
       "2016-09-01 09:59:59                                  7.989710   \n",
       "2016-09-02 06:59:59                                  4.451592   \n",
       "2016-09-02 07:59:59                                  8.191769   \n",
       "2016-09-02 08:59:59                                  8.067387   \n",
       "2016-09-02 09:59:59                                  8.079009   \n",
       "\n",
       "                     secondary_cleaner.state.floatbank5_a_level  \\\n",
       "date                                                              \n",
       "2016-09-01 09:59:59                                 -509.946737   \n",
       "2016-09-02 06:59:59                                 -795.337422   \n",
       "2016-09-02 07:59:59                                 -517.004063   \n",
       "2016-09-02 08:59:59                                 -501.622580   \n",
       "2016-09-02 09:59:59                                 -495.166033   \n",
       "\n",
       "                     secondary_cleaner.state.floatbank5_b_air  \\\n",
       "date                                                            \n",
       "2016-09-01 09:59:59                                  5.068811   \n",
       "2016-09-02 06:59:59                                  3.544708   \n",
       "2016-09-02 07:59:59                                  4.906812   \n",
       "2016-09-02 08:59:59                                  5.067141   \n",
       "2016-09-02 09:59:59                                  5.171338   \n",
       "\n",
       "                     secondary_cleaner.state.floatbank5_b_level  \\\n",
       "date                                                              \n",
       "2016-09-01 09:59:59                                 -499.293900   \n",
       "2016-09-02 06:59:59                                 -800.024373   \n",
       "2016-09-02 07:59:59                                 -531.125899   \n",
       "2016-09-02 08:59:59                                 -499.295523   \n",
       "2016-09-02 09:59:59                                 -479.361256   \n",
       "\n",
       "                     secondary_cleaner.state.floatbank6_a_air  \\\n",
       "date                                                            \n",
       "2016-09-01 09:59:59                                 24.992741   \n",
       "2016-09-02 06:59:59                                  5.914889   \n",
       "2016-09-02 07:59:59                                 10.002271   \n",
       "2016-09-02 08:59:59                                  9.989370   \n",
       "2016-09-02 09:59:59                                 10.056638   \n",
       "\n",
       "                     secondary_cleaner.state.floatbank6_a_level  \n",
       "date                                                             \n",
       "2016-09-01 09:59:59                                 -499.272255  \n",
       "2016-09-02 06:59:59                                 -799.501783  \n",
       "2016-09-02 07:59:59                                 -527.901468  \n",
       "2016-09-02 08:59:59                                 -500.350093  \n",
       "2016-09-02 09:59:59                                 -498.991980  \n",
       "\n",
       "[5 rows x 53 columns]"
      ]
     },
     "execution_count": 16,
     "metadata": {},
     "output_type": "execute_result"
    }
   ],
   "source": [
    "test_precleaned.between_time('06:59:59', '09:59:59')[3:8]"
   ]
  },
  {
   "cell_type": "code",
   "execution_count": 17,
   "metadata": {},
   "outputs": [],
   "source": [
    "test = test.reset_index(drop = True)\n",
    "test = test.reset_index(drop = True)"
   ]
  },
  {
   "cell_type": "markdown",
   "metadata": {},
   "source": [
    "### Промежуточный Вывод\n",
    "\n",
    "- В технологическом цикле существуют отрезки времени, когда объем подачи материала фиксирован, \n",
    "а значения подачи химии либо отсутствуют, либо нехарактерно низкие. Вероятно это ППР, очистка или конвейерный перерыв.\n",
    "- При этом подача сульфатов может сохраняться в низких значениях, в то ремя как информация по остальным реагентам отсутствует.\n",
    "\n",
    "#### Вероятно пропуски соответствуют нулевым значениям подачи.\n",
    "\n",
    "#### Проверю теорию, убрав низкие значения сульфатов:"
   ]
  },
  {
   "cell_type": "markdown",
   "metadata": {},
   "source": [
    "### Тестовая выборка"
   ]
  },
  {
   "cell_type": "code",
   "execution_count": 18,
   "metadata": {
    "scrolled": false
   },
   "outputs": [
    {
     "data": {
      "image/png": "[encoded data removed]",
      "text/plain": [
       "<Figure size 1152x360 with 1 Axes>"
      ]
     },
     "metadata": {},
     "output_type": "display_data"
    },
    {
     "name": "stdout",
     "output_type": "stream",
     "text": [
      "count    5554.000000\n",
      "mean      170.515243\n",
      "std        49.608602\n",
      "min         0.000103\n",
      "25%       143.340022\n",
      "50%       176.103893\n",
      "75%       207.240761\n",
      "max       274.409626\n",
      "Name: primary_cleaner.input.sulfate, dtype: float64\n"
     ]
    }
   ],
   "source": [
    "k = test['primary_cleaner.input.sulfate'].dropna()\n",
    "plt.figure(figsize=(16,5))\n",
    "sns.distplot(k)\n",
    "sns.set(style='white')\n",
    "plt.title('Минимальные значения сульфатов на переходных режимах', fontsize=16)\n",
    "plt.show()\n",
    "print(k.describe())"
   ]
  },
  {
   "cell_type": "code",
   "execution_count": 19,
   "metadata": {},
   "outputs": [
    {
     "data": {
      "text/html": [
       "<div>\n",
       "<style scoped>\n",
       "    .dataframe tbody tr th:only-of-type {\n",
       "        vertical-align: middle;\n",
       "    }\n",
       "\n",
       "    .dataframe tbody tr th {\n",
       "        vertical-align: top;\n",
       "    }\n",
       "\n",
       "    .dataframe thead th {\n",
       "        text-align: right;\n",
       "    }\n",
       "</style>\n",
       "<table border=\"1\" class=\"dataframe\">\n",
       "  <thead>\n",
       "    <tr style=\"text-align: right;\">\n",
       "      <th></th>\n",
       "      <th>0</th>\n",
       "      <th>percent</th>\n",
       "    </tr>\n",
       "  </thead>\n",
       "  <tbody>\n",
       "    <tr>\n",
       "      <td>rougher.input.feed_sol</td>\n",
       "      <td>10</td>\n",
       "      <td>0.190658</td>\n",
       "    </tr>\n",
       "    <tr>\n",
       "      <td>secondary_cleaner.state.floatbank3_a_air</td>\n",
       "      <td>6</td>\n",
       "      <td>0.114395</td>\n",
       "    </tr>\n",
       "    <tr>\n",
       "      <td>secondary_cleaner.state.floatbank2_a_air</td>\n",
       "      <td>3</td>\n",
       "      <td>0.057197</td>\n",
       "    </tr>\n",
       "    <tr>\n",
       "      <td>primary_cleaner.input.depressant</td>\n",
       "      <td>2</td>\n",
       "      <td>0.038132</td>\n",
       "    </tr>\n",
       "    <tr>\n",
       "      <td>rougher.input.feed_rate</td>\n",
       "      <td>1</td>\n",
       "      <td>0.019066</td>\n",
       "    </tr>\n",
       "  </tbody>\n",
       "</table>\n",
       "</div>"
      ],
      "text/plain": [
       "                                           0   percent\n",
       "rougher.input.feed_sol                    10  0.190658\n",
       "secondary_cleaner.state.floatbank3_a_air   6  0.114395\n",
       "secondary_cleaner.state.floatbank2_a_air   3  0.057197\n",
       "primary_cleaner.input.depressant           2  0.038132\n",
       "rougher.input.feed_rate                    1  0.019066"
      ]
     },
     "execution_count": 19,
     "metadata": {},
     "output_type": "execute_result"
    }
   ],
   "source": [
    "test_precleaned = test[test['primary_cleaner.input.sulfate'] > 90]\n",
    "nan (test_precleaned)"
   ]
  },
  {
   "cell_type": "markdown",
   "metadata": {},
   "source": [
    "### Теория о нулевых значениях похоже верна,  дропну пропуски и нулевые  значения через нулевые значения recovery, coберу тестовую выборку."
   ]
  },
  {
   "cell_type": "code",
   "execution_count": 20,
   "metadata": {
    "scrolled": true
   },
   "outputs": [],
   "source": [
    "full['date'] = pd.to_datetime(full['date'])\n",
    "full_recovery = full[['date','rougher.output.recovery', 'final.output.recovery']]"
   ]
  },
  {
   "cell_type": "code",
   "execution_count": 21,
   "metadata": {
    "scrolled": false
   },
   "outputs": [
    {
     "data": {
      "text/html": [
       "<div>\n",
       "<style scoped>\n",
       "    .dataframe tbody tr th:only-of-type {\n",
       "        vertical-align: middle;\n",
       "    }\n",
       "\n",
       "    .dataframe tbody tr th {\n",
       "        vertical-align: top;\n",
       "    }\n",
       "\n",
       "    .dataframe thead th {\n",
       "        text-align: right;\n",
       "    }\n",
       "</style>\n",
       "<table border=\"1\" class=\"dataframe\">\n",
       "  <thead>\n",
       "    <tr style=\"text-align: right;\">\n",
       "      <th></th>\n",
       "      <th>0</th>\n",
       "      <th>percent</th>\n",
       "    </tr>\n",
       "  </thead>\n",
       "  <tbody>\n",
       "    <tr>\n",
       "      <td>rougher.output.recovery</td>\n",
       "      <td>99</td>\n",
       "      <td>1.887512</td>\n",
       "    </tr>\n",
       "    <tr>\n",
       "      <td>final.output.recovery</td>\n",
       "      <td>35</td>\n",
       "      <td>0.667302</td>\n",
       "    </tr>\n",
       "    <tr>\n",
       "      <td>rougher.input.feed_sol</td>\n",
       "      <td>10</td>\n",
       "      <td>0.190658</td>\n",
       "    </tr>\n",
       "    <tr>\n",
       "      <td>secondary_cleaner.state.floatbank3_a_air</td>\n",
       "      <td>6</td>\n",
       "      <td>0.114395</td>\n",
       "    </tr>\n",
       "    <tr>\n",
       "      <td>secondary_cleaner.state.floatbank2_a_air</td>\n",
       "      <td>3</td>\n",
       "      <td>0.057197</td>\n",
       "    </tr>\n",
       "  </tbody>\n",
       "</table>\n",
       "</div>"
      ],
      "text/plain": [
       "                                           0   percent\n",
       "rougher.output.recovery                   99  1.887512\n",
       "final.output.recovery                     35  0.667302\n",
       "rougher.input.feed_sol                    10  0.190658\n",
       "secondary_cleaner.state.floatbank3_a_air   6  0.114395\n",
       "secondary_cleaner.state.floatbank2_a_air   3  0.057197"
      ]
     },
     "execution_count": 21,
     "metadata": {},
     "output_type": "execute_result"
    }
   ],
   "source": [
    "test_cleaned = test.merge(full_recovery, on='date', how='left')\n",
    "test_cleaned = test_cleaned[test_cleaned['primary_cleaner.input.sulfate'] > 90]\n",
    "nan(test_cleaned)"
   ]
  },
  {
   "cell_type": "code",
   "execution_count": 22,
   "metadata": {},
   "outputs": [
    {
     "data": {
      "text/html": [
       "<div>\n",
       "<style scoped>\n",
       "    .dataframe tbody tr th:only-of-type {\n",
       "        vertical-align: middle;\n",
       "    }\n",
       "\n",
       "    .dataframe tbody tr th {\n",
       "        vertical-align: top;\n",
       "    }\n",
       "\n",
       "    .dataframe thead th {\n",
       "        text-align: right;\n",
       "    }\n",
       "</style>\n",
       "<table border=\"1\" class=\"dataframe\">\n",
       "  <thead>\n",
       "    <tr style=\"text-align: right;\">\n",
       "      <th></th>\n",
       "      <th>0</th>\n",
       "      <th>percent</th>\n",
       "    </tr>\n",
       "  </thead>\n",
       "  <tbody>\n",
       "    <tr>\n",
       "      <td>rougher.input.feed_sol</td>\n",
       "      <td>10</td>\n",
       "      <td>0.194628</td>\n",
       "    </tr>\n",
       "    <tr>\n",
       "      <td>secondary_cleaner.state.floatbank3_a_air</td>\n",
       "      <td>6</td>\n",
       "      <td>0.116777</td>\n",
       "    </tr>\n",
       "    <tr>\n",
       "      <td>secondary_cleaner.state.floatbank2_a_air</td>\n",
       "      <td>3</td>\n",
       "      <td>0.058388</td>\n",
       "    </tr>\n",
       "    <tr>\n",
       "      <td>rougher.input.feed_rate</td>\n",
       "      <td>1</td>\n",
       "      <td>0.019463</td>\n",
       "    </tr>\n",
       "  </tbody>\n",
       "</table>\n",
       "</div>"
      ],
      "text/plain": [
       "                                           0   percent\n",
       "rougher.input.feed_sol                    10  0.194628\n",
       "secondary_cleaner.state.floatbank3_a_air   6  0.116777\n",
       "secondary_cleaner.state.floatbank2_a_air   3  0.058388\n",
       "rougher.input.feed_rate                    1  0.019463"
      ]
     },
     "execution_count": 22,
     "metadata": {},
     "output_type": "execute_result"
    }
   ],
   "source": [
    "test_cleaned = test_cleaned.dropna(subset=['rougher.output.recovery', 'final.output.recovery'])\n",
    "nan(test_cleaned)"
   ]
  },
  {
   "cell_type": "code",
   "execution_count": 23,
   "metadata": {},
   "outputs": [],
   "source": [
    "test_cleaned = test_cleaned.dropna().reset_index(drop=True)\n",
    "test_cleaned = test_cleaned[(test_cleaned['rougher.output.recovery'] != 0) &\n",
    "                            (test_cleaned['final.output.recovery'] != 0)]"
   ]
  },
  {
   "cell_type": "code",
   "execution_count": 24,
   "metadata": {
    "scrolled": false
   },
   "outputs": [
    {
     "data": {
      "text/html": [
       "<div>\n",
       "<style scoped>\n",
       "    .dataframe tbody tr th:only-of-type {\n",
       "        vertical-align: middle;\n",
       "    }\n",
       "\n",
       "    .dataframe tbody tr th {\n",
       "        vertical-align: top;\n",
       "    }\n",
       "\n",
       "    .dataframe thead th {\n",
       "        text-align: right;\n",
       "    }\n",
       "</style>\n",
       "<table border=\"1\" class=\"dataframe\">\n",
       "  <thead>\n",
       "    <tr style=\"text-align: right;\">\n",
       "      <th></th>\n",
       "      <th>primary_cleaner.input.sulfate</th>\n",
       "      <th>primary_cleaner.input.depressant</th>\n",
       "      <th>primary_cleaner.input.feed_size</th>\n",
       "      <th>primary_cleaner.input.xanthate</th>\n",
       "      <th>primary_cleaner.state.floatbank8_a_air</th>\n",
       "      <th>primary_cleaner.state.floatbank8_a_level</th>\n",
       "      <th>primary_cleaner.state.floatbank8_b_air</th>\n",
       "      <th>primary_cleaner.state.floatbank8_b_level</th>\n",
       "      <th>primary_cleaner.state.floatbank8_c_air</th>\n",
       "      <th>primary_cleaner.state.floatbank8_c_level</th>\n",
       "      <th>...</th>\n",
       "      <th>secondary_cleaner.state.floatbank4_b_air</th>\n",
       "      <th>secondary_cleaner.state.floatbank4_b_level</th>\n",
       "      <th>secondary_cleaner.state.floatbank5_a_air</th>\n",
       "      <th>secondary_cleaner.state.floatbank5_a_level</th>\n",
       "      <th>secondary_cleaner.state.floatbank5_b_air</th>\n",
       "      <th>secondary_cleaner.state.floatbank5_b_level</th>\n",
       "      <th>secondary_cleaner.state.floatbank6_a_air</th>\n",
       "      <th>secondary_cleaner.state.floatbank6_a_level</th>\n",
       "      <th>rougher.output.recovery</th>\n",
       "      <th>final.output.recovery</th>\n",
       "    </tr>\n",
       "  </thead>\n",
       "  <tbody>\n",
       "    <tr>\n",
       "      <td>count</td>\n",
       "      <td>5006.000000</td>\n",
       "      <td>5006.000000</td>\n",
       "      <td>5006.000000</td>\n",
       "      <td>5006.000000</td>\n",
       "      <td>5006.000000</td>\n",
       "      <td>5006.000000</td>\n",
       "      <td>5006.000000</td>\n",
       "      <td>5006.000000</td>\n",
       "      <td>5006.000000</td>\n",
       "      <td>5006.000000</td>\n",
       "      <td>...</td>\n",
       "      <td>5.006000e+03</td>\n",
       "      <td>5006.000000</td>\n",
       "      <td>5006.000000</td>\n",
       "      <td>5006.000000</td>\n",
       "      <td>5006.000000</td>\n",
       "      <td>5006.000000</td>\n",
       "      <td>5006.000000</td>\n",
       "      <td>5006.000000</td>\n",
       "      <td>5006.000000</td>\n",
       "      <td>5006.000000</td>\n",
       "    </tr>\n",
       "    <tr>\n",
       "      <td>mean</td>\n",
       "      <td>178.653598</td>\n",
       "      <td>8.762999</td>\n",
       "      <td>7.279522</td>\n",
       "      <td>1.409589</td>\n",
       "      <td>1542.563925</td>\n",
       "      <td>-497.663938</td>\n",
       "      <td>1548.719483</td>\n",
       "      <td>-499.391244</td>\n",
       "      <td>1531.946875</td>\n",
       "      <td>-498.330483</td>\n",
       "      <td>...</td>\n",
       "      <td>1.387941e+01</td>\n",
       "      <td>-463.566067</td>\n",
       "      <td>12.899586</td>\n",
       "      <td>-500.678417</td>\n",
       "      <td>9.992587</td>\n",
       "      <td>-495.257730</td>\n",
       "      <td>17.424278</td>\n",
       "      <td>-501.152342</td>\n",
       "      <td>86.982046</td>\n",
       "      <td>69.358771</td>\n",
       "    </tr>\n",
       "    <tr>\n",
       "      <td>std</td>\n",
       "      <td>38.672000</td>\n",
       "      <td>2.994163</td>\n",
       "      <td>0.592646</td>\n",
       "      <td>0.634056</td>\n",
       "      <td>108.564229</td>\n",
       "      <td>17.656044</td>\n",
       "      <td>115.423010</td>\n",
       "      <td>27.702909</td>\n",
       "      <td>113.735479</td>\n",
       "      <td>19.839486</td>\n",
       "      <td>...</td>\n",
       "      <td>3.290762e+00</td>\n",
       "      <td>82.392096</td>\n",
       "      <td>3.000857</td>\n",
       "      <td>14.788176</td>\n",
       "      <td>2.801607</td>\n",
       "      <td>32.986773</td>\n",
       "      <td>4.513987</td>\n",
       "      <td>37.773404</td>\n",
       "      <td>5.138576</td>\n",
       "      <td>6.809627</td>\n",
       "    </tr>\n",
       "    <tr>\n",
       "      <td>min</td>\n",
       "      <td>90.146307</td>\n",
       "      <td>0.217471</td>\n",
       "      <td>5.650000</td>\n",
       "      <td>0.342883</td>\n",
       "      <td>1011.533202</td>\n",
       "      <td>-640.876622</td>\n",
       "      <td>1012.933963</td>\n",
       "      <td>-799.754942</td>\n",
       "      <td>1011.873102</td>\n",
       "      <td>-786.260257</td>\n",
       "      <td>...</td>\n",
       "      <td>2.489718e-17</td>\n",
       "      <td>-799.868171</td>\n",
       "      <td>6.032592</td>\n",
       "      <td>-729.475816</td>\n",
       "      <td>2.781642</td>\n",
       "      <td>-614.076055</td>\n",
       "      <td>0.127304</td>\n",
       "      <td>-809.741464</td>\n",
       "      <td>10.430587</td>\n",
       "      <td>14.277491</td>\n",
       "    </tr>\n",
       "    <tr>\n",
       "      <td>25%</td>\n",
       "      <td>150.466160</td>\n",
       "      <td>6.507227</td>\n",
       "      <td>6.910000</td>\n",
       "      <td>0.947375</td>\n",
       "      <td>1499.270296</td>\n",
       "      <td>-500.346966</td>\n",
       "      <td>1499.217226</td>\n",
       "      <td>-500.698049</td>\n",
       "      <td>1484.109073</td>\n",
       "      <td>-501.010466</td>\n",
       "      <td>...</td>\n",
       "      <td>1.214516e+01</td>\n",
       "      <td>-500.306242</td>\n",
       "      <td>10.926047</td>\n",
       "      <td>-500.695701</td>\n",
       "      <td>8.062499</td>\n",
       "      <td>-500.189746</td>\n",
       "      <td>14.002012</td>\n",
       "      <td>-500.677918</td>\n",
       "      <td>85.058000</td>\n",
       "      <td>66.096988</td>\n",
       "    </tr>\n",
       "    <tr>\n",
       "      <td>50%</td>\n",
       "      <td>180.229510</td>\n",
       "      <td>8.109130</td>\n",
       "      <td>7.250000</td>\n",
       "      <td>1.204008</td>\n",
       "      <td>1589.775942</td>\n",
       "      <td>-499.970941</td>\n",
       "      <td>1596.285094</td>\n",
       "      <td>-500.030113</td>\n",
       "      <td>1549.902587</td>\n",
       "      <td>-500.022021</td>\n",
       "      <td>...</td>\n",
       "      <td>1.497222e+01</td>\n",
       "      <td>-499.579364</td>\n",
       "      <td>12.970160</td>\n",
       "      <td>-499.982094</td>\n",
       "      <td>10.014566</td>\n",
       "      <td>-499.989965</td>\n",
       "      <td>16.021527</td>\n",
       "      <td>-500.000965</td>\n",
       "      <td>87.554813</td>\n",
       "      <td>70.084929</td>\n",
       "    </tr>\n",
       "    <tr>\n",
       "      <td>75%</td>\n",
       "      <td>209.346311</td>\n",
       "      <td>10.028521</td>\n",
       "      <td>7.600000</td>\n",
       "      <td>1.817120</td>\n",
       "      <td>1602.139816</td>\n",
       "      <td>-499.577776</td>\n",
       "      <td>1602.447246</td>\n",
       "      <td>-499.295091</td>\n",
       "      <td>1601.337996</td>\n",
       "      <td>-499.007043</td>\n",
       "      <td>...</td>\n",
       "      <td>1.597075e+01</td>\n",
       "      <td>-401.127405</td>\n",
       "      <td>15.271530</td>\n",
       "      <td>-499.292513</td>\n",
       "      <td>12.000207</td>\n",
       "      <td>-499.724512</td>\n",
       "      <td>21.241108</td>\n",
       "      <td>-499.375132</td>\n",
       "      <td>89.839557</td>\n",
       "      <td>73.367184</td>\n",
       "    </tr>\n",
       "    <tr>\n",
       "      <td>max</td>\n",
       "      <td>265.983123</td>\n",
       "      <td>20.046764</td>\n",
       "      <td>15.500000</td>\n",
       "      <td>4.102454</td>\n",
       "      <td>1810.767191</td>\n",
       "      <td>-57.195404</td>\n",
       "      <td>1813.083671</td>\n",
       "      <td>-142.527229</td>\n",
       "      <td>1715.053773</td>\n",
       "      <td>-150.937035</td>\n",
       "      <td>...</td>\n",
       "      <td>1.915338e+01</td>\n",
       "      <td>-110.550392</td>\n",
       "      <td>25.258848</td>\n",
       "      <td>-244.483566</td>\n",
       "      <td>14.086866</td>\n",
       "      <td>-137.740004</td>\n",
       "      <td>26.705889</td>\n",
       "      <td>-123.307487</td>\n",
       "      <td>99.169699</td>\n",
       "      <td>100.000000</td>\n",
       "    </tr>\n",
       "  </tbody>\n",
       "</table>\n",
       "<p>8 rows × 54 columns</p>\n",
       "</div>"
      ],
      "text/plain": [
       "       primary_cleaner.input.sulfate  primary_cleaner.input.depressant  \\\n",
       "count                    5006.000000                       5006.000000   \n",
       "mean                      178.653598                          8.762999   \n",
       "std                        38.672000                          2.994163   \n",
       "min                        90.146307                          0.217471   \n",
       "25%                       150.466160                          6.507227   \n",
       "50%                       180.229510                          8.109130   \n",
       "75%                       209.346311                         10.028521   \n",
       "max                       265.983123                         20.046764   \n",
       "\n",
       "       primary_cleaner.input.feed_size  primary_cleaner.input.xanthate  \\\n",
       "count                      5006.000000                     5006.000000   \n",
       "mean                          7.279522                        1.409589   \n",
       "std                           0.592646                        0.634056   \n",
       "min                           5.650000                        0.342883   \n",
       "25%                           6.910000                        0.947375   \n",
       "50%                           7.250000                        1.204008   \n",
       "75%                           7.600000                        1.817120   \n",
       "max                          15.500000                        4.102454   \n",
       "\n",
       "       primary_cleaner.state.floatbank8_a_air  \\\n",
       "count                             5006.000000   \n",
       "mean                              1542.563925   \n",
       "std                                108.564229   \n",
       "min                               1011.533202   \n",
       "25%                               1499.270296   \n",
       "50%                               1589.775942   \n",
       "75%                               1602.139816   \n",
       "max                               1810.767191   \n",
       "\n",
       "       primary_cleaner.state.floatbank8_a_level  \\\n",
       "count                               5006.000000   \n",
       "mean                                -497.663938   \n",
       "std                                   17.656044   \n",
       "min                                 -640.876622   \n",
       "25%                                 -500.346966   \n",
       "50%                                 -499.970941   \n",
       "75%                                 -499.577776   \n",
       "max                                  -57.195404   \n",
       "\n",
       "       primary_cleaner.state.floatbank8_b_air  \\\n",
       "count                             5006.000000   \n",
       "mean                              1548.719483   \n",
       "std                                115.423010   \n",
       "min                               1012.933963   \n",
       "25%                               1499.217226   \n",
       "50%                               1596.285094   \n",
       "75%                               1602.447246   \n",
       "max                               1813.083671   \n",
       "\n",
       "       primary_cleaner.state.floatbank8_b_level  \\\n",
       "count                               5006.000000   \n",
       "mean                                -499.391244   \n",
       "std                                   27.702909   \n",
       "min                                 -799.754942   \n",
       "25%                                 -500.698049   \n",
       "50%                                 -500.030113   \n",
       "75%                                 -499.295091   \n",
       "max                                 -142.527229   \n",
       "\n",
       "       primary_cleaner.state.floatbank8_c_air  \\\n",
       "count                             5006.000000   \n",
       "mean                              1531.946875   \n",
       "std                                113.735479   \n",
       "min                               1011.873102   \n",
       "25%                               1484.109073   \n",
       "50%                               1549.902587   \n",
       "75%                               1601.337996   \n",
       "max                               1715.053773   \n",
       "\n",
       "       primary_cleaner.state.floatbank8_c_level  ...  \\\n",
       "count                               5006.000000  ...   \n",
       "mean                                -498.330483  ...   \n",
       "std                                   19.839486  ...   \n",
       "min                                 -786.260257  ...   \n",
       "25%                                 -501.010466  ...   \n",
       "50%                                 -500.022021  ...   \n",
       "75%                                 -499.007043  ...   \n",
       "max                                 -150.937035  ...   \n",
       "\n",
       "       secondary_cleaner.state.floatbank4_b_air  \\\n",
       "count                              5.006000e+03   \n",
       "mean                               1.387941e+01   \n",
       "std                                3.290762e+00   \n",
       "min                                2.489718e-17   \n",
       "25%                                1.214516e+01   \n",
       "50%                                1.497222e+01   \n",
       "75%                                1.597075e+01   \n",
       "max                                1.915338e+01   \n",
       "\n",
       "       secondary_cleaner.state.floatbank4_b_level  \\\n",
       "count                                 5006.000000   \n",
       "mean                                  -463.566067   \n",
       "std                                     82.392096   \n",
       "min                                   -799.868171   \n",
       "25%                                   -500.306242   \n",
       "50%                                   -499.579364   \n",
       "75%                                   -401.127405   \n",
       "max                                   -110.550392   \n",
       "\n",
       "       secondary_cleaner.state.floatbank5_a_air  \\\n",
       "count                               5006.000000   \n",
       "mean                                  12.899586   \n",
       "std                                    3.000857   \n",
       "min                                    6.032592   \n",
       "25%                                   10.926047   \n",
       "50%                                   12.970160   \n",
       "75%                                   15.271530   \n",
       "max                                   25.258848   \n",
       "\n",
       "       secondary_cleaner.state.floatbank5_a_level  \\\n",
       "count                                 5006.000000   \n",
       "mean                                  -500.678417   \n",
       "std                                     14.788176   \n",
       "min                                   -729.475816   \n",
       "25%                                   -500.695701   \n",
       "50%                                   -499.982094   \n",
       "75%                                   -499.292513   \n",
       "max                                   -244.483566   \n",
       "\n",
       "       secondary_cleaner.state.floatbank5_b_air  \\\n",
       "count                               5006.000000   \n",
       "mean                                   9.992587   \n",
       "std                                    2.801607   \n",
       "min                                    2.781642   \n",
       "25%                                    8.062499   \n",
       "50%                                   10.014566   \n",
       "75%                                   12.000207   \n",
       "max                                   14.086866   \n",
       "\n",
       "       secondary_cleaner.state.floatbank5_b_level  \\\n",
       "count                                 5006.000000   \n",
       "mean                                  -495.257730   \n",
       "std                                     32.986773   \n",
       "min                                   -614.076055   \n",
       "25%                                   -500.189746   \n",
       "50%                                   -499.989965   \n",
       "75%                                   -499.724512   \n",
       "max                                   -137.740004   \n",
       "\n",
       "       secondary_cleaner.state.floatbank6_a_air  \\\n",
       "count                               5006.000000   \n",
       "mean                                  17.424278   \n",
       "std                                    4.513987   \n",
       "min                                    0.127304   \n",
       "25%                                   14.002012   \n",
       "50%                                   16.021527   \n",
       "75%                                   21.241108   \n",
       "max                                   26.705889   \n",
       "\n",
       "       secondary_cleaner.state.floatbank6_a_level  rougher.output.recovery  \\\n",
       "count                                 5006.000000              5006.000000   \n",
       "mean                                  -501.152342                86.982046   \n",
       "std                                     37.773404                 5.138576   \n",
       "min                                   -809.741464                10.430587   \n",
       "25%                                   -500.677918                85.058000   \n",
       "50%                                   -500.000965                87.554813   \n",
       "75%                                   -499.375132                89.839557   \n",
       "max                                   -123.307487                99.169699   \n",
       "\n",
       "       final.output.recovery  \n",
       "count            5006.000000  \n",
       "mean               69.358771  \n",
       "std                 6.809627  \n",
       "min                14.277491  \n",
       "25%                66.096988  \n",
       "50%                70.084929  \n",
       "75%                73.367184  \n",
       "max               100.000000  \n",
       "\n",
       "[8 rows x 54 columns]"
      ]
     },
     "execution_count": 24,
     "metadata": {},
     "output_type": "execute_result"
    }
   ],
   "source": [
    "test_cleaned.describe()"
   ]
  },
  {
   "cell_type": "markdown",
   "metadata": {},
   "source": [
    "### Обучающая выборка."
   ]
  },
  {
   "cell_type": "code",
   "execution_count": 25,
   "metadata": {},
   "outputs": [],
   "source": [
    "\n",
    "train_cleaned = train[test_cleaned.columns.tolist()]\n",
    "train_cleaned = train_cleaned.dropna(subset=['rougher.output.recovery', 'final.output.recovery'])\n",
    "train_cleaned = train_cleaned[train_cleaned['primary_cleaner.input.sulfate'] > 90 &\n",
    "                             (train_cleaned['rougher.output.recovery'] != 0) &\n",
    "                            (train_cleaned['final.output.recovery'] != 0)].reset_index(drop=True)"
   ]
  },
  {
   "cell_type": "code",
   "execution_count": 26,
   "metadata": {},
   "outputs": [
    {
     "data": {
      "text/html": [
       "<div>\n",
       "<style scoped>\n",
       "    .dataframe tbody tr th:only-of-type {\n",
       "        vertical-align: middle;\n",
       "    }\n",
       "\n",
       "    .dataframe tbody tr th {\n",
       "        vertical-align: top;\n",
       "    }\n",
       "\n",
       "    .dataframe thead th {\n",
       "        text-align: right;\n",
       "    }\n",
       "</style>\n",
       "<table border=\"1\" class=\"dataframe\">\n",
       "  <thead>\n",
       "    <tr style=\"text-align: right;\">\n",
       "      <th></th>\n",
       "      <th>0</th>\n",
       "      <th>percent</th>\n",
       "    </tr>\n",
       "  </thead>\n",
       "  <tbody>\n",
       "    <tr>\n",
       "      <td>rougher.state.floatbank10_e_air</td>\n",
       "      <td>435</td>\n",
       "      <td>3.078774</td>\n",
       "    </tr>\n",
       "    <tr>\n",
       "      <td>rougher.input.floatbank11_xanthate</td>\n",
       "      <td>412</td>\n",
       "      <td>2.915988</td>\n",
       "    </tr>\n",
       "    <tr>\n",
       "      <td>secondary_cleaner.state.floatbank2_a_air</td>\n",
       "      <td>216</td>\n",
       "      <td>1.528771</td>\n",
       "    </tr>\n",
       "    <tr>\n",
       "      <td>rougher.input.feed_size</td>\n",
       "      <td>143</td>\n",
       "      <td>1.012103</td>\n",
       "    </tr>\n",
       "    <tr>\n",
       "      <td>rougher.input.feed_pb</td>\n",
       "      <td>100</td>\n",
       "      <td>0.707764</td>\n",
       "    </tr>\n",
       "  </tbody>\n",
       "</table>\n",
       "</div>"
      ],
      "text/plain": [
       "                                            0   percent\n",
       "rougher.state.floatbank10_e_air           435  3.078774\n",
       "rougher.input.floatbank11_xanthate        412  2.915988\n",
       "secondary_cleaner.state.floatbank2_a_air  216  1.528771\n",
       "rougher.input.feed_size                   143  1.012103\n",
       "rougher.input.feed_pb                     100  0.707764"
      ]
     },
     "execution_count": 26,
     "metadata": {},
     "output_type": "execute_result"
    }
   ],
   "source": [
    "nan(train_cleaned)"
   ]
  },
  {
   "cell_type": "code",
   "execution_count": 27,
   "metadata": {},
   "outputs": [],
   "source": [
    "train_cleaned = train_cleaned.dropna()"
   ]
  },
  {
   "cell_type": "markdown",
   "metadata": {},
   "source": [
    "# 2. Анализ данных."
   ]
  },
  {
   "cell_type": "markdown",
   "metadata": {},
   "source": [
    "## 2.1. Посмотрю, как меняется концентрация металлов (Au, Ag, Pb) на различных этапах очистки. Опишу выводы."
   ]
  },
  {
   "cell_type": "code",
   "execution_count": 28,
   "metadata": {},
   "outputs": [],
   "source": [
    "def concentration (item, name, f, s):\n",
    "    concentrate = full.columns[full.columns.str.contains(item)]\n",
    "\n",
    "    plt.figure(figsize=(15,6))\n",
    "    sns.boxplot(data=full[concentrate[[2,1,0]]])\n",
    "    sns.set(style='white')\n",
    "    plt.title(name, fontsize=16)\n",
    "    plt.ylim(f, s)\n",
    "    plt.xlabel('Этапы очистки', labelpad=10, fontsize=16)\n",
    "    plt.ylabel('Концентрация', labelpad=15, fontsize=16)\n",
    "    plt.xticks(np.arange(3), ('Флотация','Первичная очистка','Вторичная очистка'))\n",
    "    plt.show()\n",
    "    \n",
    "    print('Флотация:','        ', full[concentrate[2]].mean())\n",
    "    print('Первичная очистка:', full[concentrate[1]].mean())\n",
    "    print('Вторичная очистка:', full[concentrate[0]].mean())"
   ]
  },
  {
   "cell_type": "code",
   "execution_count": 29,
   "metadata": {},
   "outputs": [
    {
     "data": {
      "image/png": "[encoded data removed]",
      "text/plain": [
       "<Figure size 1080x432 with 1 Axes>"
      ]
     },
     "metadata": {},
     "output_type": "display_data"
    },
    {
     "name": "stdout",
     "output_type": "stream",
     "text": [
      "Флотация:          17.879538203033526\n",
      "Первичная очистка: 29.2122887022117\n",
      "Вторичная очистка: 40.00117189600704\n"
     ]
    }
   ],
   "source": [
    "concentration ('concentrate_au', 'Au', -1, 55)"
   ]
  },
  {
   "cell_type": "code",
   "execution_count": 30,
   "metadata": {
    "scrolled": false
   },
   "outputs": [
    {
     "data": {
      "image/png": "[encoded data removed]",
      "text/plain": [
       "<Figure size 1080x432 with 1 Axes>"
      ]
     },
     "metadata": {},
     "output_type": "display_data"
    },
    {
     "name": "stdout",
     "output_type": "stream",
     "text": [
      "Флотация:          6.900646225251427\n",
      "Первичная очистка: 8.921109840609116\n",
      "Вторичная очистка: 9.095308105450233\n"
     ]
    }
   ],
   "source": [
    "concentration ('concentrate_pb', 'Pb', -1, 18)"
   ]
  },
  {
   "cell_type": "code",
   "execution_count": 31,
   "metadata": {
    "scrolled": false
   },
   "outputs": [
    {
     "data": {
      "image/png": "[encoded data removed]",
      "text/plain": [
       "<Figure size 1080x432 with 1 Axes>"
      ]
     },
     "metadata": {},
     "output_type": "display_data"
    },
    {
     "name": "stdout",
     "output_type": "stream",
     "text": [
      "Флотация:          10.874483745395471\n",
      "Первичная очистка: 7.691651764297073\n",
      "Вторичная очистка: 4.781559451695097\n"
     ]
    }
   ],
   "source": [
    "concentration ('concentrate_ag', 'Ag', -1, 25)"
   ]
  },
  {
   "cell_type": "markdown",
   "metadata": {},
   "source": [
    "## Вывод\n",
    "\n",
    "- Концентрация золота и свинца растет видимо из-за близких атомарных масс\n",
    "- Концентрация серебра падает вероятно из-за ионной активности\n"
   ]
  },
  {
   "cell_type": "markdown",
   "metadata": {},
   "source": [
    "### 2.2. Сравню распределения размеров гранул сырья на обучающей и тестовой выборках. Если распределения сильно отличаются друг от друга, оценка модели будет неправильной."
   ]
  },
  {
   "cell_type": "code",
   "execution_count": 32,
   "metadata": {},
   "outputs": [],
   "source": [
    "def fraction (df,  name):\n",
    "    plt.figure(figsize=(16,5))\n",
    "    sns.rugplot(df)\n",
    "    sns.kdeplot(df)\n",
    "    sns.set(style='white')\n",
    "    plt.title(name, fontsize=16)\n",
    "    plt.xlim(20, 140)\n",
    "    plt.ylabel('Фракция', labelpad=15, fontsize=14)\n",
    "    plt.show()\n",
    "\n",
    "    print(name, 'среднее:', df.mean())\n",
    "    print(name, 'медиана:', df.median())"
   ]
  },
  {
   "cell_type": "code",
   "execution_count": 33,
   "metadata": {},
   "outputs": [
    {
     "data": {
      "image/png": "[encoded data removed]",
      "text/plain": [
       "<Figure size 1152x360 with 1 Axes>"
      ]
     },
     "metadata": {},
     "output_type": "display_data"
    },
    {
     "name": "stdout",
     "output_type": "stream",
     "text": [
      "Тестовая выборка среднее: 55.161308947942146\n",
      "Тестовая выборка медиана: 50.834263964331086\n"
     ]
    }
   ],
   "source": [
    "fraction(test_cleaned['rougher.input.feed_size'], 'Тестовая выборка')"
   ]
  },
  {
   "cell_type": "code",
   "execution_count": 34,
   "metadata": {},
   "outputs": [
    {
     "data": {
      "image/png": "[encoded data removed]",
      "text/plain": [
       "<Figure size 1152x360 with 1 Axes>"
      ]
     },
     "metadata": {},
     "output_type": "display_data"
    },
    {
     "name": "stdout",
     "output_type": "stream",
     "text": [
      "Обучающая выборка среднее: 58.41441169730164\n",
      "Обучающая выборка медиана: 54.65112875525943\n"
     ]
    }
   ],
   "source": [
    "fraction(train_cleaned['rougher.input.feed_size'], 'Обучающая выборка')"
   ]
  },
  {
   "cell_type": "markdown",
   "metadata": {},
   "source": [
    "## Вывод\n",
    "\n",
    "- За внешней непохожестью скрываются близкие цифры среднего и медианы.\n",
    "- Если обратить внимание на линейный график, то можно заметить что тестовая выборка является сильно апроксимированной обучающей.\n",
    "- Плотность распределения близка.\n",
    "- Ошибка в обучении возможна."
   ]
  },
  {
   "cell_type": "markdown",
   "metadata": {},
   "source": [
    "### 2.3. Исследую суммарную концентрацию всех веществ на разных стадиях: в сырье, в черновом и финальном концентратах. Проверю аномальные значения в суммарном распределении. Если они есть, проверю стоит ли их удалять из обеих выборок."
   ]
  },
  {
   "cell_type": "code",
   "execution_count": 35,
   "metadata": {},
   "outputs": [
    {
     "data": {
      "image/png": "[encoded data removed]",
      "text/plain": [
       "<Figure size 1080x432 with 1 Axes>"
      ]
     },
     "metadata": {},
     "output_type": "display_data"
    },
    {
     "name": "stdout",
     "output_type": "stream",
     "text": [
      "Обучающая выборка: 56.38899688602006\n",
      "Тестовая выборка: 60.58120782445656\n"
     ]
    }
   ],
   "source": [
    "concentrate_train = train_cleaned.columns[train_cleaned.columns.str.contains('feed_ag|feed_au|feed_pb|feed_sol')]\n",
    "train_cleaned['summ'] = train_cleaned[concentrate_train].sum(axis=1)\n",
    "concentrate_test = test_cleaned.columns[test_cleaned.columns.str.contains('feed_ag|feed_au|feed_pb|feed_sol')]\n",
    "test_cleaned['summ'] = test_cleaned[concentrate_train].sum(axis=1)\n",
    "\n",
    "plt.figure(figsize=(15,6))\n",
    "sns.boxplot(data=(train_cleaned['summ'], test_cleaned['summ']))\n",
    "sns.set(style='white')\n",
    "plt.title('Распределение', fontsize=16)\n",
    "plt.ylim(0, 80)\n",
    "plt.ylabel('Концентрация', labelpad=15, fontsize=14)\n",
    "plt.xticks(np.arange(2), ('Обучающая выборка','Тестовая выборка'))\n",
    "plt.show()\n",
    "\n",
    "\n",
    "print('Обучающая выборка:', train_cleaned['summ'].mean())\n",
    "print('Тестовая выборка:', test_cleaned['summ'].mean())"
   ]
  },
  {
   "cell_type": "code",
   "execution_count": 36,
   "metadata": {},
   "outputs": [],
   "source": [
    "def summ (df, element):\n",
    "    concentrate_feed = df.columns[df.columns.str.contains(element)]\n",
    "    df['summ_feed'] = df[concentrate_feed].sum(axis=1)\n",
    "    \n",
    "    concentrate_rougher = df.columns[df.columns.str.contains('rougher.output.concentrate')]\n",
    "    df['summ_rougher'] = df[concentrate_rougher].sum(axis=1)\n",
    "    \n",
    "    concentrate_final = df.columns[df.columns.str.contains('final.output.concentrate')]\n",
    "    df['summ_final'] = df[concentrate_final].sum(axis=1)\n",
    "    \n",
    "    plt.figure(figsize=(15,6))\n",
    "    sns.boxplot(data=df[['summ_feed', 'summ_rougher', 'summ_final']])\n",
    "\n",
    "    sns.set(style='white')\n",
    "    plt.title('Распределение', fontsize=16)\n",
    "    plt.ylim(30, 100)\n",
    "    plt.xlabel('Этапы очистки', labelpad=15, fontsize=14)\n",
    "    plt.ylabel('Концентрация', labelpad=15, fontsize=14)\n",
    "    plt.xticks(np.arange(3), ('Сырье','Флотация', 'Очистка'))\n",
    "    plt.show()\n",
    "\n",
    "\n",
    "    print('Сырье:', df['summ_feed'].mean())\n",
    "    print('Флотация:', df['summ_rougher'].mean())\n",
    "    print('Очистка:', df['summ_final'].mean())"
   ]
  },
  {
   "cell_type": "code",
   "execution_count": 37,
   "metadata": {},
   "outputs": [
    {
     "data": {
      "image/png": "[encoded data removed]",
      "text/plain": [
       "<Figure size 1080x432 with 1 Axes>"
      ]
     },
     "metadata": {},
     "output_type": "display_data"
    },
    {
     "name": "stdout",
     "output_type": "stream",
     "text": [
      "Сырье: 50.17649557418531\n",
      "Флотация: 59.83782683289734\n",
      "Очистка: 61.1913697486271\n"
     ]
    }
   ],
   "source": [
    "summ(train, 'feed_ag|feed_au|feed_pb|feed_sol')"
   ]
  },
  {
   "cell_type": "code",
   "execution_count": 38,
   "metadata": {
    "scrolled": false
   },
   "outputs": [
    {
     "data": {
      "image/png": "[encoded data removed]",
      "text/plain": [
       "<Figure size 1080x432 with 1 Axes>"
      ]
     },
     "metadata": {},
     "output_type": "display_data"
    },
    {
     "name": "stdout",
     "output_type": "stream",
     "text": [
      "Сырье: 51.584079338830676\n",
      "Флотация: 61.378090441847654\n",
      "Очистка: 62.166909548565165\n"
     ]
    }
   ],
   "source": [
    "summ(full, 'feed_ag|feed_au|feed_pb|feed_sol')"
   ]
  },
  {
   "cell_type": "markdown",
   "metadata": {},
   "source": [
    "## Вывод\n",
    "\n",
    "- На стадии флотации поднимается общая концентрация\n",
    "- На стадии очистки остается золото (соответственно мы видим сужение диапазона и незначительный рост концентрапции, который на самом деле будет значительным для элемента AU)\n",
    "\n"
   ]
  },
  {
   "cell_type": "markdown",
   "metadata": {},
   "source": [
    "# 3. Построение модели."
   ]
  },
  {
   "cell_type": "markdown",
   "metadata": {},
   "source": [
    "## Функция для вычисления итоговой sMAPE"
   ]
  },
  {
   "cell_type": "code",
   "execution_count": 39,
   "metadata": {},
   "outputs": [],
   "source": [
    "def smape(targets, predictions):\n",
    "    array = (abs(np.array(targets) - predictions) \n",
    "              / \n",
    "             ((abs(np.array(targets)) + abs(predictions)) / 2) * 100\n",
    "             )\n",
    "    smape_of_two = np.sum(array,axis=0)\n",
    "    smape_rougher = smape_of_two[1] / len(array)\n",
    "    smape_final = smape_of_two[0] / len(array)\n",
    "    final_sMAPE = (0.25 * smape_rougher) + (0.75 * smape_final)\n",
    "    return final_sMAPE"
   ]
  },
  {
   "cell_type": "markdown",
   "metadata": {},
   "source": [
    "### Дата теперь не к чему"
   ]
  },
  {
   "cell_type": "code",
   "execution_count": 40,
   "metadata": {},
   "outputs": [],
   "source": [
    "train_cleaned = train_cleaned.drop('date', axis = 1)\n",
    "test_cleaned = test_cleaned.drop('date', axis = 1)"
   ]
  },
  {
   "cell_type": "markdown",
   "metadata": {},
   "source": [
    "### Разделю признаки"
   ]
  },
  {
   "cell_type": "code",
   "execution_count": 41,
   "metadata": {},
   "outputs": [],
   "source": [
    "target_train = train_cleaned[['rougher.output.recovery', 'final.output.recovery']]\n",
    "features_train = train_cleaned.drop(['rougher.output.recovery', 'final.output.recovery'], axis = 1)\n",
    "target_test = test_cleaned[['rougher.output.recovery', 'final.output.recovery']]\n",
    "features_test = test_cleaned.drop(['rougher.output.recovery', 'final.output.recovery'], axis = 1)"
   ]
  },
  {
   "cell_type": "markdown",
   "metadata": {},
   "source": [
    "### Метрика кросс валидации"
   ]
  },
  {
   "cell_type": "code",
   "execution_count": 42,
   "metadata": {},
   "outputs": [],
   "source": [
    "def validation(model, features, target):\n",
    "    score = make_scorer(smape)\n",
    "    l_score = cross_val_score(model, features, target, cv=5, scoring=score)\n",
    "    return l_score.mean()"
   ]
  },
  {
   "cell_type": "markdown",
   "metadata": {},
   "source": [
    "### Линейная регрессия"
   ]
  },
  {
   "cell_type": "code",
   "execution_count": 43,
   "metadata": {},
   "outputs": [
    {
     "data": {
      "text/plain": [
       "10.8768328988832"
      ]
     },
     "execution_count": 43,
     "metadata": {},
     "output_type": "execute_result"
    }
   ],
   "source": [
    "linear = LinearRegression().fit(features_train, target_train)\n",
    "validation(linear, features_train, target_train)"
   ]
  },
  {
   "cell_type": "code",
   "execution_count": 44,
   "metadata": {},
   "outputs": [
    {
     "name": "stdout",
     "output_type": "stream",
     "text": [
      "SMAPE: 6.492986262937839\n"
     ]
    }
   ],
   "source": [
    "linear = LinearRegression().fit(features_train, target_train)\n",
    "prediction_linear = linear.predict(features_test)\n",
    "print('SMAPE:', smape(target_test, prediction_linear))"
   ]
  },
  {
   "cell_type": "markdown",
   "metadata": {},
   "source": [
    "### Случайный лес"
   ]
  },
  {
   "cell_type": "code",
   "execution_count": 45,
   "metadata": {},
   "outputs": [
    {
     "data": {
      "text/plain": [
       "11.460140480796891"
      ]
     },
     "execution_count": 45,
     "metadata": {},
     "output_type": "execute_result"
    }
   ],
   "source": [
    "forest = RandomForestRegressor(n_estimators=36, max_depth=18, random_state=42)\n",
    "smape_score = cross_val_score(forest, features_train, target_train, cv=5, scoring=make_scorer(smape))\n",
    "smape_score.mean()"
   ]
  },
  {
   "cell_type": "code",
   "execution_count": 46,
   "metadata": {},
   "outputs": [
    {
     "name": "stdout",
     "output_type": "stream",
     "text": [
      "SMAPE: 6.613779796361617\n"
     ]
    }
   ],
   "source": [
    "forest_regressor = RandomForestRegressor(random_state=42, max_depth= 3,\n",
    "                                         n_estimators=54).fit(features_train, target_train)\n",
    "prediction_forest = forest_regressor.predict(features_test)\n",
    "print('SMAPE:', smape(target_test, prediction_forest))"
   ]
  },
  {
   "cell_type": "markdown",
   "metadata": {},
   "source": [
    "### Lasso"
   ]
  },
  {
   "cell_type": "code",
   "execution_count": 47,
   "metadata": {},
   "outputs": [
    {
     "data": {
      "text/plain": [
       "10.656188083153403"
      ]
     },
     "execution_count": 47,
     "metadata": {},
     "output_type": "execute_result"
    }
   ],
   "source": [
    "Lasso = Lasso(alpha=0.2)\n",
    "smape_score = cross_val_score(Lasso, features_train, target_train, cv=5, scoring=make_scorer(smape))\n",
    "smape_score.mean()"
   ]
  },
  {
   "cell_type": "code",
   "execution_count": 48,
   "metadata": {},
   "outputs": [
    {
     "name": "stdout",
     "output_type": "stream",
     "text": [
      "SMAPE: 6.273698374091292\n"
     ]
    }
   ],
   "source": [
    "Lasso = Lasso.fit(features_train, target_train)\n",
    "prediction_lasso = Lasso.predict(features_test)\n",
    "print('SMAPE:', smape(target_test, prediction_lasso))"
   ]
  },
  {
   "cell_type": "markdown",
   "metadata": {},
   "source": [
    "## Проверка на адекватность"
   ]
  },
  {
   "cell_type": "code",
   "execution_count": 49,
   "metadata": {},
   "outputs": [],
   "source": [
    "dummy_regr = DummyRegressor(strategy=\"mean\").fit(features_train, target_train)\n",
    "predictions_dummy = dummy_regr.predict(features_test)"
   ]
  },
  {
   "cell_type": "code",
   "execution_count": 50,
   "metadata": {},
   "outputs": [],
   "source": [
    "SMAPE = pd.DataFrame(data={'Model': ['Dummy', 'Линейная регрессия', 'Случайный лес','Lasso'], \n",
    "                   'Score': [round(smape(target_test, predictions_dummy),2),\n",
    "                             round(smape(target_test, prediction_linear),2),\n",
    "                             round(smape(target_test, prediction_forest),2),\n",
    "                             round(smape(target_test, prediction_lasso),2)]}).sort_values('Score')"
   ]
  },
  {
   "cell_type": "code",
   "execution_count": 51,
   "metadata": {},
   "outputs": [
    {
     "data": {
      "text/html": [
       "<div>\n",
       "<style scoped>\n",
       "    .dataframe tbody tr th:only-of-type {\n",
       "        vertical-align: middle;\n",
       "    }\n",
       "\n",
       "    .dataframe tbody tr th {\n",
       "        vertical-align: top;\n",
       "    }\n",
       "\n",
       "    .dataframe thead th {\n",
       "        text-align: right;\n",
       "    }\n",
       "</style>\n",
       "<table border=\"1\" class=\"dataframe\">\n",
       "  <thead>\n",
       "    <tr style=\"text-align: right;\">\n",
       "      <th></th>\n",
       "      <th>Model</th>\n",
       "      <th>Score</th>\n",
       "    </tr>\n",
       "  </thead>\n",
       "  <tbody>\n",
       "    <tr>\n",
       "      <td>3</td>\n",
       "      <td>Lasso</td>\n",
       "      <td>6.27</td>\n",
       "    </tr>\n",
       "    <tr>\n",
       "      <td>1</td>\n",
       "      <td>Линейная регрессия</td>\n",
       "      <td>6.49</td>\n",
       "    </tr>\n",
       "    <tr>\n",
       "      <td>2</td>\n",
       "      <td>Случайный лес</td>\n",
       "      <td>6.61</td>\n",
       "    </tr>\n",
       "    <tr>\n",
       "      <td>0</td>\n",
       "      <td>Dummy</td>\n",
       "      <td>6.78</td>\n",
       "    </tr>\n",
       "  </tbody>\n",
       "</table>\n",
       "</div>"
      ],
      "text/plain": [
       "                Model  Score\n",
       "3               Lasso   6.27\n",
       "1  Линейная регрессия   6.49\n",
       "2       Случайный лес   6.61\n",
       "0               Dummy   6.78"
      ]
     },
     "execution_count": 51,
     "metadata": {},
     "output_type": "execute_result"
    }
   ],
   "source": [
    "SMAPE"
   ]
  },
  {
   "cell_type": "markdown",
   "metadata": {},
   "source": [
    "# Вывод: \n",
    "# - лучший smape на тестовой выборке показывает модель Lasso."
   ]
  }
 ],
 "metadata": {
  "kernelspec": {
   "display_name": "Python 3",
   "language": "python",
   "name": "python3"
  },
  "language_info": {
   "codemirror_mode": {
    "name": "ipython",
    "version": 3
   },
   "file_extension": ".py",
   "mimetype": "text/x-python",
   "name": "python",
   "nbconvert_exporter": "python",
   "pygments_lexer": "ipython3",
   "version": "3.7.4"
  }
 },
 "nbformat": 4,
 "nbformat_minor": 2
}
