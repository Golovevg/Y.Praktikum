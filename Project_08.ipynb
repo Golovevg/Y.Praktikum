{
 "cells": [
  {
   "cell_type": "markdown",
   "metadata": {},
   "source": [
    "<font color=darkblue> \n",
    "\n",
    "## Описание задачи.\n",
    "___\n",
    "    \n",
    "### Необходимо подготовить прототип модели машинного обучения для «Цифры». Компания разрабатывает решения для эффективной работы промышленных предприятий.\n",
    "### Модель должна предсказать коэффициент восстановления золота из золотосодержащей руды, основываясь на данных с параметрами добычи и очистки.\n",
    "### Модель разрабатывается для оптимизации производства, чтобы не запускать предприятие с убыточными характеристиками."
   ]
  },
  {
   "cell_type": "markdown",
   "metadata": {},
   "source": [
    "## Описание данных."
   ]
  },
  {
   "cell_type": "markdown",
   "metadata": {},
   "source": [
    "\n",
    "### Технологический процесс:\n",
    "- Rougher feed — исходное сырье\n",
    "- Rougher additions (или reagent additions) — флотационные реагенты: Xanthate, Sulphate, Depressant\n",
    "- Xanthate **— ксантогенат (промотер, или активатор флотации);\n",
    "- Sulphate — сульфат (на данном производстве сульфид натрия);\n",
    "- Depressant — депрессант (силикат натрия).\n",
    "- Rougher process (англ. «грубый процесс») — флотация\n",
    "- Rougher tails — отвальные хвосты\n",
    "- Float banks — флотационная установка\n",
    "- Cleaner process — очистка\n",
    "- Rougher Au — черновой концентрат золота\n",
    "- Final Au — финальный концентрат золота\n",
    "### Параметры этапов:\n",
    "- air amount — объём воздуха\n",
    "- fluid levels — уровень жидкости\n",
    "- feed size — размер гранул сырья\n",
    "- feed rate — скорость подачи\n",
    "### Наименование признаков:\n",
    "Наименование признаков построено по принципу:\n",
    "[этап].[тип_параметра].[название_параметра]\n",
    "Пример: rougher.input.feed_ag\n",
    "#### Значения для блока [этап]:\n",
    "- rougher — флотация\n",
    "- primary_cleaner — первичная очистка\n",
    "- secondary_cleaner — вторичная очистка\n",
    "- final — финальные характеристики\n",
    "### Значения для блока [тип_параметра]:\n",
    "- input — параметры сырья\n",
    "- output — параметры продукта\n",
    "- state — параметры, характеризующие текущее состояние этапа\n",
    "- calculation — расчётные характеристики"
   ]
  },
  {
   "cell_type": "markdown",
   "metadata": {},
   "source": [
    "## Вызов бибиотек."
   ]
  },
  {
   "cell_type": "code",
   "execution_count": 1,
   "metadata": {},
   "outputs": [],
   "source": [
    "import pandas as pd\n",
    "from sklearn.metrics import mean_absolute_error\n",
    "import matplotlib.pyplot as plt\n",
    "import seaborn as sns\n",
    "import numpy as np\n",
    "from sklearn.preprocessing import StandardScaler\n",
    "from sklearn.model_selection import cross_val_score\n",
    "from sklearn.linear_model import LinearRegression, Lasso\n",
    "from sklearn.ensemble import RandomForestClassifier, GradientBoostingClassifier\n",
    "from sklearn.metrics import make_scorer\n",
    "from sklearn.model_selection import GridSearchCV\n",
    "from sklearn.ensemble import RandomForestRegressor\n",
    "from sklearn.tree import DecisionTreeRegressor\n",
    "from sklearn.dummy import DummyRegressor\n",
    "from sklearn.model_selection import train_test_split\n",
    "from sklearn.utils import shuffle"
   ]
  },
  {
   "cell_type": "markdown",
   "metadata": {},
   "source": [
    "# 1. Подготовка данных."
   ]
  },
  {
   "cell_type": "markdown",
   "metadata": {},
   "source": [
    "## 1.1 Открою данные и изучу их."
   ]
  },
  {
   "cell_type": "code",
   "execution_count": 2,
   "metadata": {},
   "outputs": [],
   "source": [
    "test = pd.read_csv('/datasets/gold_recovery_test.csv')\n",
    "train = pd.read_csv('/datasets/gold_recovery_train.csv')\n",
    "full = pd.read_csv('/datasets/gold_recovery_full.csv')"
   ]
  },
  {
   "cell_type": "code",
   "execution_count": 3,
   "metadata": {
    "scrolled": false
   },
   "outputs": [
    {
     "data": {
      "text/plain": [
       "((5856, 53), (16860, 87), (22716, 87))"
      ]
     },
     "execution_count": 3,
     "metadata": {},
     "output_type": "execute_result"
    }
   ],
   "source": [
    "test.shape, train.shape, full.shape"
   ]
  },
  {
   "cell_type": "markdown",
   "metadata": {},
   "source": [
    "### Проверю на пропуски."
   ]
  },
  {
   "cell_type": "code",
   "execution_count": 4,
   "metadata": {},
   "outputs": [],
   "source": [
    "def nan (df):\n",
    "    df_na = pd.DataFrame(df.isna().sum())\n",
    "    df_na['percent'] = df_na[0] * 100 / len(df)\n",
    "    return df_na[(df_na['percent'] > 0)].sort_values('percent', ascending = False)[:7]\n",
    "    "
   ]
  },
  {
   "cell_type": "code",
   "execution_count": 5,
   "metadata": {
    "scrolled": false
   },
   "outputs": [
    {
     "data": {
      "text/html": [
       "<div>\n",
       "<style scoped>\n",
       "    .dataframe tbody tr th:only-of-type {\n",
       "        vertical-align: middle;\n",
       "    }\n",
       "\n",
       "    .dataframe tbody tr th {\n",
       "        vertical-align: top;\n",
       "    }\n",
       "\n",
       "    .dataframe thead th {\n",
       "        text-align: right;\n",
       "    }\n",
       "</style>\n",
       "<table border=\"1\" class=\"dataframe\">\n",
       "  <thead>\n",
       "    <tr style=\"text-align: right;\">\n",
       "      <th></th>\n",
       "      <th>0</th>\n",
       "      <th>percent</th>\n",
       "    </tr>\n",
       "  </thead>\n",
       "  <tbody>\n",
       "    <tr>\n",
       "      <td>rougher.input.floatbank11_xanthate</td>\n",
       "      <td>353</td>\n",
       "      <td>6.028005</td>\n",
       "    </tr>\n",
       "    <tr>\n",
       "      <td>primary_cleaner.input.sulfate</td>\n",
       "      <td>302</td>\n",
       "      <td>5.157104</td>\n",
       "    </tr>\n",
       "    <tr>\n",
       "      <td>primary_cleaner.input.depressant</td>\n",
       "      <td>284</td>\n",
       "      <td>4.849727</td>\n",
       "    </tr>\n",
       "    <tr>\n",
       "      <td>rougher.input.floatbank10_sulfate</td>\n",
       "      <td>257</td>\n",
       "      <td>4.388661</td>\n",
       "    </tr>\n",
       "    <tr>\n",
       "      <td>primary_cleaner.input.xanthate</td>\n",
       "      <td>166</td>\n",
       "      <td>2.834699</td>\n",
       "    </tr>\n",
       "    <tr>\n",
       "      <td>rougher.input.floatbank10_xanthate</td>\n",
       "      <td>123</td>\n",
       "      <td>2.100410</td>\n",
       "    </tr>\n",
       "    <tr>\n",
       "      <td>rougher.input.feed_sol</td>\n",
       "      <td>67</td>\n",
       "      <td>1.144126</td>\n",
       "    </tr>\n",
       "  </tbody>\n",
       "</table>\n",
       "</div>"
      ],
      "text/plain": [
       "                                      0   percent\n",
       "rougher.input.floatbank11_xanthate  353  6.028005\n",
       "primary_cleaner.input.sulfate       302  5.157104\n",
       "primary_cleaner.input.depressant    284  4.849727\n",
       "rougher.input.floatbank10_sulfate   257  4.388661\n",
       "primary_cleaner.input.xanthate      166  2.834699\n",
       "rougher.input.floatbank10_xanthate  123  2.100410\n",
       "rougher.input.feed_sol               67  1.144126"
      ]
     },
     "execution_count": 5,
     "metadata": {},
     "output_type": "execute_result"
    }
   ],
   "source": [
    "nan(test)"
   ]
  },
  {
   "cell_type": "code",
   "execution_count": 6,
   "metadata": {
    "scrolled": false
   },
   "outputs": [
    {
     "data": {
      "text/html": [
       "<div>\n",
       "<style scoped>\n",
       "    .dataframe tbody tr th:only-of-type {\n",
       "        vertical-align: middle;\n",
       "    }\n",
       "\n",
       "    .dataframe tbody tr th {\n",
       "        vertical-align: top;\n",
       "    }\n",
       "\n",
       "    .dataframe thead th {\n",
       "        text-align: right;\n",
       "    }\n",
       "</style>\n",
       "<table border=\"1\" class=\"dataframe\">\n",
       "  <thead>\n",
       "    <tr style=\"text-align: right;\">\n",
       "      <th></th>\n",
       "      <th>0</th>\n",
       "      <th>percent</th>\n",
       "    </tr>\n",
       "  </thead>\n",
       "  <tbody>\n",
       "    <tr>\n",
       "      <td>rougher.output.recovery</td>\n",
       "      <td>2573</td>\n",
       "      <td>15.260973</td>\n",
       "    </tr>\n",
       "    <tr>\n",
       "      <td>rougher.output.tail_ag</td>\n",
       "      <td>2250</td>\n",
       "      <td>13.345196</td>\n",
       "    </tr>\n",
       "    <tr>\n",
       "      <td>rougher.output.tail_au</td>\n",
       "      <td>2249</td>\n",
       "      <td>13.339265</td>\n",
       "    </tr>\n",
       "    <tr>\n",
       "      <td>rougher.output.tail_sol</td>\n",
       "      <td>2249</td>\n",
       "      <td>13.339265</td>\n",
       "    </tr>\n",
       "    <tr>\n",
       "      <td>secondary_cleaner.output.tail_sol</td>\n",
       "      <td>1986</td>\n",
       "      <td>11.779359</td>\n",
       "    </tr>\n",
       "    <tr>\n",
       "      <td>rougher.input.floatbank11_xanthate</td>\n",
       "      <td>1904</td>\n",
       "      <td>11.293001</td>\n",
       "    </tr>\n",
       "    <tr>\n",
       "      <td>final.output.recovery</td>\n",
       "      <td>1521</td>\n",
       "      <td>9.021352</td>\n",
       "    </tr>\n",
       "  </tbody>\n",
       "</table>\n",
       "</div>"
      ],
      "text/plain": [
       "                                       0    percent\n",
       "rougher.output.recovery             2573  15.260973\n",
       "rougher.output.tail_ag              2250  13.345196\n",
       "rougher.output.tail_au              2249  13.339265\n",
       "rougher.output.tail_sol             2249  13.339265\n",
       "secondary_cleaner.output.tail_sol   1986  11.779359\n",
       "rougher.input.floatbank11_xanthate  1904  11.293001\n",
       "final.output.recovery               1521   9.021352"
      ]
     },
     "execution_count": 6,
     "metadata": {},
     "output_type": "execute_result"
    }
   ],
   "source": [
    "nan(train)"
   ]
  },
  {
   "cell_type": "code",
   "execution_count": 7,
   "metadata": {
    "scrolled": false
   },
   "outputs": [
    {
     "data": {
      "text/html": [
       "<div>\n",
       "<style scoped>\n",
       "    .dataframe tbody tr th:only-of-type {\n",
       "        vertical-align: middle;\n",
       "    }\n",
       "\n",
       "    .dataframe tbody tr th {\n",
       "        vertical-align: top;\n",
       "    }\n",
       "\n",
       "    .dataframe thead th {\n",
       "        text-align: right;\n",
       "    }\n",
       "</style>\n",
       "<table border=\"1\" class=\"dataframe\">\n",
       "  <thead>\n",
       "    <tr style=\"text-align: right;\">\n",
       "      <th></th>\n",
       "      <th>0</th>\n",
       "      <th>percent</th>\n",
       "    </tr>\n",
       "  </thead>\n",
       "  <tbody>\n",
       "    <tr>\n",
       "      <td>rougher.output.recovery</td>\n",
       "      <td>3119</td>\n",
       "      <td>13.730410</td>\n",
       "    </tr>\n",
       "    <tr>\n",
       "      <td>rougher.output.tail_ag</td>\n",
       "      <td>2737</td>\n",
       "      <td>12.048776</td>\n",
       "    </tr>\n",
       "    <tr>\n",
       "      <td>rougher.output.tail_au</td>\n",
       "      <td>2736</td>\n",
       "      <td>12.044374</td>\n",
       "    </tr>\n",
       "    <tr>\n",
       "      <td>rougher.output.tail_sol</td>\n",
       "      <td>2736</td>\n",
       "      <td>12.044374</td>\n",
       "    </tr>\n",
       "    <tr>\n",
       "      <td>rougher.input.floatbank11_xanthate</td>\n",
       "      <td>2257</td>\n",
       "      <td>9.935728</td>\n",
       "    </tr>\n",
       "    <tr>\n",
       "      <td>secondary_cleaner.output.tail_sol</td>\n",
       "      <td>2215</td>\n",
       "      <td>9.750836</td>\n",
       "    </tr>\n",
       "    <tr>\n",
       "      <td>final.output.recovery</td>\n",
       "      <td>1963</td>\n",
       "      <td>8.641486</td>\n",
       "    </tr>\n",
       "  </tbody>\n",
       "</table>\n",
       "</div>"
      ],
      "text/plain": [
       "                                       0    percent\n",
       "rougher.output.recovery             3119  13.730410\n",
       "rougher.output.tail_ag              2737  12.048776\n",
       "rougher.output.tail_au              2736  12.044374\n",
       "rougher.output.tail_sol             2736  12.044374\n",
       "rougher.input.floatbank11_xanthate  2257   9.935728\n",
       "secondary_cleaner.output.tail_sol   2215   9.750836\n",
       "final.output.recovery               1963   8.641486"
      ]
     },
     "execution_count": 7,
     "metadata": {},
     "output_type": "execute_result"
    }
   ],
   "source": [
    "nan(full)"
   ]
  },
  {
   "cell_type": "markdown",
   "metadata": {},
   "source": [
    "<font color='blue'><u><b>КОММЕНТАРИЙ РЕВЬЮЕРА</b></u></font><br />\n",
    "<font color='green'>\n",
    "удобный вывод) здорово"
   ]
  },
  {
   "cell_type": "markdown",
   "metadata": {},
   "source": [
    "### 1.2. Проверю, что эффективность обогащения рассчитана правильно. Вычислю её на обучающей выборке для признака rougher.output.recovery. Найду MAE между расчётами и значением признака. "
   ]
  },
  {
   "cell_type": "code",
   "execution_count": 8,
   "metadata": {},
   "outputs": [],
   "source": [
    "def recovery(df):\n",
    "    df = df.dropna().reset_index()\n",
    "    C = df['rougher.output.concentrate_au'].dropna()\n",
    "    F = df['rougher.input.feed_au'].dropna()\n",
    "    T = df['rougher.output.tail_au'].dropna()\n",
    "    recovery_calculated = ((C*(F-T)) / (F*(C-T)))*100\n",
    "    rougher_output_recovery = df['rougher.output.recovery']\n",
    "    MAE = mean_absolute_error(recovery_calculated, rougher_output_recovery)\n",
    "    \n",
    "    return(MAE, recovery_calculated, rougher_output_recovery)"
   ]
  },
  {
   "cell_type": "code",
   "execution_count": 9,
   "metadata": {},
   "outputs": [],
   "source": [
    "MAE_recovery, recovery_calculated, rougher_output_recovery = recovery(train)"
   ]
  },
  {
   "cell_type": "code",
   "execution_count": 10,
   "metadata": {},
   "outputs": [
    {
     "data": {
      "text/plain": [
       "9.555596961987514e-15"
      ]
     },
     "execution_count": 10,
     "metadata": {},
     "output_type": "execute_result"
    }
   ],
   "source": [
    "MAE_recovery"
   ]
  },
  {
   "cell_type": "code",
   "execution_count": 11,
   "metadata": {},
   "outputs": [
    {
     "data": {
      "image/png": "[encoded data removed]",
      "text/plain": [
       "<Figure size 1152x360 with 1 Axes>"
      ]
     },
     "metadata": {
      "needs_background": "light"
     },
     "output_type": "display_data"
    },
    {
     "name": "stdout",
     "output_type": "stream",
     "text": [
      "Реальные значения: 82.7418884610155\n",
      "Рассчетные значения: 82.7418884610155\n"
     ]
    }
   ],
   "source": [
    "plt.figure(figsize=(16,5))\n",
    "sns.boxplot(data=(recovery_calculated, rougher_output_recovery))\n",
    "sns.set(style='white')\n",
    "plt.title('MAE', fontsize=16)\n",
    "plt.ylim(0, 110)\n",
    "plt.xticks(np.arange(2), ('Рассчетные значения','Реальные значения'))\n",
    "plt.show()\n",
    "\n",
    "\n",
    "print('Реальные значения:', rougher_output_recovery .mean())\n",
    "print('Рассчетные значения:', recovery_calculated.mean())"
   ]
  },
  {
   "cell_type": "markdown",
   "metadata": {},
   "source": [
    "### Вывод\n",
    "\n",
    "- Значение MAE меньше 9.55 при среднем в районе 85\n",
    "- Графически полное совпадение\n",
    "- Средние условно равны\n",
    "\n",
    "#### Ошибка в расчете эффективности обогащения менее 10. \n",
    "#### C учетом графических данных, примем исходные данные условно-верными."
   ]
  },
  {
   "cell_type": "markdown",
   "metadata": {},
   "source": [
    "### 1.3. Проанализирую признаки, недоступные в тестовой выборке. Определю что это за параметры и к какому типу относятся."
   ]
  },
  {
   "cell_type": "code",
   "execution_count": 12,
   "metadata": {},
   "outputs": [
    {
     "name": "stdout",
     "output_type": "stream",
     "text": [
      "final.output.concentrate_ag\n",
      "final.output.concentrate_pb\n",
      "final.output.concentrate_sol\n",
      "final.output.concentrate_au\n",
      "final.output.recovery\n",
      "final.output.tail_ag\n",
      "final.output.tail_pb\n",
      "final.output.tail_sol\n",
      "final.output.tail_au\n",
      "primary_cleaner.output.concentrate_ag\n",
      "primary_cleaner.output.concentrate_pb\n",
      "primary_cleaner.output.concentrate_sol\n",
      "primary_cleaner.output.concentrate_au\n",
      "primary_cleaner.output.tail_ag\n",
      "primary_cleaner.output.tail_pb\n",
      "primary_cleaner.output.tail_sol\n",
      "primary_cleaner.output.tail_au\n",
      "rougher.calculation.sulfate_to_au_concentrate\n",
      "rougher.calculation.floatbank10_sulfate_to_au_feed\n",
      "rougher.calculation.floatbank11_sulfate_to_au_feed\n",
      "rougher.calculation.au_pb_ratio\n",
      "rougher.output.concentrate_ag\n",
      "rougher.output.concentrate_pb\n",
      "rougher.output.concentrate_sol\n",
      "rougher.output.concentrate_au\n",
      "rougher.output.recovery\n",
      "rougher.output.tail_ag\n",
      "rougher.output.tail_pb\n",
      "rougher.output.tail_sol\n",
      "rougher.output.tail_au\n",
      "secondary_cleaner.output.tail_ag\n",
      "secondary_cleaner.output.tail_pb\n",
      "secondary_cleaner.output.tail_sol\n",
      "secondary_cleaner.output.tail_au\n"
     ]
    }
   ],
   "source": [
    "count = 0\n",
    "col_full = []\n",
    "for i in train.columns:\n",
    "    if i not in test.columns:\n",
    "        count +=1\n",
    "        col_full.append(i)\n",
    "        print(i)"
   ]
  },
  {
   "cell_type": "code",
   "execution_count": 13,
   "metadata": {},
   "outputs": [
    {
     "name": "stdout",
     "output_type": "stream",
     "text": [
      "Количество отсутствующих параметров - 34\n"
     ]
    }
   ],
   "source": [
    "print('Количество отсутствующих параметров -', count)"
   ]
  },
  {
   "cell_type": "code",
   "execution_count": 14,
   "metadata": {},
   "outputs": [
    {
     "data": {
      "text/plain": [
       "['date',\n",
       " 'primary_cleaner.input.sulfate',\n",
       " 'primary_cleaner.input.depressant',\n",
       " 'primary_cleaner.input.feed_size',\n",
       " 'primary_cleaner.input.xanthate',\n",
       " 'primary_cleaner.state.floatbank8_a_air',\n",
       " 'primary_cleaner.state.floatbank8_a_level',\n",
       " 'primary_cleaner.state.floatbank8_b_air',\n",
       " 'primary_cleaner.state.floatbank8_b_level',\n",
       " 'primary_cleaner.state.floatbank8_c_air',\n",
       " 'primary_cleaner.state.floatbank8_c_level',\n",
       " 'primary_cleaner.state.floatbank8_d_air',\n",
       " 'primary_cleaner.state.floatbank8_d_level',\n",
       " 'rougher.input.feed_ag',\n",
       " 'rougher.input.feed_pb',\n",
       " 'rougher.input.feed_rate',\n",
       " 'rougher.input.feed_size',\n",
       " 'rougher.input.feed_sol',\n",
       " 'rougher.input.feed_au',\n",
       " 'rougher.input.floatbank10_sulfate',\n",
       " 'rougher.input.floatbank10_xanthate',\n",
       " 'rougher.input.floatbank11_sulfate',\n",
       " 'rougher.input.floatbank11_xanthate',\n",
       " 'rougher.state.floatbank10_a_air',\n",
       " 'rougher.state.floatbank10_a_level',\n",
       " 'rougher.state.floatbank10_b_air',\n",
       " 'rougher.state.floatbank10_b_level',\n",
       " 'rougher.state.floatbank10_c_air',\n",
       " 'rougher.state.floatbank10_c_level',\n",
       " 'rougher.state.floatbank10_d_air',\n",
       " 'rougher.state.floatbank10_d_level',\n",
       " 'rougher.state.floatbank10_e_air',\n",
       " 'rougher.state.floatbank10_e_level',\n",
       " 'rougher.state.floatbank10_f_air',\n",
       " 'rougher.state.floatbank10_f_level',\n",
       " 'secondary_cleaner.state.floatbank2_a_air',\n",
       " 'secondary_cleaner.state.floatbank2_a_level',\n",
       " 'secondary_cleaner.state.floatbank2_b_air',\n",
       " 'secondary_cleaner.state.floatbank2_b_level',\n",
       " 'secondary_cleaner.state.floatbank3_a_air',\n",
       " 'secondary_cleaner.state.floatbank3_a_level',\n",
       " 'secondary_cleaner.state.floatbank3_b_air',\n",
       " 'secondary_cleaner.state.floatbank3_b_level',\n",
       " 'secondary_cleaner.state.floatbank4_a_air',\n",
       " 'secondary_cleaner.state.floatbank4_a_level',\n",
       " 'secondary_cleaner.state.floatbank4_b_air',\n",
       " 'secondary_cleaner.state.floatbank4_b_level',\n",
       " 'secondary_cleaner.state.floatbank5_a_air',\n",
       " 'secondary_cleaner.state.floatbank5_a_level',\n",
       " 'secondary_cleaner.state.floatbank5_b_air',\n",
       " 'secondary_cleaner.state.floatbank5_b_level',\n",
       " 'secondary_cleaner.state.floatbank6_a_air',\n",
       " 'secondary_cleaner.state.floatbank6_a_level']"
      ]
     },
     "execution_count": 14,
     "metadata": {},
     "output_type": "execute_result"
    }
   ],
   "source": [
    "test.columns.tolist()"
   ]
  },
  {
   "cell_type": "markdown",
   "metadata": {},
   "source": [
    "### Вывод\n",
    "\n",
    "- Недоступными для тестовой выборки оказалось 34 параметра.\n",
    "- Как видно из наименований столбцов в тестовую выборку вошли только параметры сырья на флотацию и параметры технологического процесса на всех этапах.\n",
    "- В обучающей выборке дополнительно представлены:\n",
    "   - параметры концентрата после очистки;\n",
    "   - рассчетные параметры для флуатационной установки;\n",
    "   - параметры содержания металлов в хвостах.\n"
   ]
  },
  {
   "cell_type": "markdown",
   "metadata": {},
   "source": [
    "### 1.4. Проведу предобработку данных."
   ]
  },
  {
   "cell_type": "code",
   "execution_count": 15,
   "metadata": {},
   "outputs": [],
   "source": [
    "test_precleaned = test\n",
    "test_precleaned['date'] = pd.to_datetime(test_precleaned['date'])\n",
    "test_precleaned.index = test_precleaned['date']"
   ]
  },
  {
   "cell_type": "code",
   "execution_count": 16,
   "metadata": {
    "scrolled": false
   },
   "outputs": [
    {
     "data": {
      "text/html": [
       "<div>\n",
       "<style scoped>\n",
       "    .dataframe tbody tr th:only-of-type {\n",
       "        vertical-align: middle;\n",
       "    }\n",
       "\n",
       "    .dataframe tbody tr th {\n",
       "        vertical-align: top;\n",
       "    }\n",
       "\n",
       "    .dataframe thead th {\n",
       "        text-align: right;\n",
       "    }\n",
       "</style>\n",
       "<table border=\"1\" class=\"dataframe\">\n",
       "  <thead>\n",
       "    <tr style=\"text-align: right;\">\n",
       "      <th></th>\n",
       "      <th>date</th>\n",
       "      <th>primary_cleaner.input.sulfate</th>\n",
       "      <th>primary_cleaner.input.depressant</th>\n",
       "      <th>primary_cleaner.input.feed_size</th>\n",
       "      <th>primary_cleaner.input.xanthate</th>\n",
       "      <th>primary_cleaner.state.floatbank8_a_air</th>\n",
       "      <th>primary_cleaner.state.floatbank8_a_level</th>\n",
       "      <th>primary_cleaner.state.floatbank8_b_air</th>\n",
       "      <th>primary_cleaner.state.floatbank8_b_level</th>\n",
       "      <th>primary_cleaner.state.floatbank8_c_air</th>\n",
       "      <th>...</th>\n",
       "      <th>secondary_cleaner.state.floatbank4_a_air</th>\n",
       "      <th>secondary_cleaner.state.floatbank4_a_level</th>\n",
       "      <th>secondary_cleaner.state.floatbank4_b_air</th>\n",
       "      <th>secondary_cleaner.state.floatbank4_b_level</th>\n",
       "      <th>secondary_cleaner.state.floatbank5_a_air</th>\n",
       "      <th>secondary_cleaner.state.floatbank5_a_level</th>\n",
       "      <th>secondary_cleaner.state.floatbank5_b_air</th>\n",
       "      <th>secondary_cleaner.state.floatbank5_b_level</th>\n",
       "      <th>secondary_cleaner.state.floatbank6_a_air</th>\n",
       "      <th>secondary_cleaner.state.floatbank6_a_level</th>\n",
       "    </tr>\n",
       "    <tr>\n",
       "      <th>date</th>\n",
       "      <th></th>\n",
       "      <th></th>\n",
       "      <th></th>\n",
       "      <th></th>\n",
       "      <th></th>\n",
       "      <th></th>\n",
       "      <th></th>\n",
       "      <th></th>\n",
       "      <th></th>\n",
       "      <th></th>\n",
       "      <th></th>\n",
       "      <th></th>\n",
       "      <th></th>\n",
       "      <th></th>\n",
       "      <th></th>\n",
       "      <th></th>\n",
       "      <th></th>\n",
       "      <th></th>\n",
       "      <th></th>\n",
       "      <th></th>\n",
       "      <th></th>\n",
       "    </tr>\n",
       "  </thead>\n",
       "  <tbody>\n",
       "    <tr>\n",
       "      <td>2016-09-01 09:59:59</td>\n",
       "      <td>2016-09-01 09:59:59</td>\n",
       "      <td>126.961069</td>\n",
       "      <td>8.017856</td>\n",
       "      <td>7.03</td>\n",
       "      <td>0.805298</td>\n",
       "      <td>1400.816120</td>\n",
       "      <td>-499.014158</td>\n",
       "      <td>1399.975401</td>\n",
       "      <td>-499.570552</td>\n",
       "      <td>1401.871924</td>\n",
       "      <td>...</td>\n",
       "      <td>12.040725</td>\n",
       "      <td>-499.987743</td>\n",
       "      <td>7.989503</td>\n",
       "      <td>-499.750625</td>\n",
       "      <td>7.989710</td>\n",
       "      <td>-509.946737</td>\n",
       "      <td>5.068811</td>\n",
       "      <td>-499.293900</td>\n",
       "      <td>24.992741</td>\n",
       "      <td>-499.272255</td>\n",
       "    </tr>\n",
       "    <tr>\n",
       "      <td>2016-09-02 06:59:59</td>\n",
       "      <td>2016-09-02 06:59:59</td>\n",
       "      <td>NaN</td>\n",
       "      <td>NaN</td>\n",
       "      <td>7.16</td>\n",
       "      <td>NaN</td>\n",
       "      <td>412.629243</td>\n",
       "      <td>-795.316337</td>\n",
       "      <td>413.703253</td>\n",
       "      <td>-787.396567</td>\n",
       "      <td>441.604260</td>\n",
       "      <td>...</td>\n",
       "      <td>6.576244</td>\n",
       "      <td>-616.550019</td>\n",
       "      <td>4.625908</td>\n",
       "      <td>-678.347958</td>\n",
       "      <td>4.451592</td>\n",
       "      <td>-795.337422</td>\n",
       "      <td>3.544708</td>\n",
       "      <td>-800.024373</td>\n",
       "      <td>5.914889</td>\n",
       "      <td>-799.501783</td>\n",
       "    </tr>\n",
       "    <tr>\n",
       "      <td>2016-09-02 07:59:59</td>\n",
       "      <td>2016-09-02 07:59:59</td>\n",
       "      <td>5.039223</td>\n",
       "      <td>NaN</td>\n",
       "      <td>7.16</td>\n",
       "      <td>NaN</td>\n",
       "      <td>1436.850397</td>\n",
       "      <td>-542.923353</td>\n",
       "      <td>1549.140548</td>\n",
       "      <td>-528.601849</td>\n",
       "      <td>1548.664773</td>\n",
       "      <td>...</td>\n",
       "      <td>11.935144</td>\n",
       "      <td>-496.491878</td>\n",
       "      <td>7.967571</td>\n",
       "      <td>-527.714564</td>\n",
       "      <td>8.191769</td>\n",
       "      <td>-517.004063</td>\n",
       "      <td>4.906812</td>\n",
       "      <td>-531.125899</td>\n",
       "      <td>10.002271</td>\n",
       "      <td>-527.901468</td>\n",
       "    </tr>\n",
       "    <tr>\n",
       "      <td>2016-09-02 08:59:59</td>\n",
       "      <td>2016-09-02 08:59:59</td>\n",
       "      <td>0.857926</td>\n",
       "      <td>NaN</td>\n",
       "      <td>7.16</td>\n",
       "      <td>NaN</td>\n",
       "      <td>1435.627557</td>\n",
       "      <td>-499.752988</td>\n",
       "      <td>1550.871908</td>\n",
       "      <td>-500.348180</td>\n",
       "      <td>1513.760138</td>\n",
       "      <td>...</td>\n",
       "      <td>11.921123</td>\n",
       "      <td>-500.796461</td>\n",
       "      <td>7.988670</td>\n",
       "      <td>-501.212454</td>\n",
       "      <td>8.067387</td>\n",
       "      <td>-501.622580</td>\n",
       "      <td>5.067141</td>\n",
       "      <td>-499.295523</td>\n",
       "      <td>9.989370</td>\n",
       "      <td>-500.350093</td>\n",
       "    </tr>\n",
       "    <tr>\n",
       "      <td>2016-09-02 09:59:59</td>\n",
       "      <td>2016-09-02 09:59:59</td>\n",
       "      <td>24.616337</td>\n",
       "      <td>0.600245</td>\n",
       "      <td>7.16</td>\n",
       "      <td>0.196905</td>\n",
       "      <td>1437.685689</td>\n",
       "      <td>-498.718550</td>\n",
       "      <td>1549.223455</td>\n",
       "      <td>-498.417613</td>\n",
       "      <td>1510.244855</td>\n",
       "      <td>...</td>\n",
       "      <td>12.002664</td>\n",
       "      <td>-499.113047</td>\n",
       "      <td>8.061677</td>\n",
       "      <td>-495.442389</td>\n",
       "      <td>8.079009</td>\n",
       "      <td>-495.166033</td>\n",
       "      <td>5.171338</td>\n",
       "      <td>-479.361256</td>\n",
       "      <td>10.056638</td>\n",
       "      <td>-498.991980</td>\n",
       "    </tr>\n",
       "  </tbody>\n",
       "</table>\n",
       "<p>5 rows × 53 columns</p>\n",
       "</div>"
      ],
      "text/plain": [
       "                                   date  primary_cleaner.input.sulfate  \\\n",
       "date                                                                     \n",
       "2016-09-01 09:59:59 2016-09-01 09:59:59                     126.961069   \n",
       "2016-09-02 06:59:59 2016-09-02 06:59:59                            NaN   \n",
       "2016-09-02 07:59:59 2016-09-02 07:59:59                       5.039223   \n",
       "2016-09-02 08:59:59 2016-09-02 08:59:59                       0.857926   \n",
       "2016-09-02 09:59:59 2016-09-02 09:59:59                      24.616337   \n",
       "\n",
       "                     primary_cleaner.input.depressant  \\\n",
       "date                                                    \n",
       "2016-09-01 09:59:59                          8.017856   \n",
       "2016-09-02 06:59:59                               NaN   \n",
       "2016-09-02 07:59:59                               NaN   \n",
       "2016-09-02 08:59:59                               NaN   \n",
       "2016-09-02 09:59:59                          0.600245   \n",
       "\n",
       "                     primary_cleaner.input.feed_size  \\\n",
       "date                                                   \n",
       "2016-09-01 09:59:59                             7.03   \n",
       "2016-09-02 06:59:59                             7.16   \n",
       "2016-09-02 07:59:59                             7.16   \n",
       "2016-09-02 08:59:59                             7.16   \n",
       "2016-09-02 09:59:59                             7.16   \n",
       "\n",
       "                     primary_cleaner.input.xanthate  \\\n",
       "date                                                  \n",
       "2016-09-01 09:59:59                        0.805298   \n",
       "2016-09-02 06:59:59                             NaN   \n",
       "2016-09-02 07:59:59                             NaN   \n",
       "2016-09-02 08:59:59                             NaN   \n",
       "2016-09-02 09:59:59                        0.196905   \n",
       "\n",
       "                     primary_cleaner.state.floatbank8_a_air  \\\n",
       "date                                                          \n",
       "2016-09-01 09:59:59                             1400.816120   \n",
       "2016-09-02 06:59:59                              412.629243   \n",
       "2016-09-02 07:59:59                             1436.850397   \n",
       "2016-09-02 08:59:59                             1435.627557   \n",
       "2016-09-02 09:59:59                             1437.685689   \n",
       "\n",
       "                     primary_cleaner.state.floatbank8_a_level  \\\n",
       "date                                                            \n",
       "2016-09-01 09:59:59                               -499.014158   \n",
       "2016-09-02 06:59:59                               -795.316337   \n",
       "2016-09-02 07:59:59                               -542.923353   \n",
       "2016-09-02 08:59:59                               -499.752988   \n",
       "2016-09-02 09:59:59                               -498.718550   \n",
       "\n",
       "                     primary_cleaner.state.floatbank8_b_air  \\\n",
       "date                                                          \n",
       "2016-09-01 09:59:59                             1399.975401   \n",
       "2016-09-02 06:59:59                              413.703253   \n",
       "2016-09-02 07:59:59                             1549.140548   \n",
       "2016-09-02 08:59:59                             1550.871908   \n",
       "2016-09-02 09:59:59                             1549.223455   \n",
       "\n",
       "                     primary_cleaner.state.floatbank8_b_level  \\\n",
       "date                                                            \n",
       "2016-09-01 09:59:59                               -499.570552   \n",
       "2016-09-02 06:59:59                               -787.396567   \n",
       "2016-09-02 07:59:59                               -528.601849   \n",
       "2016-09-02 08:59:59                               -500.348180   \n",
       "2016-09-02 09:59:59                               -498.417613   \n",
       "\n",
       "                     primary_cleaner.state.floatbank8_c_air  ...  \\\n",
       "date                                                         ...   \n",
       "2016-09-01 09:59:59                             1401.871924  ...   \n",
       "2016-09-02 06:59:59                              441.604260  ...   \n",
       "2016-09-02 07:59:59                             1548.664773  ...   \n",
       "2016-09-02 08:59:59                             1513.760138  ...   \n",
       "2016-09-02 09:59:59                             1510.244855  ...   \n",
       "\n",
       "                     secondary_cleaner.state.floatbank4_a_air  \\\n",
       "date                                                            \n",
       "2016-09-01 09:59:59                                 12.040725   \n",
       "2016-09-02 06:59:59                                  6.576244   \n",
       "2016-09-02 07:59:59                                 11.935144   \n",
       "2016-09-02 08:59:59                                 11.921123   \n",
       "2016-09-02 09:59:59                                 12.002664   \n",
       "\n",
       "                     secondary_cleaner.state.floatbank4_a_level  \\\n",
       "date                                                              \n",
       "2016-09-01 09:59:59                                 -499.987743   \n",
       "2016-09-02 06:59:59                                 -616.550019   \n",
       "2016-09-02 07:59:59                                 -496.491878   \n",
       "2016-09-02 08:59:59                                 -500.796461   \n",
       "2016-09-02 09:59:59                                 -499.113047   \n",
       "\n",
       "                     secondary_cleaner.state.floatbank4_b_air  \\\n",
       "date                                                            \n",
       "2016-09-01 09:59:59                                  7.989503   \n",
       "2016-09-02 06:59:59                                  4.625908   \n",
       "2016-09-02 07:59:59                                  7.967571   \n",
       "2016-09-02 08:59:59                                  7.988670   \n",
       "2016-09-02 09:59:59                                  8.061677   \n",
       "\n",
       "                     secondary_cleaner.state.floatbank4_b_level  \\\n",
       "date                                                              \n",
       "2016-09-01 09:59:59                                 -499.750625   \n",
       "2016-09-02 06:59:59                                 -678.347958   \n",
       "2016-09-02 07:59:59                                 -527.714564   \n",
       "2016-09-02 08:59:59                                 -501.212454   \n",
       "2016-09-02 09:59:59                                 -495.442389   \n",
       "\n",
       "                     secondary_cleaner.state.floatbank5_a_air  \\\n",
       "date                                                            \n",
       "2016-09-01 09:59:59                                  7.989710   \n",
       "2016-09-02 06:59:59                                  4.451592   \n",
       "2016-09-02 07:59:59                                  8.191769   \n",
       "2016-09-02 08:59:59                                  8.067387   \n",
       "2016-09-02 09:59:59                                  8.079009   \n",
       "\n",
       "                     secondary_cleaner.state.floatbank5_a_level  \\\n",
       "date                                                              \n",
       "2016-09-01 09:59:59                                 -509.946737   \n",
       "2016-09-02 06:59:59                                 -795.337422   \n",
       "2016-09-02 07:59:59                                 -517.004063   \n",
       "2016-09-02 08:59:59                                 -501.622580   \n",
       "2016-09-02 09:59:59                                 -495.166033   \n",
       "\n",
       "                     secondary_cleaner.state.floatbank5_b_air  \\\n",
       "date                                                            \n",
       "2016-09-01 09:59:59                                  5.068811   \n",
       "2016-09-02 06:59:59                                  3.544708   \n",
       "2016-09-02 07:59:59                                  4.906812   \n",
       "2016-09-02 08:59:59                                  5.067141   \n",
       "2016-09-02 09:59:59                                  5.171338   \n",
       "\n",
       "                     secondary_cleaner.state.floatbank5_b_level  \\\n",
       "date                                                              \n",
       "2016-09-01 09:59:59                                 -499.293900   \n",
       "2016-09-02 06:59:59                                 -800.024373   \n",
       "2016-09-02 07:59:59                                 -531.125899   \n",
       "2016-09-02 08:59:59                                 -499.295523   \n",
       "2016-09-02 09:59:59                                 -479.361256   \n",
       "\n",
       "                     secondary_cleaner.state.floatbank6_a_air  \\\n",
       "date                                                            \n",
       "2016-09-01 09:59:59                                 24.992741   \n",
       "2016-09-02 06:59:59                                  5.914889   \n",
       "2016-09-02 07:59:59                                 10.002271   \n",
       "2016-09-02 08:59:59                                  9.989370   \n",
       "2016-09-02 09:59:59                                 10.056638   \n",
       "\n",
       "                     secondary_cleaner.state.floatbank6_a_level  \n",
       "date                                                             \n",
       "2016-09-01 09:59:59                                 -499.272255  \n",
       "2016-09-02 06:59:59                                 -799.501783  \n",
       "2016-09-02 07:59:59                                 -527.901468  \n",
       "2016-09-02 08:59:59                                 -500.350093  \n",
       "2016-09-02 09:59:59                                 -498.991980  \n",
       "\n",
       "[5 rows x 53 columns]"
      ]
     },
     "execution_count": 16,
     "metadata": {},
     "output_type": "execute_result"
    }
   ],
   "source": [
    "test_precleaned.between_time('06:59:59', '09:59:59')[3:8]"
   ]
  },
  {
   "cell_type": "code",
   "execution_count": 17,
   "metadata": {},
   "outputs": [],
   "source": [
    "test = test.reset_index(drop = True)\n",
    "test = test.reset_index(drop = True)"
   ]
  },
  {
   "cell_type": "markdown",
   "metadata": {},
   "source": [
    "### Промежуточный Вывод\n",
    "\n",
    "- В технологическом цикле существуют отрезки времени, когда объем подачи материала фиксирован, \n",
    "а значения подачи химии либо отсутствуют, либо нехарактерно низкие. Вероятно это ППР, очистка или конвейерный перерыв.\n",
    "- При этом подача сульфатов может сохраняться в низких значениях, в то время как информация по остальным реагентам отсутствует.\n",
    "\n",
    "#### Вероятно пропуски соответствуют нулевым значениям подачи.\n",
    "\n",
    "#### Проверю теорию, убрав низкие значения сульфатов:"
   ]
  },
  {
   "cell_type": "markdown",
   "metadata": {},
   "source": [
    "### Тестовая выборка"
   ]
  },
  {
   "cell_type": "code",
   "execution_count": 18,
   "metadata": {
    "scrolled": false
   },
   "outputs": [
    {
     "data": {
      "image/png": "[encoded data removed]",
      "text/plain": [
       "<Figure size 1152x360 with 1 Axes>"
      ]
     },
     "metadata": {},
     "output_type": "display_data"
    },
    {
     "name": "stdout",
     "output_type": "stream",
     "text": [
      "count    5554.000000\n",
      "mean      170.515243\n",
      "std        49.608602\n",
      "min         0.000103\n",
      "25%       143.340022\n",
      "50%       176.103893\n",
      "75%       207.240761\n",
      "max       274.409626\n",
      "Name: primary_cleaner.input.sulfate, dtype: float64\n"
     ]
    }
   ],
   "source": [
    "k = test['primary_cleaner.input.sulfate'].dropna()\n",
    "plt.figure(figsize=(16,5))\n",
    "sns.distplot(k)\n",
    "sns.set(style='white')\n",
    "plt.title('Минимальные значения сульфатов на переходных режимах', fontsize=16)\n",
    "plt.show()\n",
    "print(k.describe())"
   ]
  },
  {
   "cell_type": "code",
   "execution_count": 19,
   "metadata": {},
   "outputs": [
    {
     "data": {
      "text/html": [
       "<div>\n",
       "<style scoped>\n",
       "    .dataframe tbody tr th:only-of-type {\n",
       "        vertical-align: middle;\n",
       "    }\n",
       "\n",
       "    .dataframe tbody tr th {\n",
       "        vertical-align: top;\n",
       "    }\n",
       "\n",
       "    .dataframe thead th {\n",
       "        text-align: right;\n",
       "    }\n",
       "</style>\n",
       "<table border=\"1\" class=\"dataframe\">\n",
       "  <thead>\n",
       "    <tr style=\"text-align: right;\">\n",
       "      <th></th>\n",
       "      <th>0</th>\n",
       "      <th>percent</th>\n",
       "    </tr>\n",
       "  </thead>\n",
       "  <tbody>\n",
       "    <tr>\n",
       "      <td>rougher.input.feed_sol</td>\n",
       "      <td>10</td>\n",
       "      <td>0.190658</td>\n",
       "    </tr>\n",
       "    <tr>\n",
       "      <td>secondary_cleaner.state.floatbank3_a_air</td>\n",
       "      <td>6</td>\n",
       "      <td>0.114395</td>\n",
       "    </tr>\n",
       "    <tr>\n",
       "      <td>secondary_cleaner.state.floatbank2_a_air</td>\n",
       "      <td>3</td>\n",
       "      <td>0.057197</td>\n",
       "    </tr>\n",
       "    <tr>\n",
       "      <td>primary_cleaner.input.depressant</td>\n",
       "      <td>2</td>\n",
       "      <td>0.038132</td>\n",
       "    </tr>\n",
       "    <tr>\n",
       "      <td>rougher.input.feed_rate</td>\n",
       "      <td>1</td>\n",
       "      <td>0.019066</td>\n",
       "    </tr>\n",
       "    <tr>\n",
       "      <td>rougher.input.floatbank10_sulfate</td>\n",
       "      <td>1</td>\n",
       "      <td>0.019066</td>\n",
       "    </tr>\n",
       "    <tr>\n",
       "      <td>rougher.input.floatbank11_xanthate</td>\n",
       "      <td>1</td>\n",
       "      <td>0.019066</td>\n",
       "    </tr>\n",
       "  </tbody>\n",
       "</table>\n",
       "</div>"
      ],
      "text/plain": [
       "                                           0   percent\n",
       "rougher.input.feed_sol                    10  0.190658\n",
       "secondary_cleaner.state.floatbank3_a_air   6  0.114395\n",
       "secondary_cleaner.state.floatbank2_a_air   3  0.057197\n",
       "primary_cleaner.input.depressant           2  0.038132\n",
       "rougher.input.feed_rate                    1  0.019066\n",
       "rougher.input.floatbank10_sulfate          1  0.019066\n",
       "rougher.input.floatbank11_xanthate         1  0.019066"
      ]
     },
     "execution_count": 19,
     "metadata": {},
     "output_type": "execute_result"
    }
   ],
   "source": [
    "test_precleaned = test[test['primary_cleaner.input.sulfate'] > 90]\n",
    "nan (test_precleaned)"
   ]
  },
  {
   "cell_type": "markdown",
   "metadata": {},
   "source": [
    "### Теория о нулевых значениях похоже верна,  дропну пропуски и нулевые  значения через нулевые значения recovery, coберу тестовую выборку."
   ]
  },
  {
   "cell_type": "code",
   "execution_count": 20,
   "metadata": {
    "scrolled": true
   },
   "outputs": [],
   "source": [
    "full['date'] = pd.to_datetime(full['date'])\n",
    "full_recovery = full[['date','rougher.output.recovery', 'final.output.recovery']]"
   ]
  },
  {
   "cell_type": "code",
   "execution_count": 21,
   "metadata": {
    "scrolled": false
   },
   "outputs": [
    {
     "data": {
      "text/html": [
       "<div>\n",
       "<style scoped>\n",
       "    .dataframe tbody tr th:only-of-type {\n",
       "        vertical-align: middle;\n",
       "    }\n",
       "\n",
       "    .dataframe tbody tr th {\n",
       "        vertical-align: top;\n",
       "    }\n",
       "\n",
       "    .dataframe thead th {\n",
       "        text-align: right;\n",
       "    }\n",
       "</style>\n",
       "<table border=\"1\" class=\"dataframe\">\n",
       "  <thead>\n",
       "    <tr style=\"text-align: right;\">\n",
       "      <th></th>\n",
       "      <th>0</th>\n",
       "      <th>percent</th>\n",
       "    </tr>\n",
       "  </thead>\n",
       "  <tbody>\n",
       "    <tr>\n",
       "      <td>rougher.output.recovery</td>\n",
       "      <td>546</td>\n",
       "      <td>9.323770</td>\n",
       "    </tr>\n",
       "    <tr>\n",
       "      <td>final.output.recovery</td>\n",
       "      <td>442</td>\n",
       "      <td>7.547814</td>\n",
       "    </tr>\n",
       "    <tr>\n",
       "      <td>rougher.input.floatbank11_xanthate</td>\n",
       "      <td>353</td>\n",
       "      <td>6.028005</td>\n",
       "    </tr>\n",
       "    <tr>\n",
       "      <td>primary_cleaner.input.sulfate</td>\n",
       "      <td>302</td>\n",
       "      <td>5.157104</td>\n",
       "    </tr>\n",
       "    <tr>\n",
       "      <td>primary_cleaner.input.depressant</td>\n",
       "      <td>284</td>\n",
       "      <td>4.849727</td>\n",
       "    </tr>\n",
       "    <tr>\n",
       "      <td>rougher.input.floatbank10_sulfate</td>\n",
       "      <td>257</td>\n",
       "      <td>4.388661</td>\n",
       "    </tr>\n",
       "    <tr>\n",
       "      <td>primary_cleaner.input.xanthate</td>\n",
       "      <td>166</td>\n",
       "      <td>2.834699</td>\n",
       "    </tr>\n",
       "  </tbody>\n",
       "</table>\n",
       "</div>"
      ],
      "text/plain": [
       "                                      0   percent\n",
       "rougher.output.recovery             546  9.323770\n",
       "final.output.recovery               442  7.547814\n",
       "rougher.input.floatbank11_xanthate  353  6.028005\n",
       "primary_cleaner.input.sulfate       302  5.157104\n",
       "primary_cleaner.input.depressant    284  4.849727\n",
       "rougher.input.floatbank10_sulfate   257  4.388661\n",
       "primary_cleaner.input.xanthate      166  2.834699"
      ]
     },
     "execution_count": 21,
     "metadata": {},
     "output_type": "execute_result"
    }
   ],
   "source": [
    "test_cleaned = test.merge(full_recovery, on='date', how='left')\n",
    "#test_cleaned = test_cleaned[test_cleaned['primary_cleaner.input.sulfate'] > 0]\n",
    "nan(test_cleaned)"
   ]
  },
  {
   "cell_type": "code",
   "execution_count": 22,
   "metadata": {},
   "outputs": [
    {
     "data": {
      "text/html": [
       "<div>\n",
       "<style scoped>\n",
       "    .dataframe tbody tr th:only-of-type {\n",
       "        vertical-align: middle;\n",
       "    }\n",
       "\n",
       "    .dataframe tbody tr th {\n",
       "        vertical-align: top;\n",
       "    }\n",
       "\n",
       "    .dataframe thead th {\n",
       "        text-align: right;\n",
       "    }\n",
       "</style>\n",
       "<table border=\"1\" class=\"dataframe\">\n",
       "  <thead>\n",
       "    <tr style=\"text-align: right;\">\n",
       "      <th></th>\n",
       "      <th>0</th>\n",
       "      <th>percent</th>\n",
       "    </tr>\n",
       "  </thead>\n",
       "  <tbody>\n",
       "    <tr>\n",
       "      <td>rougher.input.floatbank11_xanthate</td>\n",
       "      <td>25</td>\n",
       "      <td>0.472590</td>\n",
       "    </tr>\n",
       "    <tr>\n",
       "      <td>rougher.input.feed_sol</td>\n",
       "      <td>21</td>\n",
       "      <td>0.396975</td>\n",
       "    </tr>\n",
       "    <tr>\n",
       "      <td>secondary_cleaner.state.floatbank3_a_air</td>\n",
       "      <td>9</td>\n",
       "      <td>0.170132</td>\n",
       "    </tr>\n",
       "    <tr>\n",
       "      <td>rougher.input.floatbank11_sulfate</td>\n",
       "      <td>8</td>\n",
       "      <td>0.151229</td>\n",
       "    </tr>\n",
       "    <tr>\n",
       "      <td>primary_cleaner.input.depressant</td>\n",
       "      <td>5</td>\n",
       "      <td>0.094518</td>\n",
       "    </tr>\n",
       "    <tr>\n",
       "      <td>rougher.input.floatbank10_sulfate</td>\n",
       "      <td>5</td>\n",
       "      <td>0.094518</td>\n",
       "    </tr>\n",
       "    <tr>\n",
       "      <td>primary_cleaner.input.sulfate</td>\n",
       "      <td>4</td>\n",
       "      <td>0.075614</td>\n",
       "    </tr>\n",
       "  </tbody>\n",
       "</table>\n",
       "</div>"
      ],
      "text/plain": [
       "                                           0   percent\n",
       "rougher.input.floatbank11_xanthate        25  0.472590\n",
       "rougher.input.feed_sol                    21  0.396975\n",
       "secondary_cleaner.state.floatbank3_a_air   9  0.170132\n",
       "rougher.input.floatbank11_sulfate          8  0.151229\n",
       "primary_cleaner.input.depressant           5  0.094518\n",
       "rougher.input.floatbank10_sulfate          5  0.094518\n",
       "primary_cleaner.input.sulfate              4  0.075614"
      ]
     },
     "execution_count": 22,
     "metadata": {},
     "output_type": "execute_result"
    }
   ],
   "source": [
    "test_cleaned = test_cleaned.dropna(subset=['rougher.output.recovery', 'final.output.recovery'])\n",
    "nan(test_cleaned)"
   ]
  },
  {
   "cell_type": "code",
   "execution_count": 23,
   "metadata": {},
   "outputs": [],
   "source": [
    "test_cleaned = test_cleaned.dropna().reset_index(drop=True)\n",
    "test_cleaned = test_cleaned[(test_cleaned['rougher.output.recovery'] != 0) &\n",
    "                            (test_cleaned['final.output.recovery'] != 0)]"
   ]
  },
  {
   "cell_type": "code",
   "execution_count": 24,
   "metadata": {
    "scrolled": false
   },
   "outputs": [
    {
     "data": {
      "text/html": [
       "<div>\n",
       "<style scoped>\n",
       "    .dataframe tbody tr th:only-of-type {\n",
       "        vertical-align: middle;\n",
       "    }\n",
       "\n",
       "    .dataframe tbody tr th {\n",
       "        vertical-align: top;\n",
       "    }\n",
       "\n",
       "    .dataframe thead th {\n",
       "        text-align: right;\n",
       "    }\n",
       "</style>\n",
       "<table border=\"1\" class=\"dataframe\">\n",
       "  <thead>\n",
       "    <tr style=\"text-align: right;\">\n",
       "      <th></th>\n",
       "      <th>primary_cleaner.input.sulfate</th>\n",
       "      <th>primary_cleaner.input.depressant</th>\n",
       "      <th>primary_cleaner.input.feed_size</th>\n",
       "      <th>primary_cleaner.input.xanthate</th>\n",
       "      <th>primary_cleaner.state.floatbank8_a_air</th>\n",
       "      <th>primary_cleaner.state.floatbank8_a_level</th>\n",
       "      <th>primary_cleaner.state.floatbank8_b_air</th>\n",
       "      <th>primary_cleaner.state.floatbank8_b_level</th>\n",
       "      <th>primary_cleaner.state.floatbank8_c_air</th>\n",
       "      <th>primary_cleaner.state.floatbank8_c_level</th>\n",
       "      <th>...</th>\n",
       "      <th>secondary_cleaner.state.floatbank4_b_air</th>\n",
       "      <th>secondary_cleaner.state.floatbank4_b_level</th>\n",
       "      <th>secondary_cleaner.state.floatbank5_a_air</th>\n",
       "      <th>secondary_cleaner.state.floatbank5_a_level</th>\n",
       "      <th>secondary_cleaner.state.floatbank5_b_air</th>\n",
       "      <th>secondary_cleaner.state.floatbank5_b_level</th>\n",
       "      <th>secondary_cleaner.state.floatbank6_a_air</th>\n",
       "      <th>secondary_cleaner.state.floatbank6_a_level</th>\n",
       "      <th>rougher.output.recovery</th>\n",
       "      <th>final.output.recovery</th>\n",
       "    </tr>\n",
       "  </thead>\n",
       "  <tbody>\n",
       "    <tr>\n",
       "      <td>count</td>\n",
       "      <td>5105.000000</td>\n",
       "      <td>5105.000000</td>\n",
       "      <td>5105.000000</td>\n",
       "      <td>5105.000000</td>\n",
       "      <td>5105.000000</td>\n",
       "      <td>5105.000000</td>\n",
       "      <td>5105.000000</td>\n",
       "      <td>5105.000000</td>\n",
       "      <td>5105.000000</td>\n",
       "      <td>5105.000000</td>\n",
       "      <td>...</td>\n",
       "      <td>5.105000e+03</td>\n",
       "      <td>5105.000000</td>\n",
       "      <td>5105.000000</td>\n",
       "      <td>5105.000000</td>\n",
       "      <td>5105.000000</td>\n",
       "      <td>5105.000000</td>\n",
       "      <td>5105.000000</td>\n",
       "      <td>5105.000000</td>\n",
       "      <td>5105.000000</td>\n",
       "      <td>5105.000000</td>\n",
       "    </tr>\n",
       "    <tr>\n",
       "      <td>mean</td>\n",
       "      <td>176.436985</td>\n",
       "      <td>8.692184</td>\n",
       "      <td>7.266733</td>\n",
       "      <td>1.397742</td>\n",
       "      <td>1543.061702</td>\n",
       "      <td>-497.751664</td>\n",
       "      <td>1549.232616</td>\n",
       "      <td>-499.775558</td>\n",
       "      <td>1532.319704</td>\n",
       "      <td>-498.402197</td>\n",
       "      <td>...</td>\n",
       "      <td>1.382773e+01</td>\n",
       "      <td>-463.526653</td>\n",
       "      <td>12.901717</td>\n",
       "      <td>-500.711541</td>\n",
       "      <td>9.989147</td>\n",
       "      <td>-495.184784</td>\n",
       "      <td>17.420905</td>\n",
       "      <td>-501.180209</td>\n",
       "      <td>86.772032</td>\n",
       "      <td>69.161680</td>\n",
       "    </tr>\n",
       "    <tr>\n",
       "      <td>std</td>\n",
       "      <td>41.480857</td>\n",
       "      <td>3.017628</td>\n",
       "      <td>0.602686</td>\n",
       "      <td>0.635319</td>\n",
       "      <td>108.322102</td>\n",
       "      <td>18.216067</td>\n",
       "      <td>115.089399</td>\n",
       "      <td>29.319501</td>\n",
       "      <td>114.921977</td>\n",
       "      <td>20.330350</td>\n",
       "      <td>...</td>\n",
       "      <td>3.319874e+00</td>\n",
       "      <td>82.320796</td>\n",
       "      <td>2.992253</td>\n",
       "      <td>14.948015</td>\n",
       "      <td>2.806506</td>\n",
       "      <td>33.062771</td>\n",
       "      <td>4.505128</td>\n",
       "      <td>37.892051</td>\n",
       "      <td>5.494631</td>\n",
       "      <td>7.207293</td>\n",
       "    </tr>\n",
       "    <tr>\n",
       "      <td>min</td>\n",
       "      <td>17.886900</td>\n",
       "      <td>0.113356</td>\n",
       "      <td>5.650000</td>\n",
       "      <td>0.026293</td>\n",
       "      <td>1011.533202</td>\n",
       "      <td>-783.448551</td>\n",
       "      <td>1012.933963</td>\n",
       "      <td>-799.754942</td>\n",
       "      <td>212.035417</td>\n",
       "      <td>-786.260257</td>\n",
       "      <td>...</td>\n",
       "      <td>2.489718e-17</td>\n",
       "      <td>-799.868171</td>\n",
       "      <td>6.032592</td>\n",
       "      <td>-729.475816</td>\n",
       "      <td>2.781642</td>\n",
       "      <td>-614.076055</td>\n",
       "      <td>0.127304</td>\n",
       "      <td>-809.741464</td>\n",
       "      <td>10.430587</td>\n",
       "      <td>2.030917</td>\n",
       "    </tr>\n",
       "    <tr>\n",
       "      <td>25%</td>\n",
       "      <td>148.685271</td>\n",
       "      <td>6.491017</td>\n",
       "      <td>6.900000</td>\n",
       "      <td>0.932579</td>\n",
       "      <td>1499.312387</td>\n",
       "      <td>-500.352456</td>\n",
       "      <td>1499.282228</td>\n",
       "      <td>-500.698424</td>\n",
       "      <td>1484.683655</td>\n",
       "      <td>-501.016906</td>\n",
       "      <td>...</td>\n",
       "      <td>1.208219e+01</td>\n",
       "      <td>-500.304036</td>\n",
       "      <td>10.926903</td>\n",
       "      <td>-500.700592</td>\n",
       "      <td>8.069700</td>\n",
       "      <td>-500.191063</td>\n",
       "      <td>14.003135</td>\n",
       "      <td>-500.680453</td>\n",
       "      <td>84.837902</td>\n",
       "      <td>65.866591</td>\n",
       "    </tr>\n",
       "    <tr>\n",
       "      <td>50%</td>\n",
       "      <td>179.139848</td>\n",
       "      <td>8.050866</td>\n",
       "      <td>7.250000</td>\n",
       "      <td>1.200587</td>\n",
       "      <td>1591.469085</td>\n",
       "      <td>-499.971252</td>\n",
       "      <td>1596.465857</td>\n",
       "      <td>-500.028555</td>\n",
       "      <td>1550.223632</td>\n",
       "      <td>-500.022076</td>\n",
       "      <td>...</td>\n",
       "      <td>1.496892e+01</td>\n",
       "      <td>-499.572304</td>\n",
       "      <td>12.973464</td>\n",
       "      <td>-499.983203</td>\n",
       "      <td>10.014514</td>\n",
       "      <td>-499.989429</td>\n",
       "      <td>16.019971</td>\n",
       "      <td>-500.001374</td>\n",
       "      <td>87.501382</td>\n",
       "      <td>70.001868</td>\n",
       "    </tr>\n",
       "    <tr>\n",
       "      <td>75%</td>\n",
       "      <td>208.751220</td>\n",
       "      <td>10.021564</td>\n",
       "      <td>7.590000</td>\n",
       "      <td>1.804552</td>\n",
       "      <td>1602.192498</td>\n",
       "      <td>-499.577361</td>\n",
       "      <td>1602.470070</td>\n",
       "      <td>-499.294431</td>\n",
       "      <td>1601.326123</td>\n",
       "      <td>-499.005700</td>\n",
       "      <td>...</td>\n",
       "      <td>1.596784e+01</td>\n",
       "      <td>-400.930898</td>\n",
       "      <td>15.249457</td>\n",
       "      <td>-499.289757</td>\n",
       "      <td>12.000132</td>\n",
       "      <td>-499.722268</td>\n",
       "      <td>21.035080</td>\n",
       "      <td>-499.372917</td>\n",
       "      <td>89.806426</td>\n",
       "      <td>73.339433</td>\n",
       "    </tr>\n",
       "    <tr>\n",
       "      <td>max</td>\n",
       "      <td>265.983123</td>\n",
       "      <td>20.046764</td>\n",
       "      <td>15.500000</td>\n",
       "      <td>4.102454</td>\n",
       "      <td>1810.767191</td>\n",
       "      <td>-57.195404</td>\n",
       "      <td>1813.083671</td>\n",
       "      <td>-142.527229</td>\n",
       "      <td>1715.053773</td>\n",
       "      <td>-150.937035</td>\n",
       "      <td>...</td>\n",
       "      <td>2.031998e+01</td>\n",
       "      <td>-110.550392</td>\n",
       "      <td>25.258848</td>\n",
       "      <td>-244.483566</td>\n",
       "      <td>14.086866</td>\n",
       "      <td>-137.740004</td>\n",
       "      <td>26.705889</td>\n",
       "      <td>-123.307487</td>\n",
       "      <td>99.169699</td>\n",
       "      <td>100.000000</td>\n",
       "    </tr>\n",
       "  </tbody>\n",
       "</table>\n",
       "<p>8 rows × 54 columns</p>\n",
       "</div>"
      ],
      "text/plain": [
       "       primary_cleaner.input.sulfate  primary_cleaner.input.depressant  \\\n",
       "count                    5105.000000                       5105.000000   \n",
       "mean                      176.436985                          8.692184   \n",
       "std                        41.480857                          3.017628   \n",
       "min                        17.886900                          0.113356   \n",
       "25%                       148.685271                          6.491017   \n",
       "50%                       179.139848                          8.050866   \n",
       "75%                       208.751220                         10.021564   \n",
       "max                       265.983123                         20.046764   \n",
       "\n",
       "       primary_cleaner.input.feed_size  primary_cleaner.input.xanthate  \\\n",
       "count                      5105.000000                     5105.000000   \n",
       "mean                          7.266733                        1.397742   \n",
       "std                           0.602686                        0.635319   \n",
       "min                           5.650000                        0.026293   \n",
       "25%                           6.900000                        0.932579   \n",
       "50%                           7.250000                        1.200587   \n",
       "75%                           7.590000                        1.804552   \n",
       "max                          15.500000                        4.102454   \n",
       "\n",
       "       primary_cleaner.state.floatbank8_a_air  \\\n",
       "count                             5105.000000   \n",
       "mean                              1543.061702   \n",
       "std                                108.322102   \n",
       "min                               1011.533202   \n",
       "25%                               1499.312387   \n",
       "50%                               1591.469085   \n",
       "75%                               1602.192498   \n",
       "max                               1810.767191   \n",
       "\n",
       "       primary_cleaner.state.floatbank8_a_level  \\\n",
       "count                               5105.000000   \n",
       "mean                                -497.751664   \n",
       "std                                   18.216067   \n",
       "min                                 -783.448551   \n",
       "25%                                 -500.352456   \n",
       "50%                                 -499.971252   \n",
       "75%                                 -499.577361   \n",
       "max                                  -57.195404   \n",
       "\n",
       "       primary_cleaner.state.floatbank8_b_air  \\\n",
       "count                             5105.000000   \n",
       "mean                              1549.232616   \n",
       "std                                115.089399   \n",
       "min                               1012.933963   \n",
       "25%                               1499.282228   \n",
       "50%                               1596.465857   \n",
       "75%                               1602.470070   \n",
       "max                               1813.083671   \n",
       "\n",
       "       primary_cleaner.state.floatbank8_b_level  \\\n",
       "count                               5105.000000   \n",
       "mean                                -499.775558   \n",
       "std                                   29.319501   \n",
       "min                                 -799.754942   \n",
       "25%                                 -500.698424   \n",
       "50%                                 -500.028555   \n",
       "75%                                 -499.294431   \n",
       "max                                 -142.527229   \n",
       "\n",
       "       primary_cleaner.state.floatbank8_c_air  \\\n",
       "count                             5105.000000   \n",
       "mean                              1532.319704   \n",
       "std                                114.921977   \n",
       "min                                212.035417   \n",
       "25%                               1484.683655   \n",
       "50%                               1550.223632   \n",
       "75%                               1601.326123   \n",
       "max                               1715.053773   \n",
       "\n",
       "       primary_cleaner.state.floatbank8_c_level  ...  \\\n",
       "count                               5105.000000  ...   \n",
       "mean                                -498.402197  ...   \n",
       "std                                   20.330350  ...   \n",
       "min                                 -786.260257  ...   \n",
       "25%                                 -501.016906  ...   \n",
       "50%                                 -500.022076  ...   \n",
       "75%                                 -499.005700  ...   \n",
       "max                                 -150.937035  ...   \n",
       "\n",
       "       secondary_cleaner.state.floatbank4_b_air  \\\n",
       "count                              5.105000e+03   \n",
       "mean                               1.382773e+01   \n",
       "std                                3.319874e+00   \n",
       "min                                2.489718e-17   \n",
       "25%                                1.208219e+01   \n",
       "50%                                1.496892e+01   \n",
       "75%                                1.596784e+01   \n",
       "max                                2.031998e+01   \n",
       "\n",
       "       secondary_cleaner.state.floatbank4_b_level  \\\n",
       "count                                 5105.000000   \n",
       "mean                                  -463.526653   \n",
       "std                                     82.320796   \n",
       "min                                   -799.868171   \n",
       "25%                                   -500.304036   \n",
       "50%                                   -499.572304   \n",
       "75%                                   -400.930898   \n",
       "max                                   -110.550392   \n",
       "\n",
       "       secondary_cleaner.state.floatbank5_a_air  \\\n",
       "count                               5105.000000   \n",
       "mean                                  12.901717   \n",
       "std                                    2.992253   \n",
       "min                                    6.032592   \n",
       "25%                                   10.926903   \n",
       "50%                                   12.973464   \n",
       "75%                                   15.249457   \n",
       "max                                   25.258848   \n",
       "\n",
       "       secondary_cleaner.state.floatbank5_a_level  \\\n",
       "count                                 5105.000000   \n",
       "mean                                  -500.711541   \n",
       "std                                     14.948015   \n",
       "min                                   -729.475816   \n",
       "25%                                   -500.700592   \n",
       "50%                                   -499.983203   \n",
       "75%                                   -499.289757   \n",
       "max                                   -244.483566   \n",
       "\n",
       "       secondary_cleaner.state.floatbank5_b_air  \\\n",
       "count                               5105.000000   \n",
       "mean                                   9.989147   \n",
       "std                                    2.806506   \n",
       "min                                    2.781642   \n",
       "25%                                    8.069700   \n",
       "50%                                   10.014514   \n",
       "75%                                   12.000132   \n",
       "max                                   14.086866   \n",
       "\n",
       "       secondary_cleaner.state.floatbank5_b_level  \\\n",
       "count                                 5105.000000   \n",
       "mean                                  -495.184784   \n",
       "std                                     33.062771   \n",
       "min                                   -614.076055   \n",
       "25%                                   -500.191063   \n",
       "50%                                   -499.989429   \n",
       "75%                                   -499.722268   \n",
       "max                                   -137.740004   \n",
       "\n",
       "       secondary_cleaner.state.floatbank6_a_air  \\\n",
       "count                               5105.000000   \n",
       "mean                                  17.420905   \n",
       "std                                    4.505128   \n",
       "min                                    0.127304   \n",
       "25%                                   14.003135   \n",
       "50%                                   16.019971   \n",
       "75%                                   21.035080   \n",
       "max                                   26.705889   \n",
       "\n",
       "       secondary_cleaner.state.floatbank6_a_level  rougher.output.recovery  \\\n",
       "count                                 5105.000000              5105.000000   \n",
       "mean                                  -501.180209                86.772032   \n",
       "std                                     37.892051                 5.494631   \n",
       "min                                   -809.741464                10.430587   \n",
       "25%                                   -500.680453                84.837902   \n",
       "50%                                   -500.001374                87.501382   \n",
       "75%                                   -499.372917                89.806426   \n",
       "max                                   -123.307487                99.169699   \n",
       "\n",
       "       final.output.recovery  \n",
       "count            5105.000000  \n",
       "mean               69.161680  \n",
       "std                 7.207293  \n",
       "min                 2.030917  \n",
       "25%                65.866591  \n",
       "50%                70.001868  \n",
       "75%                73.339433  \n",
       "max               100.000000  \n",
       "\n",
       "[8 rows x 54 columns]"
      ]
     },
     "execution_count": 24,
     "metadata": {},
     "output_type": "execute_result"
    }
   ],
   "source": [
    "test_cleaned.describe()"
   ]
  },
  {
   "cell_type": "markdown",
   "metadata": {},
   "source": [
    "### Обучающая выборка."
   ]
  },
  {
   "cell_type": "code",
   "execution_count": 25,
   "metadata": {},
   "outputs": [],
   "source": [
    "train_cleaned = train[test_cleaned.columns.tolist()]\n",
    "\n",
    "train_cleaned = train_cleaned.dropna(subset=['rougher.output.recovery', 'final.output.recovery'])\n",
    "train_cleaned = train_cleaned[train_cleaned['primary_cleaner.input.sulfate'] > 0 &\n",
    "                             (train_cleaned['rougher.output.recovery'] != 0) &\n",
    "                            (train_cleaned['final.output.recovery'] != 0)].reset_index(drop=True)"
   ]
  },
  {
   "cell_type": "code",
   "execution_count": 26,
   "metadata": {},
   "outputs": [
    {
     "data": {
      "text/html": [
       "<div>\n",
       "<style scoped>\n",
       "    .dataframe tbody tr th:only-of-type {\n",
       "        vertical-align: middle;\n",
       "    }\n",
       "\n",
       "    .dataframe tbody tr th {\n",
       "        vertical-align: top;\n",
       "    }\n",
       "\n",
       "    .dataframe thead th {\n",
       "        text-align: right;\n",
       "    }\n",
       "</style>\n",
       "<table border=\"1\" class=\"dataframe\">\n",
       "  <thead>\n",
       "    <tr style=\"text-align: right;\">\n",
       "      <th></th>\n",
       "      <th>0</th>\n",
       "      <th>percent</th>\n",
       "    </tr>\n",
       "  </thead>\n",
       "  <tbody>\n",
       "    <tr>\n",
       "      <td>rougher.state.floatbank10_e_air</td>\n",
       "      <td>435</td>\n",
       "      <td>3.078774</td>\n",
       "    </tr>\n",
       "    <tr>\n",
       "      <td>rougher.input.floatbank11_xanthate</td>\n",
       "      <td>412</td>\n",
       "      <td>2.915988</td>\n",
       "    </tr>\n",
       "    <tr>\n",
       "      <td>secondary_cleaner.state.floatbank2_a_air</td>\n",
       "      <td>216</td>\n",
       "      <td>1.528771</td>\n",
       "    </tr>\n",
       "    <tr>\n",
       "      <td>rougher.input.feed_size</td>\n",
       "      <td>143</td>\n",
       "      <td>1.012103</td>\n",
       "    </tr>\n",
       "    <tr>\n",
       "      <td>rougher.input.feed_pb</td>\n",
       "      <td>100</td>\n",
       "      <td>0.707764</td>\n",
       "    </tr>\n",
       "    <tr>\n",
       "      <td>primary_cleaner.input.xanthate</td>\n",
       "      <td>88</td>\n",
       "      <td>0.622832</td>\n",
       "    </tr>\n",
       "    <tr>\n",
       "      <td>rougher.input.feed_sol</td>\n",
       "      <td>65</td>\n",
       "      <td>0.460047</td>\n",
       "    </tr>\n",
       "  </tbody>\n",
       "</table>\n",
       "</div>"
      ],
      "text/plain": [
       "                                            0   percent\n",
       "rougher.state.floatbank10_e_air           435  3.078774\n",
       "rougher.input.floatbank11_xanthate        412  2.915988\n",
       "secondary_cleaner.state.floatbank2_a_air  216  1.528771\n",
       "rougher.input.feed_size                   143  1.012103\n",
       "rougher.input.feed_pb                     100  0.707764\n",
       "primary_cleaner.input.xanthate             88  0.622832\n",
       "rougher.input.feed_sol                     65  0.460047"
      ]
     },
     "execution_count": 26,
     "metadata": {},
     "output_type": "execute_result"
    }
   ],
   "source": [
    "nan(train_cleaned)"
   ]
  },
  {
   "cell_type": "code",
   "execution_count": 27,
   "metadata": {},
   "outputs": [],
   "source": [
    "train_cleaned = train_cleaned.fillna(method='ffill')"
   ]
  },
  {
   "cell_type": "markdown",
   "metadata": {},
   "source": [
    "# 2. Анализ данных."
   ]
  },
  {
   "cell_type": "markdown",
   "metadata": {},
   "source": [
    "## 2.1. Посмотрю, как меняется концентрация металлов (Au, Ag, Pb) на различных этапах очистки. Опишу выводы."
   ]
  },
  {
   "cell_type": "code",
   "execution_count": 28,
   "metadata": {},
   "outputs": [],
   "source": [
    "def concentration (item, name, f, s):\n",
    "    concentrate = full.columns[full.columns.str.contains(item)]\n",
    "\n",
    "    plt.figure(figsize=(15,6))\n",
    "    sns.boxplot(data=full[concentrate[[2,1,0]]])\n",
    "    sns.set(style='white')\n",
    "    plt.title(name, fontsize=16)\n",
    "    plt.ylim(f, s)\n",
    "    plt.xlabel('Этапы очистки', labelpad=10, fontsize=16)\n",
    "    plt.ylabel('Концентрация', labelpad=15, fontsize=16)\n",
    "    plt.xticks(np.arange(3), ('Флотация','Первичная очистка','Вторичная очистка'))\n",
    "    plt.show()\n",
    "    \n",
    "    print('Флотация:','        ', full[concentrate[2]].mean())\n",
    "    print('Первичная очистка:', full[concentrate[1]].mean())\n",
    "    print('Вторичная очистка:', full[concentrate[0]].mean())"
   ]
  },
  {
   "cell_type": "code",
   "execution_count": 29,
   "metadata": {},
   "outputs": [
    {
     "data": {
      "image/png": "[encoded data removed]",
      "text/plain": [
       "<Figure size 1080x432 with 1 Axes>"
      ]
     },
     "metadata": {},
     "output_type": "display_data"
    },
    {
     "name": "stdout",
     "output_type": "stream",
     "text": [
      "Флотация:          17.879538203033484\n",
      "Первичная очистка: 29.2122887022116\n",
      "Вторичная очистка: 40.001171896007136\n"
     ]
    }
   ],
   "source": [
    "concentration ('concentrate_au', 'Au', -1, 55)"
   ]
  },
  {
   "cell_type": "code",
   "execution_count": 30,
   "metadata": {
    "scrolled": false
   },
   "outputs": [
    {
     "data": {
      "image/png": "[encoded data removed]",
      "text/plain": [
       "<Figure size 1080x432 with 1 Axes>"
      ]
     },
     "metadata": {},
     "output_type": "display_data"
    },
    {
     "name": "stdout",
     "output_type": "stream",
     "text": [
      "Флотация:          6.900646225251443\n",
      "Первичная очистка: 8.921109840609049\n",
      "Вторичная очистка: 9.095308105450266\n"
     ]
    }
   ],
   "source": [
    "concentration ('concentrate_pb', 'Pb', -1, 18)"
   ]
  },
  {
   "cell_type": "code",
   "execution_count": 31,
   "metadata": {
    "scrolled": false
   },
   "outputs": [
    {
     "data": {
      "image/png": "[encoded data removed]",
      "text/plain": [
       "<Figure size 1080x432 with 1 Axes>"
      ]
     },
     "metadata": {},
     "output_type": "display_data"
    },
    {
     "name": "stdout",
     "output_type": "stream",
     "text": [
      "Флотация:          10.874483745395448\n",
      "Первичная очистка: 7.69165176429709\n",
      "Вторичная очистка: 4.781559451695084\n"
     ]
    }
   ],
   "source": [
    "concentration ('concentrate_ag', 'Ag', -1, 25)"
   ]
  },
  {
   "cell_type": "markdown",
   "metadata": {},
   "source": [
    "## Вывод\n",
    "\n",
    "- Концентрация золота и свинца растет видимо из-за близких атомарных масс\n",
    "- Концентрация серебра падает вероятно из-за ионной активности\n"
   ]
  },
  {
   "cell_type": "markdown",
   "metadata": {},
   "source": [
    "### 2.2. Сравню распределения размеров гранул сырья на обучающей и тестовой выборках. Если распределения сильно отличаются друг от друга, оценка модели будет неправильной."
   ]
  },
  {
   "cell_type": "code",
   "execution_count": 32,
   "metadata": {},
   "outputs": [],
   "source": [
    "def fraction (df,  name):\n",
    "    plt.figure(figsize=(16,5))\n",
    "    sns.rugplot(df)\n",
    "    sns.kdeplot(df)\n",
    "    sns.set(style='white')\n",
    "    plt.title(name, fontsize=16)\n",
    "    plt.xlim(20, 140)\n",
    "    plt.ylabel('Фракция', labelpad=15, fontsize=14)\n",
    "    plt.show()\n",
    "\n",
    "    print(name, 'среднее:', df.mean())\n",
    "    print(name, 'медиана:', df.median())"
   ]
  },
  {
   "cell_type": "code",
   "execution_count": 33,
   "metadata": {
    "scrolled": false
   },
   "outputs": [
    {
     "data": {
      "image/png": "[encoded data removed]",
      "text/plain": [
       "<Figure size 1152x360 with 1 Axes>"
      ]
     },
     "metadata": {},
     "output_type": "display_data"
    },
    {
     "name": "stdout",
     "output_type": "stream",
     "text": [
      "Тестовая выборка среднее: 55.917370684651154\n",
      "Тестовая выборка медиана: 51.03322560308957\n"
     ]
    }
   ],
   "source": [
    "fraction(test_cleaned['rougher.input.feed_size'], 'Тестовая выборка')"
   ]
  },
  {
   "cell_type": "code",
   "execution_count": 34,
   "metadata": {},
   "outputs": [
    {
     "data": {
      "image/png": "[encoded data removed]",
      "text/plain": [
       "<Figure size 1152x360 with 1 Axes>"
      ]
     },
     "metadata": {},
     "output_type": "display_data"
    },
    {
     "name": "stdout",
     "output_type": "stream",
     "text": [
      "Обучающая выборка среднее: 60.260784027260215\n",
      "Обучающая выборка медиана: 55.2778792103774\n"
     ]
    }
   ],
   "source": [
    "fraction(train_cleaned['rougher.input.feed_size'], 'Обучающая выборка')"
   ]
  },
  {
   "cell_type": "markdown",
   "metadata": {},
   "source": [
    "## Вывод\n",
    "\n",
    "- За внешней непохожестью скрываются близкие цифры среднего и медианы.\n",
    "- Если обратить внимание на линейный график, то можно заметить что тестовая выборка является сильно апроксимированной обучающей.\n",
    "- Плотность распределения близка.\n",
    "- Ошибка в обучении возможна."
   ]
  },
  {
   "cell_type": "markdown",
   "metadata": {},
   "source": [
    "### 2.3. Исследую суммарную концентрацию всех веществ на разных стадиях: в сырье, в черновом и финальном концентратах. Проверю аномальные значения в суммарном распределении. Если они есть, проверю стоит ли их удалять из обеих выборок."
   ]
  },
  {
   "cell_type": "code",
   "execution_count": 35,
   "metadata": {},
   "outputs": [
    {
     "data": {
      "image/png": "[encoded data removed]",
      "text/plain": [
       "<Figure size 1080x432 with 1 Axes>"
      ]
     },
     "metadata": {},
     "output_type": "display_data"
    },
    {
     "name": "stdout",
     "output_type": "stream",
     "text": [
      "Обучающая выборка: 56.25151546878152\n",
      "Тестовая выборка: 60.33475705324066\n"
     ]
    }
   ],
   "source": [
    "concentrate_train = train_cleaned.columns[train_cleaned.columns.str.contains('feed_ag|feed_au|feed_pb|feed_sol')]\n",
    "train_cleaned['summ'] = train_cleaned[concentrate_train].sum(axis=1)\n",
    "concentrate_test = test_cleaned.columns[test_cleaned.columns.str.contains('feed_ag|feed_au|feed_pb|feed_sol')]\n",
    "test_cleaned['summ'] = test_cleaned[concentrate_train].sum(axis=1)\n",
    "\n",
    "plt.figure(figsize=(15,6))\n",
    "sns.boxplot(data=(train_cleaned['summ'], test_cleaned['summ']))\n",
    "sns.set(style='white')\n",
    "plt.title('Распределение', fontsize=16)\n",
    "plt.ylim(0, 80)\n",
    "plt.ylabel('Концентрация', labelpad=15, fontsize=14)\n",
    "plt.xticks(np.arange(2), ('Обучающая выборка','Тестовая выборка'))\n",
    "plt.show()\n",
    "\n",
    "\n",
    "print('Обучающая выборка:', train_cleaned['summ'].mean())\n",
    "print('Тестовая выборка:', test_cleaned['summ'].mean())"
   ]
  },
  {
   "cell_type": "code",
   "execution_count": 36,
   "metadata": {},
   "outputs": [],
   "source": [
    "def summ (df):\n",
    "    concentrate_feed = df.columns[df.columns.str.contains('feed_ag|feed_au|feed_pb|feed_sol')]\n",
    "    df['summ_feed'] = df[concentrate_feed].sum(axis=1)\n",
    "    \n",
    "    concentrate_rougher = df.columns[df.columns.str.contains('rougher.output.concentrate')]\n",
    "    df['summ_rougher'] = df[concentrate_rougher].sum(axis=1)\n",
    "    \n",
    "    concentrate_final = df.columns[df.columns.str.contains('final.output.concentrate')]\n",
    "    df['summ_final'] = df[concentrate_final].sum(axis=1)\n",
    "    \n",
    "    plt.figure(figsize=(15,6))\n",
    "    sns.boxplot(data=df[['summ_feed', 'summ_rougher', 'summ_final']])\n",
    "\n",
    "    sns.set(style='white')\n",
    "    plt.title('Распределение', fontsize=16)\n",
    "    plt.ylim(0, 100)\n",
    "    plt.xlabel('Этапы очистки', labelpad=15, fontsize=14)\n",
    "    plt.ylabel('Концентрация', labelpad=15, fontsize=14)\n",
    "    plt.xticks(np.arange(3), ('Сырье','Флотация', 'Очистка'))\n",
    "    plt.show()\n",
    "\n",
    "\n",
    "    print('Сырье:', df['summ_feed'].mean())\n",
    "    print('Флотация:', df['summ_rougher'].mean())\n",
    "    print('Очистка:', df['summ_final'].mean())"
   ]
  },
  {
   "cell_type": "code",
   "execution_count": 37,
   "metadata": {},
   "outputs": [
    {
     "data": {
      "image/png": "[encoded data removed]",
      "text/plain": [
       "<Figure size 1080x432 with 1 Axes>"
      ]
     },
     "metadata": {},
     "output_type": "display_data"
    },
    {
     "name": "stdout",
     "output_type": "stream",
     "text": [
      "Сырье: 50.17649557418515\n",
      "Флотация: 59.837826832897356\n",
      "Очистка: 61.19136974862701\n"
     ]
    }
   ],
   "source": [
    "summ(train)"
   ]
  },
  {
   "cell_type": "code",
   "execution_count": 38,
   "metadata": {
    "scrolled": false
   },
   "outputs": [
    {
     "data": {
      "image/png": "[encoded data removed]",
      "text/plain": [
       "<Figure size 1080x432 with 1 Axes>"
      ]
     },
     "metadata": {},
     "output_type": "display_data"
    },
    {
     "name": "stdout",
     "output_type": "stream",
     "text": [
      "Сырье: 51.58407933883095\n",
      "Флотация: 61.37809044184742\n",
      "Очистка: 62.166909548565165\n"
     ]
    }
   ],
   "source": [
    "summ(full)"
   ]
  },
  {
   "cell_type": "markdown",
   "metadata": {},
   "source": [
    "## Вывод\n",
    "\n",
    "- На стадии флотации поднимается общая концентрация\n",
    "- На стадии очистки остается золото (соответственно мы видим сужение диапазона и незначительный рост концентрапции, который на самом деле будет значительным для элемента AU)\n",
    "\n"
   ]
  },
  {
   "cell_type": "code",
   "execution_count": 39,
   "metadata": {},
   "outputs": [],
   "source": [
    "def hist (df):\n",
    "    concentrate_feed = df.columns[df.columns.str.contains('feed_ag|feed_au|feed_pb|feed_sol')]\n",
    "    df['summ_feed'] = df[concentrate_feed].sum(axis=1)\n",
    "\n",
    "    plt.figure(figsize=(16,5))\n",
    "    sns.distplot(df['summ_feed'])\n",
    "    sns.set(style='white')\n",
    "    plt.title('Концентрации веществ', fontsize=16)\n",
    "    plt.show()"
   ]
  },
  {
   "cell_type": "code",
   "execution_count": 40,
   "metadata": {},
   "outputs": [
    {
     "data": {
      "image/png": "[encoded data removed]",
      "text/plain": [
       "<Figure size 1152x360 with 1 Axes>"
      ]
     },
     "metadata": {},
     "output_type": "display_data"
    }
   ],
   "source": [
    "hist(train)"
   ]
  },
  {
   "cell_type": "code",
   "execution_count": 41,
   "metadata": {
    "scrolled": true
   },
   "outputs": [
    {
     "data": {
      "image/png": "[encoded data removed]",
      "text/plain": [
       "<Figure size 1152x360 with 1 Axes>"
      ]
     },
     "metadata": {},
     "output_type": "display_data"
    }
   ],
   "source": [
    "hist(train_cleaned)"
   ]
  },
  {
   "cell_type": "code",
   "execution_count": 42,
   "metadata": {},
   "outputs": [],
   "source": [
    "train_cleaned = train_cleaned.drop('summ_feed', axis = 1)"
   ]
  },
  {
   "cell_type": "markdown",
   "metadata": {},
   "source": [
    "# 3. Построение модели."
   ]
  },
  {
   "cell_type": "markdown",
   "metadata": {},
   "source": [
    "## Функция для вычисления итоговой sMAPE"
   ]
  },
  {
   "cell_type": "code",
   "execution_count": 43,
   "metadata": {},
   "outputs": [],
   "source": [
    "def smape(targets, predictions):\n",
    "    array = (abs(np.array(targets) - predictions) \n",
    "              / \n",
    "             ((abs(np.array(targets)) + abs(predictions)) / 2) * 100\n",
    "             )\n",
    "    smape_of_two = np.sum(array,axis=0)\n",
    "    smape_rougher = smape_of_two[1] / len(array)\n",
    "    smape_final = smape_of_two[0] / len(array)\n",
    "    final_sMAPE = (0.25 * smape_rougher) + (0.75 * smape_final)\n",
    "    return final_sMAPE"
   ]
  },
  {
   "cell_type": "markdown",
   "metadata": {},
   "source": [
    "### Дата теперь не к чему"
   ]
  },
  {
   "cell_type": "code",
   "execution_count": 44,
   "metadata": {},
   "outputs": [],
   "source": [
    "train_cleaned = train_cleaned.drop(['date', 'summ'], axis = 1)\n",
    "test_cleaned = test_cleaned.drop(['date', 'summ'], axis = 1)"
   ]
  },
  {
   "cell_type": "markdown",
   "metadata": {},
   "source": [
    "### Разделю признаки"
   ]
  },
  {
   "cell_type": "code",
   "execution_count": 45,
   "metadata": {},
   "outputs": [],
   "source": [
    "target_train = train_cleaned[['rougher.output.recovery', 'final.output.recovery']]\n",
    "features_train = train_cleaned.drop(['rougher.output.recovery', 'final.output.recovery'], axis = 1)\n",
    "target_test = test_cleaned[['rougher.output.recovery', 'final.output.recovery']]\n",
    "features_test = test_cleaned.drop(['rougher.output.recovery', 'final.output.recovery'], axis = 1)"
   ]
  },
  {
   "cell_type": "markdown",
   "metadata": {},
   "source": [
    "### Метрика кросс валидации"
   ]
  },
  {
   "cell_type": "code",
   "execution_count": 46,
   "metadata": {},
   "outputs": [],
   "source": [
    "def validation(model, features, target):\n",
    "    score = make_scorer(smape)\n",
    "    l_score = cross_val_score(model, features, target, cv=5, scoring=score)\n",
    "    return l_score.mean()"
   ]
  },
  {
   "cell_type": "markdown",
   "metadata": {},
   "source": [
    "### Линейная регрессия"
   ]
  },
  {
   "cell_type": "code",
   "execution_count": 47,
   "metadata": {},
   "outputs": [
    {
     "data": {
      "text/plain": [
       "12.691873761872767"
      ]
     },
     "execution_count": 47,
     "metadata": {},
     "output_type": "execute_result"
    }
   ],
   "source": [
    "linear = LinearRegression().fit(features_train, target_train)\n",
    "validation(linear, features_train, target_train)"
   ]
  },
  {
   "cell_type": "code",
   "execution_count": 48,
   "metadata": {},
   "outputs": [
    {
     "name": "stdout",
     "output_type": "stream",
     "text": [
      "SMAPE: 6.569389674383538\n"
     ]
    }
   ],
   "source": [
    "prediction_linear = linear.predict(features_test)\n",
    "print('SMAPE:', smape(target_test, prediction_linear))"
   ]
  },
  {
   "cell_type": "code",
   "execution_count": null,
   "metadata": {},
   "outputs": [],
   "source": []
  },
  {
   "cell_type": "markdown",
   "metadata": {},
   "source": [
    "### Случайный лес"
   ]
  },
  {
   "cell_type": "code",
   "execution_count": 49,
   "metadata": {
    "scrolled": false
   },
   "outputs": [],
   "source": [
    "#score = make_scorer(smape)\n",
    "#for depth in range(3, 16, 2):\n",
    "    #for estim in range(4, 101, 10):\n",
    "        #forest_regressor = RandomForestRegressor(random_state=42, max_depth=depth, n_estimators=estim)\n",
    "        #smape_score = cross_val_score(forest_regressor, features_train, target_train, cv=5, scoring=score)\n",
    "        \n",
    "        #print('max_depth=', depth, ',', \"n_estimators =\", estim, \" -- \", end='')\n",
    "        #print('smape_score:', smape_score.mean())"
   ]
  },
  {
   "cell_type": "code",
   "execution_count": 50,
   "metadata": {},
   "outputs": [
    {
     "data": {
      "text/plain": [
       "10.723405005985972"
      ]
     },
     "execution_count": 50,
     "metadata": {},
     "output_type": "execute_result"
    }
   ],
   "source": [
    "forest = RandomForestRegressor(n_estimators=76, max_depth=5, random_state=42)\n",
    "smape_score = cross_val_score(forest, features_train, target_train, cv=5, scoring=make_scorer(smape))\n",
    "smape_score.mean()"
   ]
  },
  {
   "cell_type": "code",
   "execution_count": 51,
   "metadata": {},
   "outputs": [
    {
     "name": "stdout",
     "output_type": "stream",
     "text": [
      "SMAPE: 5.6377480205325\n"
     ]
    }
   ],
   "source": [
    "forest.fit(features_train, target_train)\n",
    "prediction_forest = forest.predict(features_test)\n",
    "print('SMAPE:', smape(target_test, prediction_forest))"
   ]
  },
  {
   "cell_type": "markdown",
   "metadata": {},
   "source": [
    "### Lasso"
   ]
  },
  {
   "cell_type": "code",
   "execution_count": 52,
   "metadata": {},
   "outputs": [
    {
     "name": "stderr",
     "output_type": "stream",
     "text": [
      "/opt/conda/lib/python3.7/site-packages/sklearn/linear_model/coordinate_descent.py:475: ConvergenceWarning: Objective did not converge. You might want to increase the number of iterations. Duality gap: 1060.957923492184, tolerance: 121.37149806257378\n",
      "  positive)\n"
     ]
    },
    {
     "data": {
      "text/plain": [
       "11.789448855962267"
      ]
     },
     "execution_count": 52,
     "metadata": {},
     "output_type": "execute_result"
    }
   ],
   "source": [
    "Lasso = Lasso(alpha=0.2)\n",
    "smape_score = cross_val_score(Lasso, features_train, target_train, cv=5, scoring=make_scorer(smape))\n",
    "smape_score.mean()"
   ]
  },
  {
   "cell_type": "code",
   "execution_count": 53,
   "metadata": {},
   "outputs": [
    {
     "name": "stdout",
     "output_type": "stream",
     "text": [
      "SMAPE: 6.564855654803981\n"
     ]
    }
   ],
   "source": [
    "Lasso = Lasso.fit(features_train, target_train)\n",
    "prediction_lasso = Lasso.predict(features_test)\n",
    "print('SMAPE:', smape(target_test, prediction_lasso))"
   ]
  },
  {
   "cell_type": "markdown",
   "metadata": {},
   "source": [
    "## Проверка на адекватность"
   ]
  },
  {
   "cell_type": "code",
   "execution_count": 54,
   "metadata": {},
   "outputs": [],
   "source": [
    "dummy_regr = DummyRegressor(strategy=\"mean\").fit(features_train, target_train)\n",
    "predictions_dummy = dummy_regr.predict(features_test)\n"
   ]
  },
  {
   "cell_type": "code",
   "execution_count": 55,
   "metadata": {},
   "outputs": [],
   "source": [
    "SMAPE_DUMMY = pd.DataFrame(data={'Model': ['Dummy', 'Линейная регрессия', 'Случайный лес','Lasso'], \n",
    "                   'Score': [round(smape(target_test, predictions_dummy),2),\n",
    "                             round(smape(target_test, prediction_linear),2),\n",
    "                             round(smape(target_test, prediction_forest),2),\n",
    "                             round(smape(target_test, prediction_lasso),2)]}).sort_values('Score')"
   ]
  },
  {
   "cell_type": "code",
   "execution_count": 56,
   "metadata": {
    "scrolled": false
   },
   "outputs": [
    {
     "data": {
      "text/html": [
       "<div>\n",
       "<style scoped>\n",
       "    .dataframe tbody tr th:only-of-type {\n",
       "        vertical-align: middle;\n",
       "    }\n",
       "\n",
       "    .dataframe tbody tr th {\n",
       "        vertical-align: top;\n",
       "    }\n",
       "\n",
       "    .dataframe thead th {\n",
       "        text-align: right;\n",
       "    }\n",
       "</style>\n",
       "<table border=\"1\" class=\"dataframe\">\n",
       "  <thead>\n",
       "    <tr style=\"text-align: right;\">\n",
       "      <th></th>\n",
       "      <th>Model</th>\n",
       "      <th>Score</th>\n",
       "    </tr>\n",
       "  </thead>\n",
       "  <tbody>\n",
       "    <tr>\n",
       "      <td>2</td>\n",
       "      <td>Случайный лес</td>\n",
       "      <td>5.64</td>\n",
       "    </tr>\n",
       "    <tr>\n",
       "      <td>3</td>\n",
       "      <td>Lasso</td>\n",
       "      <td>6.56</td>\n",
       "    </tr>\n",
       "    <tr>\n",
       "      <td>1</td>\n",
       "      <td>Линейная регрессия</td>\n",
       "      <td>6.57</td>\n",
       "    </tr>\n",
       "    <tr>\n",
       "      <td>0</td>\n",
       "      <td>Dummy</td>\n",
       "      <td>7.16</td>\n",
       "    </tr>\n",
       "  </tbody>\n",
       "</table>\n",
       "</div>"
      ],
      "text/plain": [
       "                Model  Score\n",
       "2       Случайный лес   5.64\n",
       "3               Lasso   6.56\n",
       "1  Линейная регрессия   6.57\n",
       "0               Dummy   7.16"
      ]
     },
     "execution_count": 56,
     "metadata": {},
     "output_type": "execute_result"
    }
   ],
   "source": [
    "SMAPE_DUMMY"
   ]
  },
  {
   "cell_type": "code",
   "execution_count": 57,
   "metadata": {},
   "outputs": [],
   "source": [
    "target_constant = target_test[['rougher.output.recovery','final.output.recovery']]\n",
    "target_constant['rougher.output.recovery'] = target_train['rougher.output.recovery'].median()\n",
    "target_constant['final.output.recovery'] = target_train['final.output.recovery'].median()"
   ]
  },
  {
   "cell_type": "code",
   "execution_count": 58,
   "metadata": {},
   "outputs": [],
   "source": [
    "SMAPE_CONSTANT = pd.DataFrame(data={'Model': ['Константа','Линейная регрессия', 'Случайный лес','Lasso'], \n",
    "                   'Score': [round(smape(target_test, target_constant),2),\n",
    "                             round(smape(target_test, prediction_linear),2),\n",
    "                             round(smape(target_test, prediction_forest),2),\n",
    "                             round(smape(target_test, prediction_lasso),2)]}).sort_values('Score')"
   ]
  },
  {
   "cell_type": "code",
   "execution_count": 59,
   "metadata": {},
   "outputs": [
    {
     "data": {
      "text/html": [
       "<div>\n",
       "<style scoped>\n",
       "    .dataframe tbody tr th:only-of-type {\n",
       "        vertical-align: middle;\n",
       "    }\n",
       "\n",
       "    .dataframe tbody tr th {\n",
       "        vertical-align: top;\n",
       "    }\n",
       "\n",
       "    .dataframe thead th {\n",
       "        text-align: right;\n",
       "    }\n",
       "</style>\n",
       "<table border=\"1\" class=\"dataframe\">\n",
       "  <thead>\n",
       "    <tr style=\"text-align: right;\">\n",
       "      <th></th>\n",
       "      <th>Model</th>\n",
       "      <th>Score</th>\n",
       "    </tr>\n",
       "  </thead>\n",
       "  <tbody>\n",
       "    <tr>\n",
       "      <td>2</td>\n",
       "      <td>Случайный лес</td>\n",
       "      <td>5.64</td>\n",
       "    </tr>\n",
       "    <tr>\n",
       "      <td>0</td>\n",
       "      <td>Константа</td>\n",
       "      <td>5.66</td>\n",
       "    </tr>\n",
       "    <tr>\n",
       "      <td>3</td>\n",
       "      <td>Lasso</td>\n",
       "      <td>6.56</td>\n",
       "    </tr>\n",
       "    <tr>\n",
       "      <td>1</td>\n",
       "      <td>Линейная регрессия</td>\n",
       "      <td>6.57</td>\n",
       "    </tr>\n",
       "  </tbody>\n",
       "</table>\n",
       "</div>"
      ],
      "text/plain": [
       "                Model  Score\n",
       "2       Случайный лес   5.64\n",
       "0           Константа   5.66\n",
       "3               Lasso   6.56\n",
       "1  Линейная регрессия   6.57"
      ]
     },
     "execution_count": 59,
     "metadata": {},
     "output_type": "execute_result"
    }
   ],
   "source": [
    "SMAPE_CONSTANT"
   ]
  },
  {
   "cell_type": "markdown",
   "metadata": {},
   "source": [
    "# Вывод: \n",
    "# - Лучший smape на тестовой выборке по среднему показывает модель Cлучайного леса.\n",
    "# - Единственно возможный скор для принятия модели по медиане показывает модель Случайного леса."
   ]
  },
  {
   "cell_type": "code",
   "execution_count": null,
   "metadata": {},
   "outputs": [],
   "source": []
  }
 ],
 "metadata": {
  "kernelspec": {
   "display_name": "Python 3",
   "language": "python",
   "name": "python3"
  },
  "language_info": {
   "codemirror_mode": {
    "name": "ipython",
    "version": 3
   },
   "file_extension": ".py",
   "mimetype": "text/x-python",
   "name": "python",
   "nbconvert_exporter": "python",
   "pygments_lexer": "ipython3",
   "version": "3.7.6"
  }
 },
 "nbformat": 4,
 "nbformat_minor": 2
}
