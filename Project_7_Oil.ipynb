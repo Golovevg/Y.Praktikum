{
 "cells": [
  {
   "cell_type": "markdown",
   "metadata": {},
   "source": [
    "<font color=darkblue> \n",
    "\n",
    "## Описание задачи\n",
    "___\n",
    "    \n",
    "### Нужно решить, где бурить новую скважину.\n",
    "#### Шаги для выбора локации:\n",
    " - В избранном регионе собирают характеристики для скважин: качество нефти и объём её запасов;\n",
    " - Строят модель для предсказания объёма запасов в новых скважинах;\n",
    " - Выбирают скважины с самыми высокими оценками значений;\n",
    " - Определяют регион с максимальной суммарной прибылью отобранных скважин."
   ]
  },
  {
   "cell_type": "markdown",
   "metadata": {},
   "source": [
    "## Описание данных\n",
    "\n",
    " - id — уникальный идентификатор скважины;\n",
    " - f0, f1, f2 — три признака точек (неважно, что они означают, но сами признаки значимы);\n",
    " - product — объём запасов в скважине (тыс. баррелей)."
   ]
  },
  {
   "cell_type": "markdown",
   "metadata": {},
   "source": [
    "## Вызываю библиотеки"
   ]
  },
  {
   "cell_type": "code",
   "execution_count": 1,
   "metadata": {},
   "outputs": [],
   "source": [
    "import pandas as pd\n",
    "import numpy as np\n",
    "from sklearn.model_selection import train_test_split\n",
    "from sklearn.linear_model import LinearRegression\n",
    "from sklearn.metrics import mean_squared_error\n",
    "from numpy.random import RandomState\n",
    "from scipy import stats as st"
   ]
  },
  {
   "cell_type": "markdown",
   "metadata": {},
   "source": [
    "<font color=darkblue> \n",
    "# Подготовка данных"
   ]
  },
  {
   "cell_type": "markdown",
   "metadata": {},
   "source": [
    "## 1. Открываю датасеты"
   ]
  },
  {
   "cell_type": "code",
   "execution_count": 2,
   "metadata": {},
   "outputs": [],
   "source": [
    "region_1 = pd.read_csv('geo_data_0.csv')\n",
    "region_2 = pd.read_csv('geo_data_1.csv')\n",
    "region_3 = pd.read_csv('geo_data_2.csv')"
   ]
  },
  {
   "cell_type": "markdown",
   "metadata": {},
   "source": [
    "## 2. Обучу модель, получу RMSE и среднее"
   ]
  },
  {
   "cell_type": "code",
   "execution_count": 3,
   "metadata": {},
   "outputs": [],
   "source": [
    "def model(df):\n",
    "    features = df.drop(['product', 'id'], axis = 1)\n",
    "    target = df['product']\n",
    "    features_train, features_valid, target_train, target_valid = train_test_split(\n",
    "        features, target, test_size=0.25, random_state=12345)\n",
    "    model = LinearRegression(n_jobs= -1).fit(features_train, target_train)\n",
    "    predictions = model.predict(features_valid)\n",
    "    df['predicted'] = model.predict(features)\n",
    "    mean = predictions.mean()\n",
    "    print('Среднее предсказанного', predictions.mean())\n",
    "    print('Среднее выборки', target_train.mean()) \n",
    "    print('RMSE', mean_squared_error(target_valid, predictions)**0.5)\n",
    "    return target, predictions, mean"
   ]
  },
  {
   "cell_type": "markdown",
   "metadata": {},
   "source": [
    "### Регион 1"
   ]
  },
  {
   "cell_type": "code",
   "execution_count": 4,
   "metadata": {
    "scrolled": true
   },
   "outputs": [
    {
     "name": "stdout",
     "output_type": "stream",
     "text": [
      "Среднее предсказанного 92.59256778438038\n",
      "Среднее выборки 92.6404677530568\n",
      "RMSE 37.5794217150813\n"
     ]
    }
   ],
   "source": [
    "target_1, predictions_1, mean_1 = model(region_1)"
   ]
  },
  {
   "cell_type": "code",
   "execution_count": 5,
   "metadata": {},
   "outputs": [
    {
     "data": {
      "text/html": [
       "<div>\n",
       "<style scoped>\n",
       "    .dataframe tbody tr th:only-of-type {\n",
       "        vertical-align: middle;\n",
       "    }\n",
       "\n",
       "    .dataframe tbody tr th {\n",
       "        vertical-align: top;\n",
       "    }\n",
       "\n",
       "    .dataframe thead th {\n",
       "        text-align: right;\n",
       "    }\n",
       "</style>\n",
       "<table border=\"1\" class=\"dataframe\">\n",
       "  <thead>\n",
       "    <tr style=\"text-align: right;\">\n",
       "      <th></th>\n",
       "      <th>id</th>\n",
       "      <th>f0</th>\n",
       "      <th>f1</th>\n",
       "      <th>f2</th>\n",
       "      <th>product</th>\n",
       "      <th>predicted</th>\n",
       "    </tr>\n",
       "  </thead>\n",
       "  <tbody>\n",
       "    <tr>\n",
       "      <td>0</td>\n",
       "      <td>txEyH</td>\n",
       "      <td>0.705745</td>\n",
       "      <td>-0.497823</td>\n",
       "      <td>1.221170</td>\n",
       "      <td>105.280062</td>\n",
       "      <td>95.461973</td>\n",
       "    </tr>\n",
       "    <tr>\n",
       "      <td>1</td>\n",
       "      <td>2acmU</td>\n",
       "      <td>1.334711</td>\n",
       "      <td>-0.340164</td>\n",
       "      <td>4.365080</td>\n",
       "      <td>73.037750</td>\n",
       "      <td>116.227394</td>\n",
       "    </tr>\n",
       "    <tr>\n",
       "      <td>2</td>\n",
       "      <td>409Wp</td>\n",
       "      <td>1.022732</td>\n",
       "      <td>0.151990</td>\n",
       "      <td>1.419926</td>\n",
       "      <td>85.265647</td>\n",
       "      <td>88.750254</td>\n",
       "    </tr>\n",
       "    <tr>\n",
       "      <td>3</td>\n",
       "      <td>iJLyR</td>\n",
       "      <td>-0.032172</td>\n",
       "      <td>0.139033</td>\n",
       "      <td>2.978566</td>\n",
       "      <td>168.620776</td>\n",
       "      <td>95.419237</td>\n",
       "    </tr>\n",
       "    <tr>\n",
       "      <td>4</td>\n",
       "      <td>Xdl7t</td>\n",
       "      <td>1.988431</td>\n",
       "      <td>0.155413</td>\n",
       "      <td>4.751769</td>\n",
       "      <td>154.036647</td>\n",
       "      <td>114.138969</td>\n",
       "    </tr>\n",
       "  </tbody>\n",
       "</table>\n",
       "</div>"
      ],
      "text/plain": [
       "      id        f0        f1        f2     product   predicted\n",
       "0  txEyH  0.705745 -0.497823  1.221170  105.280062   95.461973\n",
       "1  2acmU  1.334711 -0.340164  4.365080   73.037750  116.227394\n",
       "2  409Wp  1.022732  0.151990  1.419926   85.265647   88.750254\n",
       "3  iJLyR -0.032172  0.139033  2.978566  168.620776   95.419237\n",
       "4  Xdl7t  1.988431  0.155413  4.751769  154.036647  114.138969"
      ]
     },
     "execution_count": 5,
     "metadata": {},
     "output_type": "execute_result"
    }
   ],
   "source": [
    "region_1.head()"
   ]
  },
  {
   "cell_type": "markdown",
   "metadata": {},
   "source": [
    "### Регион 2"
   ]
  },
  {
   "cell_type": "code",
   "execution_count": 6,
   "metadata": {},
   "outputs": [
    {
     "name": "stdout",
     "output_type": "stream",
     "text": [
      "Среднее предсказанного 68.72854689544602\n",
      "Среднее выборки 68.85895465857708\n",
      "RMSE 0.893099286775616\n"
     ]
    }
   ],
   "source": [
    "target_2, predictions_2, mean_2 = model(region_2)"
   ]
  },
  {
   "cell_type": "code",
   "execution_count": 7,
   "metadata": {},
   "outputs": [
    {
     "data": {
      "text/html": [
       "<div>\n",
       "<style scoped>\n",
       "    .dataframe tbody tr th:only-of-type {\n",
       "        vertical-align: middle;\n",
       "    }\n",
       "\n",
       "    .dataframe tbody tr th {\n",
       "        vertical-align: top;\n",
       "    }\n",
       "\n",
       "    .dataframe thead th {\n",
       "        text-align: right;\n",
       "    }\n",
       "</style>\n",
       "<table border=\"1\" class=\"dataframe\">\n",
       "  <thead>\n",
       "    <tr style=\"text-align: right;\">\n",
       "      <th></th>\n",
       "      <th>id</th>\n",
       "      <th>f0</th>\n",
       "      <th>f1</th>\n",
       "      <th>f2</th>\n",
       "      <th>product</th>\n",
       "      <th>predicted</th>\n",
       "    </tr>\n",
       "  </thead>\n",
       "  <tbody>\n",
       "    <tr>\n",
       "      <td>0</td>\n",
       "      <td>kBEdx</td>\n",
       "      <td>-15.001348</td>\n",
       "      <td>-8.276000</td>\n",
       "      <td>-0.005876</td>\n",
       "      <td>3.179103</td>\n",
       "      <td>3.853530</td>\n",
       "    </tr>\n",
       "    <tr>\n",
       "      <td>1</td>\n",
       "      <td>62mP7</td>\n",
       "      <td>14.272088</td>\n",
       "      <td>-3.475083</td>\n",
       "      <td>0.999183</td>\n",
       "      <td>26.953261</td>\n",
       "      <td>26.592376</td>\n",
       "    </tr>\n",
       "    <tr>\n",
       "      <td>2</td>\n",
       "      <td>vyE1P</td>\n",
       "      <td>6.263187</td>\n",
       "      <td>-5.948386</td>\n",
       "      <td>5.001160</td>\n",
       "      <td>134.766305</td>\n",
       "      <td>135.665691</td>\n",
       "    </tr>\n",
       "    <tr>\n",
       "      <td>3</td>\n",
       "      <td>KcrkZ</td>\n",
       "      <td>-13.081196</td>\n",
       "      <td>-11.506057</td>\n",
       "      <td>4.999415</td>\n",
       "      <td>137.945408</td>\n",
       "      <td>138.544872</td>\n",
       "    </tr>\n",
       "    <tr>\n",
       "      <td>4</td>\n",
       "      <td>AHL4O</td>\n",
       "      <td>12.702195</td>\n",
       "      <td>-8.147433</td>\n",
       "      <td>5.004363</td>\n",
       "      <td>134.766305</td>\n",
       "      <td>134.867164</td>\n",
       "    </tr>\n",
       "  </tbody>\n",
       "</table>\n",
       "</div>"
      ],
      "text/plain": [
       "      id         f0         f1        f2     product   predicted\n",
       "0  kBEdx -15.001348  -8.276000 -0.005876    3.179103    3.853530\n",
       "1  62mP7  14.272088  -3.475083  0.999183   26.953261   26.592376\n",
       "2  vyE1P   6.263187  -5.948386  5.001160  134.766305  135.665691\n",
       "3  KcrkZ -13.081196 -11.506057  4.999415  137.945408  138.544872\n",
       "4  AHL4O  12.702195  -8.147433  5.004363  134.766305  134.867164"
      ]
     },
     "execution_count": 7,
     "metadata": {},
     "output_type": "execute_result"
    }
   ],
   "source": [
    "region_2.head()"
   ]
  },
  {
   "cell_type": "markdown",
   "metadata": {},
   "source": [
    "### Регион 3"
   ]
  },
  {
   "cell_type": "code",
   "execution_count": 8,
   "metadata": {},
   "outputs": [
    {
     "name": "stdout",
     "output_type": "stream",
     "text": [
      "Среднее предсказанного 94.96504596800489\n",
      "Среднее выборки 95.03858906371578\n",
      "RMSE 40.02970873393434\n"
     ]
    }
   ],
   "source": [
    "target_3, predictions_3, mean_3 = model(region_3)"
   ]
  },
  {
   "cell_type": "code",
   "execution_count": 9,
   "metadata": {
    "scrolled": true
   },
   "outputs": [
    {
     "data": {
      "text/html": [
       "<div>\n",
       "<style scoped>\n",
       "    .dataframe tbody tr th:only-of-type {\n",
       "        vertical-align: middle;\n",
       "    }\n",
       "\n",
       "    .dataframe tbody tr th {\n",
       "        vertical-align: top;\n",
       "    }\n",
       "\n",
       "    .dataframe thead th {\n",
       "        text-align: right;\n",
       "    }\n",
       "</style>\n",
       "<table border=\"1\" class=\"dataframe\">\n",
       "  <thead>\n",
       "    <tr style=\"text-align: right;\">\n",
       "      <th></th>\n",
       "      <th>id</th>\n",
       "      <th>f0</th>\n",
       "      <th>f1</th>\n",
       "      <th>f2</th>\n",
       "      <th>product</th>\n",
       "      <th>predicted</th>\n",
       "    </tr>\n",
       "  </thead>\n",
       "  <tbody>\n",
       "    <tr>\n",
       "      <td>0</td>\n",
       "      <td>fwXo0</td>\n",
       "      <td>-1.146987</td>\n",
       "      <td>0.963328</td>\n",
       "      <td>-0.828965</td>\n",
       "      <td>27.758673</td>\n",
       "      <td>75.968506</td>\n",
       "    </tr>\n",
       "    <tr>\n",
       "      <td>1</td>\n",
       "      <td>WJtFt</td>\n",
       "      <td>0.262778</td>\n",
       "      <td>0.269839</td>\n",
       "      <td>-2.530187</td>\n",
       "      <td>56.069697</td>\n",
       "      <td>66.329664</td>\n",
       "    </tr>\n",
       "    <tr>\n",
       "      <td>2</td>\n",
       "      <td>ovLUW</td>\n",
       "      <td>0.194587</td>\n",
       "      <td>0.289035</td>\n",
       "      <td>-5.586433</td>\n",
       "      <td>62.871910</td>\n",
       "      <td>48.880039</td>\n",
       "    </tr>\n",
       "    <tr>\n",
       "      <td>3</td>\n",
       "      <td>q6cA6</td>\n",
       "      <td>2.236060</td>\n",
       "      <td>-0.553760</td>\n",
       "      <td>0.930038</td>\n",
       "      <td>114.572842</td>\n",
       "      <td>86.178035</td>\n",
       "    </tr>\n",
       "    <tr>\n",
       "      <td>4</td>\n",
       "      <td>WPMUX</td>\n",
       "      <td>-0.515993</td>\n",
       "      <td>1.716266</td>\n",
       "      <td>5.899011</td>\n",
       "      <td>149.600746</td>\n",
       "      <td>114.363434</td>\n",
       "    </tr>\n",
       "  </tbody>\n",
       "</table>\n",
       "</div>"
      ],
      "text/plain": [
       "      id        f0        f1        f2     product   predicted\n",
       "0  fwXo0 -1.146987  0.963328 -0.828965   27.758673   75.968506\n",
       "1  WJtFt  0.262778  0.269839 -2.530187   56.069697   66.329664\n",
       "2  ovLUW  0.194587  0.289035 -5.586433   62.871910   48.880039\n",
       "3  q6cA6  2.236060 -0.553760  0.930038  114.572842   86.178035\n",
       "4  WPMUX -0.515993  1.716266  5.899011  149.600746  114.363434"
      ]
     },
     "execution_count": 9,
     "metadata": {},
     "output_type": "execute_result"
    }
   ],
   "source": [
    "region_3.head()"
   ]
  },
  {
   "cell_type": "markdown",
   "metadata": {},
   "source": [
    "<font color=darkgreen> \n",
    "\n",
    "# Вывод\n",
    " \n",
    " ###  Самый маленький разброс у региона №2, но у него и самые низкие средние предсказанные прибыли, возможно у него будут самые низкие риски или выше стабильность."
   ]
  },
  {
   "cell_type": "markdown",
   "metadata": {},
   "source": [
    "## 3. Подготовка к рассчету прибыли"
   ]
  },
  {
   "cell_type": "markdown",
   "metadata": {},
   "source": [
    "### Норма безубыточности для скважины (барелли)"
   ]
  },
  {
   "cell_type": "code",
   "execution_count": 10,
   "metadata": {},
   "outputs": [],
   "source": [
    "budget = 10**9\n",
    "chink_numbers = 10**4\n",
    "profit = 45*10**4\n",
    "all_chink_vol = (budget/chink_numbers)/profit"
   ]
  },
  {
   "cell_type": "code",
   "execution_count": 11,
   "metadata": {},
   "outputs": [
    {
     "data": {
      "text/plain": [
       "0.2222222222222222"
      ]
     },
     "execution_count": 11,
     "metadata": {},
     "output_type": "execute_result"
    }
   ],
   "source": [
    "all_chink_vol"
   ]
  },
  {
   "cell_type": "markdown",
   "metadata": {},
   "source": [
    "### Норма безубыточности для 200 скважин,  барель"
   ]
  },
  {
   "cell_type": "code",
   "execution_count": 12,
   "metadata": {},
   "outputs": [],
   "source": [
    "volume_200 = (budget/200)/profit"
   ]
  },
  {
   "cell_type": "code",
   "execution_count": 13,
   "metadata": {},
   "outputs": [
    {
     "data": {
      "text/plain": [
       "11.11111111111111"
      ]
     },
     "execution_count": 13,
     "metadata": {},
     "output_type": "execute_result"
    }
   ],
   "source": [
    "volume_200"
   ]
  },
  {
   "cell_type": "markdown",
   "metadata": {},
   "source": [
    "### Валовая средняя прибыль для скважины по локации"
   ]
  },
  {
   "cell_type": "code",
   "execution_count": 14,
   "metadata": {},
   "outputs": [],
   "source": [
    "def income(x):\n",
    "    income = round((x*profit) - (budget/profit))\n",
    "    return income"
   ]
  },
  {
   "cell_type": "code",
   "execution_count": 15,
   "metadata": {},
   "outputs": [
    {
     "name": "stdout",
     "output_type": "stream",
     "text": [
      "Валовая локации 1: 41664433.0 Валовая локации 2: 30925624.0 Валовая локации 1: 42732048.0\n"
     ]
    }
   ],
   "source": [
    "print('Валовая локации 1:',income(predictions_1.mean()), 'Валовая локации 2:', \n",
    "      income(predictions_2.mean()), 'Валовая локации 1:',income(predictions_3.mean()))"
   ]
  },
  {
   "cell_type": "markdown",
   "metadata": {},
   "source": [
    "<font color=darkgreen> \n",
    "\n",
    "# Вывод\n",
    " \n",
    " ###  Ожидаемо самая низкая средняя валовая прибыль у региона 2, но мы не знаем выбросов по регионам 1 и 3, возможно там самые богатые месторождения. Проверим медианы, чтобы подтвердить теорию."
   ]
  },
  {
   "cell_type": "code",
   "execution_count": 16,
   "metadata": {},
   "outputs": [
    {
     "data": {
      "text/plain": [
       "91.84997204396296"
      ]
     },
     "execution_count": 16,
     "metadata": {},
     "output_type": "execute_result"
    }
   ],
   "source": [
    "region_1['product'].median()"
   ]
  },
  {
   "cell_type": "code",
   "execution_count": 17,
   "metadata": {},
   "outputs": [
    {
     "data": {
      "text/plain": [
       "57.08562464628662"
      ]
     },
     "execution_count": 17,
     "metadata": {},
     "output_type": "execute_result"
    }
   ],
   "source": [
    "region_2['product'].median()"
   ]
  },
  {
   "cell_type": "code",
   "execution_count": 18,
   "metadata": {
    "scrolled": true
   },
   "outputs": [
    {
     "data": {
      "text/plain": [
       "94.92561258990246"
      ]
     },
     "execution_count": 18,
     "metadata": {},
     "output_type": "execute_result"
    }
   ],
   "source": [
    "region_3['product'].median()"
   ]
  },
  {
   "cell_type": "markdown",
   "metadata": {},
   "source": [
    "<font color=darkgreen> \n",
    " \n",
    " ###  Медианы близки, а это значит что экстремально больших или малых значений, способных повлиять на среднее, в большом количестве в выборке нет."
   ]
  },
  {
   "cell_type": "markdown",
   "metadata": {},
   "source": [
    "## 4. Прибыль по выбранным скважинам"
   ]
  },
  {
   "cell_type": "code",
   "execution_count": 19,
   "metadata": {},
   "outputs": [],
   "source": [
    "def revenue(df):\n",
    "    sort_predicted = df.sort_values('predicted', ascending = False).head(200)\n",
    "    sort_real = df[df.index.isin(sort_predicted.index)]\n",
    "    revenue = sort_real['product'].sum()*profit\n",
    "    return revenue"
   ]
  },
  {
   "cell_type": "markdown",
   "metadata": {},
   "source": [
    "### Регион 1"
   ]
  },
  {
   "cell_type": "code",
   "execution_count": 20,
   "metadata": {
    "scrolled": true
   },
   "outputs": [
    {
     "name": "stdout",
     "output_type": "stream",
     "text": [
      "Доход по предсказаниям 13494104192.112015\n"
     ]
    }
   ],
   "source": [
    "print ('Доход по предсказаниям', revenue(region_1))\n"
   ]
  },
  {
   "cell_type": "markdown",
   "metadata": {},
   "source": [
    "### Регион 2"
   ]
  },
  {
   "cell_type": "code",
   "execution_count": 21,
   "metadata": {
    "scrolled": true
   },
   "outputs": [
    {
     "name": "stdout",
     "output_type": "stream",
     "text": [
      "Доход по предсказаниям 12415086696.68151\n"
     ]
    }
   ],
   "source": [
    "print ('Доход по предсказаниям', revenue(region_2))"
   ]
  },
  {
   "cell_type": "markdown",
   "metadata": {},
   "source": [
    "### Регион 3"
   ]
  },
  {
   "cell_type": "code",
   "execution_count": 22,
   "metadata": {
    "scrolled": false
   },
   "outputs": [
    {
     "name": "stdout",
     "output_type": "stream",
     "text": [
      "Доход по предсказаниям 12571410631.960928\n"
     ]
    }
   ],
   "source": [
    "print ('Доход по предсказаниям', revenue(region_3))"
   ]
  },
  {
   "cell_type": "markdown",
   "metadata": {},
   "source": [
    "<font color=darkgreen> \n",
    "\n",
    "# Вывод\n",
    " \n",
    " ###  В случае с топовыми месторождениями картина изменилась. Регион 2 теперь не на много уступает остальным, но как мы помним у него меньший разброс. Проверим разброс по топовым значениям."
   ]
  },
  {
   "cell_type": "code",
   "execution_count": 23,
   "metadata": {},
   "outputs": [],
   "source": [
    "def RMSE200(df):\n",
    "    sort_predicted = df.sort_values('predicted', ascending = False).head(200)\n",
    "    sort_real = df[df.index.isin(sort_predicted.index)]\n",
    "    rmse = mean_squared_error(sort_real['product'], sort_real['predicted'])**0.5\n",
    "    return rmse"
   ]
  },
  {
   "cell_type": "code",
   "execution_count": 24,
   "metadata": {},
   "outputs": [
    {
     "name": "stdout",
     "output_type": "stream",
     "text": [
      "RMSE200 регион 1 27.63077525318097\n"
     ]
    }
   ],
   "source": [
    "print('RMSE200 регион 1', RMSE200(region_1))"
   ]
  },
  {
   "cell_type": "code",
   "execution_count": 25,
   "metadata": {},
   "outputs": [
    {
     "name": "stdout",
     "output_type": "stream",
     "text": [
      "RMSE регион 2 1.243325644367077\n"
     ]
    }
   ],
   "source": [
    "print('RMSE регион 2', RMSE200(region_2))"
   ]
  },
  {
   "cell_type": "code",
   "execution_count": 26,
   "metadata": {},
   "outputs": [
    {
     "name": "stdout",
     "output_type": "stream",
     "text": [
      "RMSE регион 3 32.540791245595166\n"
     ]
    }
   ],
   "source": [
    "print('RMSE регион 3', RMSE200(region_3))"
   ]
  },
  {
   "cell_type": "markdown",
   "metadata": {},
   "source": [
    "<font color=darkgreen> \n",
    " \n",
    " ###  В случае с топовыми месторождениями разброс региона 2 увеличился, но тем не менее остается на порядки выше, чем у конкурентов."
   ]
  },
  {
   "cell_type": "markdown",
   "metadata": {},
   "source": [
    "## 5. Риски и прибыль для каждого региона"
   ]
  },
  {
   "cell_type": "code",
   "execution_count": 27,
   "metadata": {},
   "outputs": [],
   "source": [
    "def risks_profit(df):\n",
    "    alpha = .95\n",
    "    random_state = np.random.RandomState(12345)\n",
    "    bootstrap_samples = 1000\n",
    "    target = df['product']\n",
    "    predictions = df['predicted']\n",
    "    profits = []\n",
    "    riscs = []\n",
    "    for i in range (bootstrap_samples):\n",
    "        target_subsample = target.sample(500, replace = True, random_state = random_state)\n",
    "        data = df[df.index.isin(target_subsample.index)]\n",
    "        local_rev = revenue(data)\n",
    "        profits.append(local_rev - budget)\n",
    "        riscs.append((local_rev - budget) < 0)\n",
    "    profits = pd.Series(profits)\n",
    "    riscs = pd.Series(riscs)\n",
    "    mean_profit = profits.mean()\n",
    "    risc_percent = riscs.mean()\n",
    "    confidence_interval = st.t.interval(alpha, len(profits)-1, loc=profits.mean(), scale=profits.sem())\n",
    "    print('Средняя прибыль', mean_profit)\n",
    "    print('Доверительный интервал', confidence_interval)\n",
    "    print('Риск убытков', risc_percent,'%')\n",
    "    "
   ]
  },
  {
   "cell_type": "code",
   "execution_count": 28,
   "metadata": {},
   "outputs": [
    {
     "name": "stdout",
     "output_type": "stream",
     "text": [
      "Средняя прибыль 9420090221.952744\n",
      "Доверительный интервал (9403530978.684, 9436649465.221487)\n",
      "Риск убытков 0.0 %\n"
     ]
    }
   ],
   "source": [
    "risks_profit(region_1)"
   ]
  },
  {
   "cell_type": "code",
   "execution_count": 29,
   "metadata": {
    "scrolled": true
   },
   "outputs": [
    {
     "name": "stdout",
     "output_type": "stream",
     "text": [
      "Средняя прибыль 9441557582.849234\n",
      "Доверительный интервал (9429306245.729893, 9453808919.968575)\n",
      "Риск убытков 0.0 %\n"
     ]
    }
   ],
   "source": [
    "risks_profit(region_2)"
   ]
  },
  {
   "cell_type": "code",
   "execution_count": 30,
   "metadata": {},
   "outputs": [
    {
     "name": "stdout",
     "output_type": "stream",
     "text": [
      "Средняя прибыль 9370724217.804531\n",
      "Доверительный интервал (9353708565.596891, 9387739870.01217)\n",
      "Риск убытков 0.0 %\n"
     ]
    }
   ],
   "source": [
    "risks_profit(region_3)"
   ]
  },
  {
   "cell_type": "markdown",
   "metadata": {},
   "source": [
    "<font color=darkgreen> \n",
    "\n",
    "# Вывод\n",
    " \n",
    " ###  Все регионы перспективны для разработки и дадут близкую прибыль, а риски равны 0. Если затарты на разработку сопоставимы и условия эдентичны, то наиболее привлекательные месторождения расположились в порядке: \n",
    "### - Регион 2\n",
    "### - Регион 1\n",
    "### - Регион 3\n",
    "### Помимо прочьего регион 2 будет давать равномерную загрузку по скважинам."
   ]
  },
  {
   "cell_type": "code",
   "execution_count": null,
   "metadata": {},
   "outputs": [],
   "source": []
  }
 ],
 "metadata": {
  "kernelspec": {
   "display_name": "Python 3",
   "language": "python",
   "name": "python3"
  },
  "language_info": {
   "codemirror_mode": {
    "name": "ipython",
    "version": 3
   },
   "file_extension": ".py",
   "mimetype": "text/x-python",
   "name": "python",
   "nbconvert_exporter": "python",
   "pygments_lexer": "ipython3",
   "version": "3.7.4"
  }
 },
 "nbformat": 4,
 "nbformat_minor": 2
}
